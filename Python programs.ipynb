{
 "cells": [
  {
   "cell_type": "code",
   "execution_count": 1,
   "id": "53a2a14d",
   "metadata": {},
   "outputs": [
    {
     "name": "stdout",
     "output_type": "stream",
     "text": [
      "Sum of the array is 34\n"
     ]
    }
   ],
   "source": [
    "def sum(arr):\n",
    "    sum=0\n",
    "    for i in arr:\n",
    "        sum=sum+i\n",
    "    return(sum)\n",
    "arr=[]\n",
    "arr=[12,3,4,15]\n",
    "n=len(arr)\n",
    "ans=sum(arr)\n",
    "print(\"Sum of the array is\",ans)"
   ]
  },
  {
   "cell_type": "code",
   "execution_count": 2,
   "id": "9659d481",
   "metadata": {},
   "outputs": [
    {
     "name": "stdout",
     "output_type": "stream",
     "text": [
      "3 5 7 9 11 13 15 17 19 "
     ]
    }
   ],
   "source": [
    "def isPrime(n):\n",
    "    if (n==1 or n==0):\n",
    "        return False\n",
    "    for i in range(2,n):\n",
    "        if(n%i==0):\n",
    "            return False\n",
    "        return True\n",
    "N=20\n",
    "for i in range(1,N+1):\n",
    "    if (isPrime(i)):\n",
    "        print(i,end=\" \")"
   ]
  },
  {
   "cell_type": "code",
   "execution_count": 14,
   "id": "c8cca81b",
   "metadata": {
    "scrolled": true
   },
   "outputs": [
    {
     "name": "stdout",
     "output_type": "stream",
     "text": [
      "The sum is 37\n"
     ]
    }
   ],
   "source": [
    "def add(sum):\n",
    "    sum=a+b+c+d+e\n",
    "    return sum\n",
    "a=5\n",
    "b=8\n",
    "c=9\n",
    "d=5\n",
    "e=10\n",
    "print(\"The sum is\",add(sum))"
   ]
  },
  {
   "cell_type": "code",
   "execution_count": 15,
   "id": "f251b0ce",
   "metadata": {},
   "outputs": [
    {
     "name": "stdout",
     "output_type": "stream",
     "text": [
      "The intrest is 4.2\n"
     ]
    }
   ],
   "source": [
    "P=6\n",
    "T=10\n",
    "R=7\n",
    "I=P*T*R/100\n",
    "print(\"The intrest is\",I)"
   ]
  },
  {
   "cell_type": "code",
   "execution_count": 16,
   "id": "c40ed3d3",
   "metadata": {},
   "outputs": [
    {
     "name": "stdout",
     "output_type": "stream",
     "text": [
      "Area of the rectangle is 200\n"
     ]
    }
   ],
   "source": [
    "l=10\n",
    "b=20\n",
    "Area=l*b\n",
    "print(\"Area of the rectangle is\",Area)"
   ]
  },
  {
   "cell_type": "code",
   "execution_count": 17,
   "id": "8a2b6d98",
   "metadata": {},
   "outputs": [
    {
     "name": "stdout",
     "output_type": "stream",
     "text": [
      "Area of triangle is 35.0\n"
     ]
    }
   ],
   "source": [
    "B=7\n",
    "H=10\n",
    "Area=1/2*B*H\n",
    "print(\"Area of triangle is\",Area)"
   ]
  },
  {
   "cell_type": "code",
   "execution_count": 18,
   "id": "57cb0173",
   "metadata": {},
   "outputs": [
    {
     "name": "stdout",
     "output_type": "stream",
     "text": [
      "The square is 144\n",
      "The cube is 1728\n"
     ]
    }
   ],
   "source": [
    "s=12\n",
    "square=s*s\n",
    "cube=s*s*s\n",
    "print(\"The square is\",square)\n",
    "print(\"The cube is\",cube)"
   ]
  },
  {
   "cell_type": "code",
   "execution_count": 5,
   "id": "49e89cb3",
   "metadata": {},
   "outputs": [
    {
     "name": "stdout",
     "output_type": "stream",
     "text": [
      "Enter the age: 5\n",
      "You are not eligible to vote\n"
     ]
    }
   ],
   "source": [
    "age=int(input(\"Enter the age: \"))\n",
    "if age >= 18:\n",
    "    print (\"You are eligible to vote\")\n",
    "else:\n",
    "    print (\"You are not eligible to vote\")"
   ]
  },
  {
   "cell_type": "code",
   "execution_count": 8,
   "id": "715fad87",
   "metadata": {},
   "outputs": [
    {
     "name": "stdout",
     "output_type": "stream",
     "text": [
      "Enter the number: 17\n",
      "The given number is odd\n"
     ]
    }
   ],
   "source": [
    "num=int(input(\"Enter the number: \"))\n",
    "if num % 2 == 0:\n",
    "    print(\"the given number is even\")\n",
    "else:\n",
    "    print(\"The given number is odd\")"
   ]
  },
  {
   "cell_type": "code",
   "execution_count": 13,
   "id": "8338f97b",
   "metadata": {},
   "outputs": [
    {
     "name": "stdout",
     "output_type": "stream",
     "text": [
      "Enter the number: 6\n",
      "The given number is positive\n"
     ]
    }
   ],
   "source": [
    "def check(Num):\n",
    "    if Num > 0:\n",
    "        print(\"The given number is positive\")\n",
    "    else:\n",
    "        print(\"The given number is negative\")\n",
    "Num=int(input(\"Enter the number: \"))\n",
    "check(Num)"
   ]
  },
  {
   "cell_type": "code",
   "execution_count": 17,
   "id": "aac5fad9",
   "metadata": {},
   "outputs": [
    {
     "name": "stdout",
     "output_type": "stream",
     "text": [
      "Enter the time:15\n",
      "Enter the minute45\n",
      "Time is 3:45am\n"
     ]
    }
   ],
   "source": [
    "time=int(input(\"Enter the time:\"))\n",
    "minute=int(input(\"Enter the minute\"))\n",
    "if time>12:\n",
    "    T=time-12\n",
    "    print(\"Time is {0}:{1}am\".format(T,minute))\n",
    "else:\n",
    "    print(\"Time is {0}:{1}pm\".format(time,minute))"
   ]
  },
  {
   "cell_type": "code",
   "execution_count": 19,
   "id": "e23d1155",
   "metadata": {},
   "outputs": [
    {
     "name": "stdout",
     "output_type": "stream",
     "text": [
      "Enter the number: 22\n",
      "The given is not single\n"
     ]
    }
   ],
   "source": [
    "num=int(input(\"Enter the number: \"))\n",
    "if num >=-9 and num <10:\n",
    "    print (\"The given is single\")\n",
    "else:\n",
    "    print (\"The given is not single\")"
   ]
  },
  {
   "cell_type": "code",
   "execution_count": 1,
   "id": "6e309b0f",
   "metadata": {},
   "outputs": [
    {
     "name": "stdout",
     "output_type": "stream",
     "text": [
      "The ASCII value og'g' is 103\n"
     ]
    }
   ],
   "source": [
    "c='g'\n",
    "print(\"The ASCII value og'\"+c+\"' is\",ord(c))"
   ]
  },
  {
   "cell_type": "code",
   "execution_count": 2,
   "id": "99d0b43f",
   "metadata": {},
   "outputs": [
    {
     "name": "stdout",
     "output_type": "stream",
     "text": [
      "-5\n"
     ]
    }
   ],
   "source": [
    "#List Examples\n",
    "def sum_list(items):\n",
    "    sum_numbers=0\n",
    "    for x in items:\n",
    "        sum_numbers += x\n",
    "    return sum_numbers\n",
    "print(sum_list([1,2,-8]))"
   ]
  },
  {
   "cell_type": "code",
   "execution_count": 3,
   "id": "3600a97d",
   "metadata": {},
   "outputs": [
    {
     "name": "stdout",
     "output_type": "stream",
     "text": [
      "2\n"
     ]
    }
   ],
   "source": [
    "def max_num_in_list(list):\n",
    "    max=list[0]\n",
    "    for a in list:\n",
    "        if a>max:\n",
    "            max=a\n",
    "    return max\n",
    "print(max_num_in_list([1,2,-8,0]))"
   ]
  },
  {
   "cell_type": "code",
   "execution_count": 5,
   "id": "a2eb922b",
   "metadata": {},
   "outputs": [
    {
     "name": "stdout",
     "output_type": "stream",
     "text": [
      "[500, 400, 300, 200, 100]\n",
      "[500, 400, 300, 200, 100]\n"
     ]
    }
   ],
   "source": [
    "list1=[100,200,300,400,500]\n",
    "list1.reverse()\n",
    "print(list1)\n",
    "list1=[100,200,300,400,500]\n",
    "list1=list1[::-1]\n",
    "print(list1)"
   ]
  },
  {
   "cell_type": "code",
   "execution_count": 6,
   "id": "000f2e6a",
   "metadata": {},
   "outputs": [
    {
     "name": "stdout",
     "output_type": "stream",
     "text": [
      "['My', 'name', 'is', 'Raj']\n"
     ]
    }
   ],
   "source": [
    "list1=[\"M\",\"na\",\"i\",\"Ra\"]\n",
    "list2=[\"y\",\"me\",\"s\",\"j\"]\n",
    "list3=[i+j for i,j in zip(list1,list2)]\n",
    "print(list3)"
   ]
  },
  {
   "cell_type": "code",
   "execution_count": 7,
   "id": "282334d2",
   "metadata": {},
   "outputs": [
    {
     "name": "stdout",
     "output_type": "stream",
     "text": [
      "[1, 4, 9, 16, 25, 36, 49]\n"
     ]
    }
   ],
   "source": [
    "numbers=[1,2,3,4,5,6,7]\n",
    "res=[]\n",
    "for i in numbers:\n",
    "    res.append(i*i)\n",
    "print(res)"
   ]
  },
  {
   "cell_type": "code",
   "execution_count": 9,
   "id": "907d4d32",
   "metadata": {},
   "outputs": [
    {
     "name": "stdout",
     "output_type": "stream",
     "text": [
      "['Mike', ' ', 'Emma', 'Kelly', ' ', 'Bard']\n"
     ]
    }
   ],
   "source": [
    "list1=[\"Mike\",\" \",\"Emma\",\"Kelly\",\" \",\"Bard\"]\n",
    "res=list(filter(None,list1))\n",
    "print(res)"
   ]
  },
  {
   "cell_type": "code",
   "execution_count": 14,
   "id": "dbd3933d",
   "metadata": {},
   "outputs": [
    {
     "name": "stdout",
     "output_type": "stream",
     "text": [
      "[5, 15, 25, 50]\n",
      "[5, 15, 25, 50]\n"
     ]
    }
   ],
   "source": [
    "list1=[5,20,15,20,25,50,20]\n",
    "def remove_value(sample_list,val):\n",
    "    return[i for i in sample_list if i !=val]\n",
    "res=remove_value(list1,20)\n",
    "print(res)\n",
    "#or\n",
    "list=[5,20,15,20,25,50,20]\n",
    "while 20 in list1:\n",
    "    list1.remove(20)\n",
    "print(list1)"
   ]
  },
  {
   "cell_type": "code",
   "execution_count": 18,
   "id": "e066c49d",
   "metadata": {},
   "outputs": [
    {
     "name": "stdout",
     "output_type": "stream",
     "text": [
      "{'Ten': 10, 'Twenty': 20, 'Thirty': 30}\n"
     ]
    }
   ],
   "source": [
    "#Dictionary Examples\n",
    "keys=['Ten','Twenty','Thirty']\n",
    "values=[10,20,30]\n",
    "res_dict=dict(zip(keys,values))\n",
    "print(res_dict)\n",
    "#or\n",
    "keys=['Ten','Twenty','Thirty']\n",
    "values=[10,20,30]\n",
    "res_dict=dict()\n",
    "for i in range(len(keys)):\n",
    "    res_dict.update({keys[i]: values[i]})\n",
    "print(res_dict)"
   ]
  },
  {
   "cell_type": "code",
   "execution_count": 17,
   "id": "fdf22ec8",
   "metadata": {},
   "outputs": [
    {
     "name": "stdout",
     "output_type": "stream",
     "text": [
      "{'Ten': 10, 'Twenty': 20, 'Thirty': 30, 'Fourty': 40, 'Fifty': 50}\n"
     ]
    }
   ],
   "source": [
    "dict1={'Ten':10,'Twenty':20,'Thirty':30}\n",
    "dict2={'Thirty':30,'Fourty':40,'Fifty':50}\n",
    "dict3=dict1.copy()\n",
    "dict3.update(dict2)\n",
    "print(dict3)"
   ]
  },
  {
   "cell_type": "code",
   "execution_count": 20,
   "id": "9d882da7",
   "metadata": {},
   "outputs": [
    {
     "name": "stdout",
     "output_type": "stream",
     "text": [
      "80\n"
     ]
    }
   ],
   "source": [
    "sampleDict={\n",
    "    \"class\":{\n",
    "        \"student\":{\n",
    "            \"name\":\"Mike\",\n",
    "            \"marks\":{\n",
    "                \"Physics\":70,\n",
    "                \"History\":80\n",
    "            }\n",
    "        }\n",
    "    }\n",
    "}\n",
    "print(sampleDict['class']['student']['marks']['History'])"
   ]
  },
  {
   "cell_type": "code",
   "execution_count": 21,
   "id": "12e2877f",
   "metadata": {},
   "outputs": [
    {
     "name": "stdout",
     "output_type": "stream",
     "text": [
      "{'Kelly': {'designation': 'Developer', 'salary': 8000}, 'Emma': {'designation': 'Developer', 'salary': 8000}}\n",
      "{'designation': 'Developer', 'salary': 8000}\n"
     ]
    }
   ],
   "source": [
    "employees=['Kelly','Emma']\n",
    "defaults={\"designation\":'Developer','salary':8000}\n",
    "res=dict.fromkeys(employees,defaults)\n",
    "print(res)\n",
    "print(res[\"Kelly\"])"
   ]
  },
  {
   "cell_type": "code",
   "execution_count": 1,
   "id": "f0564de3",
   "metadata": {},
   "outputs": [
    {
     "name": "stdout",
     "output_type": "stream",
     "text": [
      "{'name': 'Kelly', 'salary': 8000}\n"
     ]
    }
   ],
   "source": [
    "sampleDict={\n",
    "    \"name\":\"Kelly\",\n",
    "    \"age\":25,\n",
    "    \"salary\":8000,\n",
    "    \"city\":\"New York\"\n",
    "}\n",
    "keys=[\"name\",\"salary\"]\n",
    "newDict={k: sampleDict[k]for k in keys}\n",
    "print(newDict)"
   ]
  },
  {
   "cell_type": "code",
   "execution_count": 2,
   "id": "38dab5d0",
   "metadata": {},
   "outputs": [
    {
     "name": "stdout",
     "output_type": "stream",
     "text": [
      "{'age': 25, 'city': 'New York'}\n"
     ]
    }
   ],
   "source": [
    "sample_dict={\n",
    "    \"name\":\"Kelly\",\n",
    "    \"age\":25,\n",
    "    \"salary\":8000,\n",
    "    \"city\":\"New York\"\n",
    "}\n",
    "keys=[\"name\",\"salary\"]\n",
    "for k in keys:\n",
    "    sample_dict.pop(k)\n",
    "print(sample_dict)"
   ]
  },
  {
   "cell_type": "code",
   "execution_count": 5,
   "id": "3d2b1cbe",
   "metadata": {},
   "outputs": [
    {
     "name": "stdout",
     "output_type": "stream",
     "text": [
      "200 is not present in a dict\n"
     ]
    }
   ],
   "source": [
    "sample_dict={'a':100,'b':200,'c':300}\n",
    "if 500 in sample_dict.values():\n",
    "    print('200 present in a dict')\n",
    "else:\n",
    "    print('200 is not present in a dict')"
   ]
  },
  {
   "cell_type": "code",
   "execution_count": 6,
   "id": "7e49f7fd",
   "metadata": {},
   "outputs": [
    {
     "name": "stdout",
     "output_type": "stream",
     "text": [
      "{'name': 'Kelly', 'age': 25, 'salary': 8000, 'location': 'New York'}\n"
     ]
    }
   ],
   "source": [
    "sample_dict={\n",
    "    \"name\":\"Kelly\",\n",
    "    \"age\":25,\n",
    "    \"salary\":8000,\n",
    "    \"city\":\"New York\"\n",
    "}\n",
    "sample_dict['location']=sample_dict.pop('city')\n",
    "print(sample_dict)"
   ]
  },
  {
   "cell_type": "code",
   "execution_count": 7,
   "id": "a4427edc",
   "metadata": {},
   "outputs": [
    {
     "name": "stdout",
     "output_type": "stream",
     "text": [
      "Math\n"
     ]
    }
   ],
   "source": [
    "sample_dict={\n",
    "    'Physics':82,\n",
    "    'Math':65,\n",
    "    'History':75\n",
    "}\n",
    "print(min(sample_dict, key=sample_dict.get))"
   ]
  },
  {
   "cell_type": "code",
   "execution_count": 9,
   "id": "707e5e90",
   "metadata": {},
   "outputs": [
    {
     "name": "stdout",
     "output_type": "stream",
     "text": [
      "{'emp1': {'name': 'John', 'salary': 7500}, 'emp2': {'name': 'Emma', 'salary': 8000}, 'emp3': {'name': 'Brad', 'salary': 8500}}\n"
     ]
    }
   ],
   "source": [
    "sample_dict={\n",
    "    'emp1':{'name':'John','salary':7500},\n",
    "    'emp2':{'name':'Emma','salary':8000},\n",
    "    'emp3':{'name':'Brad','salary':6500}\n",
    "}\n",
    "sample_dict['emp3']['salary']=8500\n",
    "print(sample_dict)"
   ]
  },
  {
   "cell_type": "code",
   "execution_count": 10,
   "id": "a5412789",
   "metadata": {},
   "outputs": [
    {
     "name": "stdout",
     "output_type": "stream",
     "text": [
      "{'Red', 'Blue', 'Yellow', 'Orange', 'Black', 'Green'}\n"
     ]
    }
   ],
   "source": [
    "sample_set={\"Yellow\",\"Orange\",\"Black\"}\n",
    "sample_list=[\"Blue\",\"Green\",\"Red\"]\n",
    "sample_set.update(sample_list)\n",
    "print(sample_set)"
   ]
  },
  {
   "cell_type": "code",
   "execution_count": 11,
   "id": "7b5e90ff",
   "metadata": {},
   "outputs": [
    {
     "name": "stdout",
     "output_type": "stream",
     "text": [
      "{40, 50, 30}\n"
     ]
    }
   ],
   "source": [
    "set1={10,20,30,40,50}\n",
    "set2={30,40,50,60,70}\n",
    "print(set1.intersection(set2))"
   ]
  },
  {
   "cell_type": "code",
   "execution_count": 12,
   "id": "a59f997e",
   "metadata": {},
   "outputs": [
    {
     "name": "stdout",
     "output_type": "stream",
     "text": [
      "{70, 40, 10, 50, 20, 60, 30}\n"
     ]
    }
   ],
   "source": [
    "set1 = {10, 20, 30, 40, 50}\n",
    "set2 = {30, 40, 50, 60, 70}\n",
    "print(set1.union(set2))"
   ]
  },
  {
   "cell_type": "code",
   "execution_count": 13,
   "id": "98f66a57",
   "metadata": {},
   "outputs": [
    {
     "name": "stdout",
     "output_type": "stream",
     "text": [
      "{10, 30}\n"
     ]
    }
   ],
   "source": [
    "set1={10,20,30}\n",
    "set2={20,40,50}\n",
    "set1.difference_update(set2)\n",
    "print(set1)"
   ]
  },
  {
   "cell_type": "code",
   "execution_count": 14,
   "id": "2cd9a247",
   "metadata": {},
   "outputs": [
    {
     "name": "stdout",
     "output_type": "stream",
     "text": [
      "{20, 70, 10, 60}\n"
     ]
    }
   ],
   "source": [
    "set1={10,20,30,40,50}\n",
    "set2={30,40,50,60,70}\n",
    "print(set1.symmetric_difference(set2))"
   ]
  },
  {
   "cell_type": "code",
   "execution_count": 15,
   "id": "2af9da7a",
   "metadata": {},
   "outputs": [
    {
     "name": "stdout",
     "output_type": "stream",
     "text": [
      "Two sets have items in common\n",
      "{40, 50, 30}\n"
     ]
    }
   ],
   "source": [
    "set1={10,20,30,40,50}\n",
    "set2={30,40,50,60,70}\n",
    "if set1.isdisjoint(set2):\n",
    "    print(\"Two sets have no items in common\")\n",
    "else:\n",
    "    print(\"Two sets have items in common\")\n",
    "    print(set1.intersection(set2))"
   ]
  },
  {
   "cell_type": "code",
   "execution_count": 16,
   "id": "979af733",
   "metadata": {},
   "outputs": [
    {
     "name": "stdout",
     "output_type": "stream",
     "text": [
      "{20, 70, 10, 60}\n"
     ]
    }
   ],
   "source": [
    "set1={10,20,30,40,50}\n",
    "set2={30,40,50,60,70}\n",
    "set1.symmetric_difference_update(set2)\n",
    "print(set1)"
   ]
  },
  {
   "cell_type": "code",
   "execution_count": 17,
   "id": "84ea09d7",
   "metadata": {},
   "outputs": [
    {
     "name": "stdout",
     "output_type": "stream",
     "text": [
      "{40, 50, 30}\n"
     ]
    }
   ],
   "source": [
    "set1={10,20,30,40,50}\n",
    "set2={30,40,50,60,70}\n",
    "set1.intersection_update(set2)\n",
    "print(set1)"
   ]
  },
  {
   "cell_type": "code",
   "execution_count": 18,
   "id": "e0da26aa",
   "metadata": {},
   "outputs": [
    {
     "name": "stdout",
     "output_type": "stream",
     "text": [
      "tuple[slice(None, None, -1)]\n"
     ]
    }
   ],
   "source": [
    "tuple1=(10,20,30,40,50)\n",
    "tuple1=tuple[::-1]\n",
    "print(tuple1)"
   ]
  },
  {
   "cell_type": "code",
   "execution_count": 20,
   "id": "342469e1",
   "metadata": {},
   "outputs": [
    {
     "name": "stdout",
     "output_type": "stream",
     "text": [
      "20\n"
     ]
    }
   ],
   "source": [
    "tuple1=(\"Orange\",[10,20,30],(5,15,25))\n",
    "print(tuple1[1][1])"
   ]
  },
  {
   "cell_type": "code",
   "execution_count": 21,
   "id": "be39a3d1",
   "metadata": {},
   "outputs": [
    {
     "name": "stdout",
     "output_type": "stream",
     "text": [
      "(50,)\n"
     ]
    }
   ],
   "source": [
    "tuple=(50,)\n",
    "print(tuple)"
   ]
  },
  {
   "cell_type": "code",
   "execution_count": 23,
   "id": "c9dceedb",
   "metadata": {},
   "outputs": [
    {
     "name": "stdout",
     "output_type": "stream",
     "text": [
      "10\n",
      "20\n",
      "30\n",
      "40\n"
     ]
    }
   ],
   "source": [
    "tuple1=(10,20,30,40)\n",
    "a,b,c,d=tuple1\n",
    "print(a)\n",
    "print(b)\n",
    "print(c)\n",
    "print(d)"
   ]
  },
  {
   "cell_type": "code",
   "execution_count": 24,
   "id": "0b6a0704",
   "metadata": {},
   "outputs": [
    {
     "name": "stdout",
     "output_type": "stream",
     "text": [
      "(11, 22)\n",
      "(99, 88)\n"
     ]
    }
   ],
   "source": [
    "tuple1=(11,22)\n",
    "tuple2=(99,88)\n",
    "tuple1,tuple2=tuple2,tuple1\n",
    "print(tuple2)\n",
    "print(tuple1)"
   ]
  },
  {
   "cell_type": "code",
   "execution_count": 25,
   "id": "6cfd2687",
   "metadata": {},
   "outputs": [
    {
     "name": "stdout",
     "output_type": "stream",
     "text": [
      "(11, 22, 33, 44, 55, 66)\n"
     ]
    }
   ],
   "source": [
    "tuple1=(11,22,33,44,55,66)\n",
    "tuple2=tuple1[3:-1]\n",
    "print(tuple1)"
   ]
  },
  {
   "cell_type": "code",
   "execution_count": 27,
   "id": "d3a20de1",
   "metadata": {},
   "outputs": [
    {
     "name": "stdout",
     "output_type": "stream",
     "text": [
      "(11, [222, 33], 44, 55)\n"
     ]
    }
   ],
   "source": [
    "tuple=(11,[22,33],44,55)\n",
    "tuple[1][0]=222\n",
    "print(tuple)"
   ]
  },
  {
   "cell_type": "code",
   "execution_count": 43,
   "id": "21601a19",
   "metadata": {},
   "outputs": [
    {
     "name": "stdout",
     "output_type": "stream",
     "text": [
      "Hiiiii\n"
     ]
    }
   ],
   "source": [
    "print(\"\n",
    "      Hiiiii\")"
   ]
  },
  {
   "cell_type": "code",
   "execution_count": 37,
   "id": "7cd6e709",
   "metadata": {},
   "outputs": [
    {
     "name": "stdout",
     "output_type": "stream",
     "text": [
      "2\n"
     ]
    }
   ],
   "source": [
    "tuple=(50,10,60,70,50)\n",
    "print(tuple.count(50))"
   ]
  },
  {
   "cell_type": "code",
   "execution_count": 39,
   "id": "b4660254",
   "metadata": {},
   "outputs": [
    {
     "name": "stdout",
     "output_type": "stream",
     "text": [
      "False\n"
     ]
    }
   ],
   "source": [
    "def check(t):\n",
    "    return all(i==t[0]for i in t)\n",
    "tuple=(45,45,45,45)\n",
    "print(check(tuple1))"
   ]
  },
  {
   "cell_type": "code",
   "execution_count": null,
   "id": "544a3964",
   "metadata": {},
   "outputs": [],
   "source": [
    "#Numpy Examples"
   ]
  },
  {
   "cell_type": "code",
   "execution_count": 2,
   "id": "e01065f4",
   "metadata": {},
   "outputs": [
    {
     "data": {
      "text/plain": [
       "'1.21.5'"
      ]
     },
     "execution_count": 2,
     "metadata": {},
     "output_type": "execute_result"
    }
   ],
   "source": [
    "import numpy as np\n",
    "np.__version__"
   ]
  },
  {
   "cell_type": "code",
   "execution_count": 4,
   "id": "533366c6",
   "metadata": {},
   "outputs": [
    {
     "name": "stdout",
     "output_type": "stream",
     "text": [
      "[ 0  1  2  3  4  5  6  7  8  9 10 11 12 13 14 15 16 17 18 19]\n"
     ]
    },
    {
     "data": {
      "text/plain": [
       "numpy.ndarray"
      ]
     },
     "execution_count": 4,
     "metadata": {},
     "output_type": "execute_result"
    }
   ],
   "source": [
    "x=np.arange(20)\n",
    "print(x)\n",
    "type(x)"
   ]
  },
  {
   "cell_type": "code",
   "execution_count": 5,
   "id": "828db04f",
   "metadata": {},
   "outputs": [
    {
     "name": "stdout",
     "output_type": "stream",
     "text": [
      "computationally faster than working with Python Lists\n"
     ]
    },
    {
     "data": {
      "text/plain": [
       "array([         0,          1,          4, ..., 1409465417, 1409665412,\n",
       "       1409865409], dtype=int32)"
      ]
     },
     "execution_count": 5,
     "metadata": {},
     "output_type": "execute_result"
    }
   ],
   "source": [
    "print(\"computationally faster than working with Python Lists\")\n",
    "y=np.arange(100000)\n",
    "y=y**2\n",
    "y"
   ]
  },
  {
   "cell_type": "code",
   "execution_count": 6,
   "id": "1c710a31",
   "metadata": {},
   "outputs": [
    {
     "name": "stdout",
     "output_type": "stream",
     "text": [
      "['Dog', 'Mammal', 45, 7]\n"
     ]
    }
   ],
   "source": [
    "animal=['Dog','Mammal',45,7]\n",
    "print(animal)"
   ]
  },
  {
   "cell_type": "code",
   "execution_count": 7,
   "id": "22371db7",
   "metadata": {},
   "outputs": [
    {
     "name": "stdout",
     "output_type": "stream",
     "text": [
      "Data must be all of the same type\n"
     ]
    },
    {
     "data": {
      "text/plain": [
       "array(['Dog', 'Mammal', '45', '7'], dtype='<U11')"
      ]
     },
     "execution_count": 7,
     "metadata": {},
     "output_type": "execute_result"
    }
   ],
   "source": [
    "print(\"Data must be all of the same type\")\n",
    "np.array(animal)"
   ]
  },
  {
   "cell_type": "code",
   "execution_count": 8,
   "id": "4869e930",
   "metadata": {},
   "outputs": [
    {
     "name": "stdout",
     "output_type": "stream",
     "text": [
      "Array can be n dimentional --but most commonly one two or three dimentional\n",
      "[ 0  1  2  3  4  5  6  7  8  9 10 11 12 13 14 15 16 17 18 19 20 21 22 23\n",
      " 24 25 26]\n"
     ]
    }
   ],
   "source": [
    "print(\"Array can be n dimentional --but most commonly one two or three dimentional\")\n",
    "ndim=np.arange(27)\n",
    "print(ndim)"
   ]
  },
  {
   "cell_type": "code",
   "execution_count": 11,
   "id": "c8afedca",
   "metadata": {},
   "outputs": [
    {
     "name": "stdout",
     "output_type": "stream",
     "text": [
      "[[[ 0  1  2]\n",
      "  [ 3  4  5]\n",
      "  [ 6  7  8]]\n",
      "\n",
      " [[ 9 10 11]\n",
      "  [12 13 14]\n",
      "  [15 16 17]]\n",
      "\n",
      " [[18 19 20]\n",
      "  [21 22 23]\n",
      "  [24 25 26]]]\n"
     ]
    }
   ],
   "source": [
    "ndim=np.arange(27).reshape(3,3,3)\n",
    "print(ndim)"
   ]
  },
  {
   "cell_type": "code",
   "execution_count": 13,
   "id": "ecea2aa9",
   "metadata": {},
   "outputs": [
    {
     "name": "stdout",
     "output_type": "stream",
     "text": [
      "[[[[ 0  1]\n",
      "   [ 2  3]]\n",
      "\n",
      "  [[ 4  5]\n",
      "   [ 6  7]]]\n",
      "\n",
      "\n",
      " [[[ 8  9]\n",
      "   [10 11]]\n",
      "\n",
      "  [[12 13]\n",
      "   [14 15]]]]\n"
     ]
    }
   ],
   "source": [
    "twos=np.arange(16).reshape(2,2,2,2)\n",
    "print(twos)"
   ]
  },
  {
   "cell_type": "code",
   "execution_count": 14,
   "id": "0b5742a6",
   "metadata": {},
   "outputs": [
    {
     "name": "stdout",
     "output_type": "stream",
     "text": [
      "Sometimes its easier to define a data holder before actually the getting or generating the data\n",
      "[[1. 1. 1. 1. 1.]\n",
      " [1. 1. 1. 1. 1.]\n",
      " [1. 1. 1. 1. 1.]]\n",
      "\n",
      "[[0. 0. 0. 0. 0.]\n",
      " [0. 0. 0. 0. 0.]\n",
      " [0. 0. 0. 0. 0.]]\n",
      "\n",
      "[[1. 0. 0. 0. 0.]\n",
      " [0. 1. 0. 0. 0.]\n",
      " [0. 0. 1. 0. 0.]]\n"
     ]
    }
   ],
   "source": [
    "print(\"Sometimes its easier to define a data holder before actually the getting or generating the data\")\n",
    "print(np.ones((3,5)),end='\\n\\n')\n",
    "print(np.zeros((3,5)),end='\\n\\n')\n",
    "print(np.eye(3,5))"
   ]
  },
  {
   "cell_type": "code",
   "execution_count": 18,
   "id": "26554f75",
   "metadata": {},
   "outputs": [
    {
     "name": "stdout",
     "output_type": "stream",
     "text": [
      "Subsetting can be on one or more dimentions\n",
      "[4 0 0 3 5 8 4 1 1 3 5 2 8 2 2]\n"
     ]
    }
   ],
   "source": [
    "print(\"Subsetting can be on one or more dimentions\")\n",
    "data=np.random.randint(10,size=15)\n",
    "print(data)"
   ]
  },
  {
   "cell_type": "code",
   "execution_count": 19,
   "id": "75e40731",
   "metadata": {},
   "outputs": [
    {
     "data": {
      "text/plain": [
       "4"
      ]
     },
     "execution_count": 19,
     "metadata": {},
     "output_type": "execute_result"
    }
   ],
   "source": [
    "data[0]"
   ]
  },
  {
   "cell_type": "code",
   "execution_count": 20,
   "id": "4cd304d7",
   "metadata": {},
   "outputs": [
    {
     "data": {
      "text/plain": [
       "array([4, 0, 0])"
      ]
     },
     "execution_count": 20,
     "metadata": {},
     "output_type": "execute_result"
    }
   ],
   "source": [
    "data[:3]"
   ]
  },
  {
   "cell_type": "code",
   "execution_count": 21,
   "id": "691cd3e1",
   "metadata": {},
   "outputs": [
    {
     "data": {
      "text/plain": [
       "array([3, 5, 8, 4, 1])"
      ]
     },
     "execution_count": 21,
     "metadata": {},
     "output_type": "execute_result"
    }
   ],
   "source": [
    "data[3:8]"
   ]
  },
  {
   "cell_type": "code",
   "execution_count": 29,
   "id": "6b0f6d08",
   "metadata": {},
   "outputs": [
    {
     "data": {
      "text/plain": [
       "array([[4, 0, 0, 3, 5],\n",
       "       [8, 4, 1, 1, 3],\n",
       "       [5, 2, 8, 2, 2]])"
      ]
     },
     "execution_count": 29,
     "metadata": {},
     "output_type": "execute_result"
    }
   ],
   "source": [
    "data=data.reshape(3,5)\n",
    "data"
   ]
  },
  {
   "cell_type": "code",
   "execution_count": 30,
   "id": "6168557f",
   "metadata": {},
   "outputs": [
    {
     "data": {
      "text/plain": [
       "array([4, 0, 0, 3, 5])"
      ]
     },
     "execution_count": 30,
     "metadata": {},
     "output_type": "execute_result"
    }
   ],
   "source": [
    "data[0]"
   ]
  },
  {
   "cell_type": "code",
   "execution_count": 31,
   "id": "74597464",
   "metadata": {},
   "outputs": [
    {
     "data": {
      "text/plain": [
       "array([4, 8, 5])"
      ]
     },
     "execution_count": 31,
     "metadata": {},
     "output_type": "execute_result"
    }
   ],
   "source": [
    "data[:,0]"
   ]
  },
  {
   "cell_type": "code",
   "execution_count": 32,
   "id": "5c960292",
   "metadata": {},
   "outputs": [
    {
     "data": {
      "text/plain": [
       "4"
      ]
     },
     "execution_count": 32,
     "metadata": {},
     "output_type": "execute_result"
    }
   ],
   "source": [
    "data[0,0]"
   ]
  },
  {
   "cell_type": "code",
   "execution_count": 33,
   "id": "4d456b70",
   "metadata": {},
   "outputs": [
    {
     "name": "stdout",
     "output_type": "stream",
     "text": [
      "Creating indirect sorting\n",
      "Argsort returns indices that would sort an array leaves array unchanged\n",
      "[2 4 0 1 3 5]\n",
      "[1 2 3 5 6 7]\n",
      "[3 5 1 6 2 7]\n"
     ]
    }
   ],
   "source": [
    "print (\"Creating indirect sorting\")\n",
    "print(\"Argsort returns indices that would sort an array leaves array unchanged\")\n",
    "x=np.array([3,5,1,6,2,7])\n",
    "print(np.argsort(x))\n",
    "print(x[x.argsort()])\n",
    "print(x)"
   ]
  },
  {
   "cell_type": "code",
   "execution_count": 35,
   "id": "4b5fed81",
   "metadata": {},
   "outputs": [
    {
     "name": "stdout",
     "output_type": "stream",
     "text": [
      "You can use it to match up values from seperate arrays\n"
     ]
    }
   ],
   "source": [
    "print(\"You can use it to match up values from seperate arrays\")\n",
    "grade=np.array([3,5,1,6,2,7])\n",
    "ages=np.array([8,10,6,11,7,12])\n",
    "sort_index=np.argsort(ages)"
   ]
  },
  {
   "cell_type": "code",
   "execution_count": 36,
   "id": "d7aec60d",
   "metadata": {},
   "outputs": [
    {
     "name": "stdout",
     "output_type": "stream",
     "text": [
      "[1 2 3 5 6 7]\n",
      "[ 6  7  8 10 11 12]\n"
     ]
    }
   ],
   "source": [
    "print(grade[sort_index])\n",
    "print(ages[sort_index])"
   ]
  },
  {
   "cell_type": "code",
   "execution_count": 37,
   "id": "0f8f9877",
   "metadata": {},
   "outputs": [
    {
     "name": "stdout",
     "output_type": "stream",
     "text": [
      "if you want the comma seperators between values\n",
      "[1, 2, 3, 5, 6, 7]\n"
     ]
    }
   ],
   "source": [
    "print(\"if you want the comma seperators between values\")\n",
    "print(list(grade[sort_index]))"
   ]
  },
  {
   "cell_type": "code",
   "execution_count": 38,
   "id": "d31f5a64",
   "metadata": {},
   "outputs": [
    {
     "name": "stdout",
     "output_type": "stream",
     "text": [
      "Indirectly sort in decending order\n",
      "[12, 11, 10, 8, 7, 6]\n"
     ]
    }
   ],
   "source": [
    "print(\"Indirectly sort in decending order\")\n",
    "print(list(ages[sort_index])[::-1])"
   ]
  },
  {
   "cell_type": "code",
   "execution_count": 9,
   "id": "77f0859e",
   "metadata": {},
   "outputs": [
    {
     "name": "stdout",
     "output_type": "stream",
     "text": [
      "Working with Random Distributions\n"
     ]
    }
   ],
   "source": [
    "print(\"Working with Random Distributions\")\n",
    "import numpy as np\n",
    "import numpy.random as npr\n",
    "import matplotlib.pyplot as plt"
   ]
  },
  {
   "cell_type": "code",
   "execution_count": 10,
   "id": "ab5b1aee",
   "metadata": {},
   "outputs": [
    {
     "name": "stdout",
     "output_type": "stream",
     "text": [
      "We can simulate values from a normal distribution\n",
      "{'   0.0211207344'}\n",
      "{'   0.9930070012'}\n"
     ]
    }
   ],
   "source": [
    "print(\"We can simulate values from a normal distribution\")\n",
    "x = npr.standard_normal(5000)\n",
    "print({\"{:15.10f}\".format(x.mean())})\n",
    "print({\"{:15.10f}\".format(x.std())})\n"
   ]
  },
  {
   "cell_type": "code",
   "execution_count": 12,
   "id": "720d7380",
   "metadata": {},
   "outputs": [
    {
     "name": "stdout",
     "output_type": "stream",
     "text": [
      "Represent the values roughly normal Over/Under representation\n",
      "The towers or bars of a histogram are called bins. The height of each bin shows how many values from that data fall into that range. The default value of the number of bins to be created in a histogram is 10. However, we can change the size of bins\n"
     ]
    },
    {
     "data": {
      "text/plain": [
       "(array([  2.,   7.,   5.,  13.,  10.,  16.,  22.,  30.,  39.,  52.,  79.,\n",
       "         89., 105., 121., 139., 185., 199., 247., 240., 263., 275., 284.,\n",
       "        321., 305., 261., 263., 230., 223., 191., 146., 144., 122., 111.,\n",
       "         67.,  54.,  43.,  32.,  18.,  14.,  10.,   6.,   6.,   6.,   0.,\n",
       "          0.,   3.,   1.,   0.,   0.,   1.]),\n",
       " array([-3.18710740e+00, -3.04219971e+00, -2.89729201e+00, -2.75238431e+00,\n",
       "        -2.60747661e+00, -2.46256891e+00, -2.31766122e+00, -2.17275352e+00,\n",
       "        -2.02784582e+00, -1.88293812e+00, -1.73803042e+00, -1.59312272e+00,\n",
       "        -1.44821503e+00, -1.30330733e+00, -1.15839963e+00, -1.01349193e+00,\n",
       "        -8.68584232e-01, -7.23676534e-01, -5.78768836e-01, -4.33861137e-01,\n",
       "        -2.88953439e-01, -1.44045741e-01,  8.61957394e-04,  1.45769656e-01,\n",
       "         2.90677354e-01,  4.35585052e-01,  5.80492751e-01,  7.25400449e-01,\n",
       "         8.70308147e-01,  1.01521585e+00,  1.16012354e+00,  1.30503124e+00,\n",
       "         1.44993894e+00,  1.59484664e+00,  1.73975434e+00,  1.88466204e+00,\n",
       "         2.02956973e+00,  2.17447743e+00,  2.31938513e+00,  2.46429283e+00,\n",
       "         2.60920053e+00,  2.75410822e+00,  2.89901592e+00,  3.04392362e+00,\n",
       "         3.18883132e+00,  3.33373902e+00,  3.47864672e+00,  3.62355441e+00,\n",
       "         3.76846211e+00,  3.91336981e+00,  4.05827751e+00]),\n",
       " <BarContainer object of 50 artists>)"
      ]
     },
     "execution_count": 12,
     "metadata": {},
     "output_type": "execute_result"
    },
    {
     "data": {
      "image/png": "[encoded data removed]",
      "text/plain": [
       "<Figure size 432x288 with 1 Axes>"
      ]
     },
     "metadata": {
      "needs_background": "light"
     },
     "output_type": "display_data"
    }
   ],
   "source": [
    "print(\"Represent the values roughly normal Over/Under representation\")\n",
    "print(\"The towers or bars of a histogram are called bins. The height of each bin shows how many values from that data fall into that range. The default value of the number of bins to be created in a histogram is 10. However, we can change the size of bins\")\n",
    "plt.hist(x,bins=50)"
   ]
  },
  {
   "cell_type": "code",
   "execution_count": 40,
   "id": "35e4707c",
   "metadata": {},
   "outputs": [],
   "source": [
    "#NUMPY 1st"
   ]
  },
  {
   "cell_type": "code",
   "execution_count": 43,
   "id": "ba417eba",
   "metadata": {},
   "outputs": [
    {
     "name": "stdout",
     "output_type": "stream",
     "text": [
      "Printing Array\n",
      "[[24909 26476]\n",
      " [28277 18208]\n",
      " [29807 26984]\n",
      " [ 8291 25939]]\n",
      "Printing numpy array Attributes\n",
      "1> Array Shape is:  (4, 2)\n",
      "2>. Array dimensions are  2\n",
      "3>. Length of each element of array in bytes is  2\n"
     ]
    }
   ],
   "source": [
    "import numpy\n",
    "firstArray=numpy.empty([4,2],dtype=numpy.uint16)\n",
    "print(\"Printing Array\")\n",
    "print(firstArray)\n",
    "print(\"Printing numpy array Attributes\")\n",
    "print(\"1> Array Shape is: \", firstArray.shape)\n",
    "print(\"2>. Array dimensions are \", firstArray.ndim)\n",
    "print(\"3>. Length of each element of array in bytes is \", firstArray.itemsize)"
   ]
  },
  {
   "cell_type": "code",
   "execution_count": 42,
   "id": "7c3071cc",
   "metadata": {},
   "outputs": [
    {
     "name": "stdout",
     "output_type": "stream",
     "text": [
      "Creating 5X2 array using numpy.arange\n",
      "[[100 110]\n",
      " [120 130]\n",
      " [140 150]\n",
      " [160 170]\n",
      " [180 190]]\n"
     ]
    }
   ],
   "source": [
    "import numpy\n",
    "print (\"Creating 5X2 array using numpy.arange\")\n",
    "sampleArray=numpy.arange(100,200,10)\n",
    "SampleArray=sampleArray.reshape(5,2)\n",
    "print(SampleArray)"
   ]
  },
  {
   "cell_type": "code",
   "execution_count": 46,
   "id": "92f9655d",
   "metadata": {},
   "outputs": [
    {
     "name": "stdout",
     "output_type": "stream",
     "text": [
      "Printing Input Array\n",
      "[[11 22 33]\n",
      " [44 55 66]\n",
      " [77 88 99]]\n",
      "\n",
      " Printing array of items in the third column from all rows\n",
      "[33 66 99]\n"
     ]
    }
   ],
   "source": [
    "import numpy\n",
    "\n",
    "sampleArray = numpy.array([[11 ,22, 33], [44, 55, 66], [77, 88, 99]]) \n",
    "print(\"Printing Input Array\")\n",
    "print(sampleArray)\n",
    "\n",
    "print(\"\\n Printing array of items in the third column from all rows\")\n",
    "newArray = sampleArray[...,2]\n",
    "print(newArray)"
   ]
  },
  {
   "cell_type": "code",
   "execution_count": 45,
   "id": "bc2677e9",
   "metadata": {},
   "outputs": [
    {
     "name": "stdout",
     "output_type": "stream",
     "text": [
      "Printing Input Array\n",
      "[[ 3  6  9 12]\n",
      " [15 18 21 24]\n",
      " [27 30 33 36]\n",
      " [39 42 45 48]\n",
      " [51 54 57 60]]\n",
      "\n",
      " Printing array of odd rows and even columns\n",
      "[[ 6 12]\n",
      " [30 36]\n",
      " [54 60]]\n"
     ]
    }
   ],
   "source": [
    "import numpy\n",
    "sampleArray=numpy.array([[3,6,9,12],[15,18,21,24],[27,30,33,36],[39,42,45,48],[51,54,57,60]])\n",
    "print(\"Printing Input Array\")\n",
    "print(sampleArray)\n",
    "print(\"\\n Printing array of odd rows and even columns\")\n",
    "newArray = sampleArray[::2, 1::2]\n",
    "print(newArray)\n"
   ]
  },
  {
   "cell_type": "code",
   "execution_count": 47,
   "id": "3472b0fe",
   "metadata": {},
   "outputs": [
    {
     "name": "stdout",
     "output_type": "stream",
     "text": [
      "addition of two arrays is \n",
      "\n",
      "[[20 39 33]\n",
      " [25 25 28]]\n"
     ]
    }
   ],
   "source": [
    "import numpy\n",
    "arrayOne=numpy.array([[5,6,9],[21,18,27]])\n",
    "arrayTwo=numpy.array([[15,33,24],[4,7,1]])\n",
    "resultArray=arrayOne+arrayTwo\n",
    "print(\"addition of two arrays is \\n\")\n",
    "print(resultArray)"
   ]
  },
  {
   "cell_type": "code",
   "execution_count": 48,
   "id": "f44dd152",
   "metadata": {},
   "outputs": [
    {
     "name": "stdout",
     "output_type": "stream",
     "text": [
      "Creating 8X3 array using numpy.arange\n",
      "[[10 11 12]\n",
      " [13 14 15]\n",
      " [16 17 18]\n",
      " [19 20 21]\n",
      " [22 23 24]\n",
      " [25 26 27]\n",
      " [28 29 30]\n",
      " [31 32 33]]\n",
      "\n",
      "Dividing 8X3 array into 4 sub array\n",
      "\n",
      "[array([[10, 11, 12],\n",
      "       [13, 14, 15]]), array([[16, 17, 18],\n",
      "       [19, 20, 21]]), array([[22, 23, 24],\n",
      "       [25, 26, 27]]), array([[28, 29, 30],\n",
      "       [31, 32, 33]])]\n"
     ]
    }
   ],
   "source": [
    "import numpy\n",
    "\n",
    "print(\"Creating 8X3 array using numpy.arange\")\n",
    "sampleArray = numpy.arange(10, 34, 1)\n",
    "sampleArray = sampleArray.reshape(8,3)\n",
    "print (sampleArray)\n",
    "\n",
    "print(\"\\nDividing 8X3 array into 4 sub array\\n\")\n",
    "subArrays = numpy.split(sampleArray, 4) \n",
    "print(subArrays)"
   ]
  },
  {
   "cell_type": "code",
   "execution_count": 49,
   "id": "6c67d19e",
   "metadata": {},
   "outputs": [
    {
     "name": "stdout",
     "output_type": "stream",
     "text": [
      "Printing Original array\n",
      "[[34 43 73]\n",
      " [82 22 12]\n",
      " [53 94 66]]\n",
      "Sorting Original array by second row\n",
      "[[73 43 34]\n",
      " [12 22 82]\n",
      " [66 94 53]]\n"
     ]
    }
   ],
   "source": [
    "import numpy\n",
    "print(\"Printing Original array\")\n",
    "sampleArray=numpy.array([[34,43,73],[82,22,12],[53,94,66]])\n",
    "print(sampleArray)\n",
    "sortArrayByRow=sampleArray[:,sampleArray[1,:].argsort()]\n",
    "print(\"Sorting Original array by second row\")\n",
    "print(sortArrayByRow)"
   ]
  },
  {
   "cell_type": "code",
   "execution_count": 50,
   "id": "7b3cd1e0",
   "metadata": {},
   "outputs": [
    {
     "name": "stdout",
     "output_type": "stream",
     "text": [
      "Sorting Original array by second column\n",
      "[[82 22 12]\n",
      " [34 43 73]\n",
      " [53 94 66]]\n"
     ]
    }
   ],
   "source": [
    "print(\"Sorting Original array by second column\")\n",
    "sortArrayByColumn=sampleArray[sampleArray[:,1].argsort()]\n",
    "print(sortArrayByColumn)"
   ]
  },
  {
   "cell_type": "code",
   "execution_count": 51,
   "id": "9026b16b",
   "metadata": {},
   "outputs": [
    {
     "name": "stdout",
     "output_type": "stream",
     "text": [
      "printing original array\n",
      "[[34 43 73]\n",
      " [82 22 12]\n",
      " [53 94 66]]\n"
     ]
    }
   ],
   "source": [
    "import numpy\n",
    "print(\"printing original array\")\n",
    "sampleArray=numpy.array([[34,43,73],[82,22,12],[53,94,66]])\n",
    "print(sampleArray)"
   ]
  },
  {
   "cell_type": "code",
   "execution_count": 52,
   "id": "26dbf637",
   "metadata": {},
   "outputs": [
    {
     "name": "stdout",
     "output_type": "stream",
     "text": [
      "printing amin of Axis 1\n",
      "[34 12 53]\n"
     ]
    }
   ],
   "source": [
    "minOfAxisOne=numpy.amin(sampleArray,1)\n",
    "print(\"printing amin of Axis 1\")\n",
    "print(minOfAxisOne)"
   ]
  },
  {
   "cell_type": "code",
   "execution_count": 53,
   "id": "44a77f18",
   "metadata": {},
   "outputs": [
    {
     "name": "stdout",
     "output_type": "stream",
     "text": [
      "printing amax of axis 0\n",
      "[82 94 73]\n"
     ]
    }
   ],
   "source": [
    "maxOfAxisOne=numpy.amax(sampleArray,0)\n",
    "print(\"printing amax of axis 0\")\n",
    "print(maxOfAxisOne)"
   ]
  },
  {
   "cell_type": "code",
   "execution_count": 54,
   "id": "a75ab473",
   "metadata": {},
   "outputs": [
    {
     "name": "stdout",
     "output_type": "stream",
     "text": [
      "Printing Original array\n",
      "[[34 43 73]\n",
      " [82 22 12]\n",
      " [53 94 66]]\n",
      "Array after deleting column 2 on axis 1\n",
      "[[34 73]\n",
      " [82 12]\n",
      " [53 66]]\n",
      "Array after inserting column 2 on axis 1\n",
      "[[34 10 73]\n",
      " [82 10 12]\n",
      " [53 10 66]]\n"
     ]
    }
   ],
   "source": [
    "import numpy\n",
    "\n",
    "print(\"Printing Original array\")\n",
    "sampleArray = numpy.array([[34,43,73],[82,22,12],[53,94,66]]) \n",
    "print (sampleArray)\n",
    "\n",
    "print(\"Array after deleting column 2 on axis 1\")\n",
    "sampleArray = numpy.delete(sampleArray , 1, axis = 1) \n",
    "print (sampleArray)\n",
    "\n",
    "arr = numpy.array([[10,10,10]])\n",
    "\n",
    "print(\"Array after inserting column 2 on axis 1\")\n",
    "sampleArray = numpy.insert(sampleArray , 1, arr, axis = 1) \n",
    "print (sampleArray)"
   ]
  },
  {
   "cell_type": "code",
   "execution_count": 55,
   "id": "16802116",
   "metadata": {},
   "outputs": [
    {
     "name": "stdout",
     "output_type": "stream",
     "text": [
      "Printing Original array\n",
      "[[34 43 73]\n",
      " [82 22 12]\n",
      " [53 94 66]]\n",
      "Array after deleting column 2 on axis 1\n",
      "[[34 73]\n",
      " [82 12]\n",
      " [53 66]]\n",
      "Array after inserting column 2 on axis 1\n",
      "[[34 10 73]\n",
      " [82 10 12]\n",
      " [53 10 66]]\n"
     ]
    }
   ],
   "source": [
    "import numpy\n",
    "\n",
    "print(\"Printing Original array\")\n",
    "sampleArray = numpy.array([[34,43,73],[82,22,12],[53,94,66]]) \n",
    "print (sampleArray)\n",
    "\n",
    "print(\"Array after deleting column 2 on axis 1\")\n",
    "sampleArray = numpy.delete(sampleArray , 1, axis = 1) \n",
    "print (sampleArray)\n",
    "\n",
    "arr = numpy.array([[10,10,10]])\n",
    "\n",
    "print(\"Array after inserting column 2 on axis 1\")\n",
    "sampleArray = numpy.insert(sampleArray , 1, arr, axis = 1) \n",
    "print (sampleArray)"
   ]
  },
  {
   "cell_type": "code",
   "execution_count": 10,
   "id": "7e75f760",
   "metadata": {},
   "outputs": [
    {
     "name": "stdout",
     "output_type": "stream",
     "text": [
      "Working with Random Distributions\n"
     ]
    }
   ],
   "source": [
    "print(\"Working with Random Distributions\")\n",
    "import numpy as np\n",
    "import numpy.random as npr\n",
    "import matplotlib.pyplot as plt"
   ]
  },
  {
   "cell_type": "code",
   "execution_count": 11,
   "id": "e15c3b62",
   "metadata": {},
   "outputs": [
    {
     "name": "stdout",
     "output_type": "stream",
     "text": [
      "we can simulate values from a normal distribution\n",
      "{'   0.0114397116'}\n",
      "{'   1.0071446069'}\n"
     ]
    },
    {
     "data": {
      "text/plain": [
       "(array([  1.,   0.,   0.,   0.,   0.,   2.,   0.,   2.,   1.,   4.,   7.,\n",
       "          8.,   9.,  23.,  22.,  35.,  58.,  61.,  82., 118., 125., 145.,\n",
       "        182., 247., 254., 249., 270., 282., 308., 282., 292., 279., 291.,\n",
       "        241., 211., 200., 165., 150., 108.,  88.,  63.,  43.,  32.,  21.,\n",
       "         16.,   8.,   7.,   3.,   2.,   3.]),\n",
       " array([-4.48371686, -4.32848822, -4.17325958, -4.01803094, -3.86280231,\n",
       "        -3.70757367, -3.55234503, -3.39711639, -3.24188775, -3.08665911,\n",
       "        -2.93143047, -2.77620184, -2.6209732 , -2.46574456, -2.31051592,\n",
       "        -2.15528728, -2.00005864, -1.84483   , -1.68960137, -1.53437273,\n",
       "        -1.37914409, -1.22391545, -1.06868681, -0.91345817, -0.75822953,\n",
       "        -0.60300089, -0.44777226, -0.29254362, -0.13731498,  0.01791366,\n",
       "         0.1731423 ,  0.32837094,  0.48359958,  0.63882821,  0.79405685,\n",
       "         0.94928549,  1.10451413,  1.25974277,  1.41497141,  1.57020005,\n",
       "         1.72542868,  1.88065732,  2.03588596,  2.1911146 ,  2.34634324,\n",
       "         2.50157188,  2.65680052,  2.81202916,  2.96725779,  3.12248643,\n",
       "         3.27771507]),\n",
       " <BarContainer object of 50 artists>)"
      ]
     },
     "execution_count": 11,
     "metadata": {},
     "output_type": "execute_result"
    },
    {
     "data": {
      "image/png": "[encoded data removed]",
      "text/plain": [
       "<Figure size 432x288 with 1 Axes>"
      ]
     },
     "metadata": {
      "needs_background": "light"
     },
     "output_type": "display_data"
    }
   ],
   "source": [
    "\n",
    "print(\"we can simulate values from a normal distribution\")\n",
    "x=npr.standard_normal(5000)\n",
    "print({\"{:15.10f}\".format(x.mean())})\n",
    "print({\"{:15.10f}\".format(x.std())})\n",
    "plt.hist(x,bins=50)\n"
   ]
  },
  {
   "cell_type": "code",
   "execution_count": 12,
   "id": "6b61ac7c",
   "metadata": {},
   "outputs": [
    {
     "name": "stdout",
     "output_type": "stream",
     "text": [
      "{'  -0.0000000000'}\n",
      "{'   1.0072095741'}\n"
     ]
    },
    {
     "data": {
      "text/plain": [
       "(array([  1.,   0.,   0.,   0.,   2.,   0.,   4.,   4.,   9.,  13.,  23.,\n",
       "         39.,  51.,  86., 123., 171., 248., 306., 366., 451., 558., 582.,\n",
       "        625., 668., 670., 670., 668., 625., 582., 558., 451., 366., 306.,\n",
       "        248., 171., 123.,  86.,  51.,  39.,  23.,  13.,   9.,   4.,   4.,\n",
       "          0.,   2.,   0.,   0.,   0.,   1.]),\n",
       " array([-4.48371686, -4.30436819, -4.12501951, -3.94567084, -3.76632216,\n",
       "        -3.58697349, -3.40762481, -3.22827614, -3.04892747, -2.86957879,\n",
       "        -2.69023012, -2.51088144, -2.33153277, -2.15218409, -1.97283542,\n",
       "        -1.79348674, -1.61413807, -1.4347894 , -1.25544072, -1.07609205,\n",
       "        -0.89674337, -0.7173947 , -0.53804602, -0.35869735, -0.17934867,\n",
       "         0.        ,  0.17934867,  0.35869735,  0.53804602,  0.7173947 ,\n",
       "         0.89674337,  1.07609205,  1.25544072,  1.4347894 ,  1.61413807,\n",
       "         1.79348674,  1.97283542,  2.15218409,  2.33153277,  2.51088144,\n",
       "         2.69023012,  2.86957879,  3.04892747,  3.22827614,  3.40762481,\n",
       "         3.58697349,  3.76632216,  3.94567084,  4.12501951,  4.30436819,\n",
       "         4.48371686]),\n",
       " <BarContainer object of 50 artists>)"
      ]
     },
     "execution_count": 12,
     "metadata": {},
     "output_type": "execute_result"
    },
    {
     "data": {
      "image/png": "[encoded data removed]",
      "text/plain": [
       "<Figure size 432x288 with 1 Axes>"
      ]
     },
     "metadata": {
      "needs_background": "light"
     },
     "output_type": "display_data"
    }
   ],
   "source": [
    "\n",
    "y = np.concatenate([x, -x])\n",
    "print({\"{:15.10f}\".format(y.mean())})\n",
    "print({\"{:15.10f}\".format(y.std())})\n",
    "\n",
    "plt.hist(y,bins=50)"
   ]
  },
  {
   "cell_type": "code",
   "execution_count": 13,
   "id": "f4c412f2",
   "metadata": {},
   "outputs": [
    {
     "name": "stdout",
     "output_type": "stream",
     "text": [
      "Normalizing data will be us a variance of 1\n",
      "{'   1.0072095741'}\n",
      "{'   1.0000000000'}\n",
      "{'   0.0000000000'}\n"
     ]
    }
   ],
   "source": [
    "print(\"Normalizing data will be us a variance of 1\")\n",
    "z=(y-y.mean())/y.std()\n",
    "print({\"{:15.10f}\".format(y.std())})\n",
    "print({\"{:15.10f}\".format(z.std())})\n",
    "print({\"{:15.10f}\".format(z.mean())})"
   ]
  },
  {
   "cell_type": "code",
   "execution_count": 14,
   "id": "ecd047ab",
   "metadata": {},
   "outputs": [
    {
     "name": "stdout",
     "output_type": "stream",
     "text": [
      "to isolate the randomness for sensitivity analysis analysis use a seed value\n"
     ]
    },
    {
     "data": {
      "text/plain": [
       "array([0.76683068, 0.13251418, 0.11742868, 0.64000423, 0.78202258,\n",
       "       0.62121075, 0.97979678, 0.25864651, 0.92735559, 0.12731493])"
      ]
     },
     "execution_count": 14,
     "metadata": {},
     "output_type": "execute_result"
    }
   ],
   "source": [
    "print(\"to isolate the randomness for sensitivity analysis analysis use a seed value\")\n",
    "c=npr.random(10)\n",
    "c"
   ]
  },
  {
   "cell_type": "code",
   "execution_count": 15,
   "id": "9087e6bc",
   "metadata": {},
   "outputs": [
    {
     "data": {
      "text/plain": [
       "array([0.60170103, 0.40138169, 0.14800698, 0.58670712, 0.61989239,\n",
       "       0.51842446, 0.37429456, 0.63760008, 0.93304726, 0.30165541])"
      ]
     },
     "execution_count": 15,
     "metadata": {},
     "output_type": "execute_result"
    }
   ],
   "source": [
    "npr.seed()\n",
    "d=npr.random(10)\n",
    "d"
   ]
  },
  {
   "cell_type": "code",
   "execution_count": 27,
   "id": "55331d75",
   "metadata": {},
   "outputs": [],
   "source": [
    "import numpy as np\n",
    "import numpy.random as npr"
   ]
  },
  {
   "cell_type": "code",
   "execution_count": 28,
   "id": "58056a33",
   "metadata": {},
   "outputs": [
    {
     "name": "stdout",
     "output_type": "stream",
     "text": [
      "[ -2  -9  -5  -3   5  -7   7  -3  -4   1 -10  -2  -8  -4  -7   8  -1   6\n",
      "  -2  -3   2  -1 -10  -5   8   5   2  -2   3   1  -7   8   9  -6  -7  -2\n",
      "   2   7  -1  -2   8   9  -2  -7  -6  -5   9   4   7  -6   6  -9   5  -8\n",
      "  -5   7  -1  -7   0   0  -6   0   2  -5  -9  -7   9   0   3   6   0 -10\n",
      " -10   4   0  -5   1  -1   1   8  -9  -4   8   7   3  -3  -9   7  -2  -7\n",
      "  -8   1   5  -9   5  -5   0  -3  -2   7]\n"
     ]
    }
   ],
   "source": [
    "x=npr.randint(-10,10,size=100)\n",
    "print(x)"
   ]
  },
  {
   "cell_type": "code",
   "execution_count": 29,
   "id": "3136459d",
   "metadata": {},
   "outputs": [
    {
     "name": "stdout",
     "output_type": "stream",
     "text": [
      "Get observation that meet an upper and lower bound\n"
     ]
    },
    {
     "data": {
      "text/plain": [
       "array([-2, -4, -4, -3,  0, -4,  0, -3, -4,  0, -4, -2, -4, -4, -4,  0, -1,\n",
       "        0, -2, -3,  0, -1, -4, -4,  0,  0,  0, -2,  0,  0, -4,  0,  0, -4,\n",
       "       -4, -2,  0,  0, -1, -2,  0,  0, -2, -4, -4, -4,  0,  0,  0, -4,  0,\n",
       "       -4,  0, -4, -4,  0, -1, -4,  0,  0, -4,  0,  0, -4, -4, -4,  0,  0,\n",
       "        0,  0,  0, -4, -4,  0,  0, -4,  0, -1,  0,  0, -4, -4,  0,  0,  0,\n",
       "       -3, -4,  0, -2, -4, -4,  0,  0, -4,  0, -4,  0, -3, -2,  0])"
      ]
     },
     "execution_count": 29,
     "metadata": {},
     "output_type": "execute_result"
    }
   ],
   "source": [
    "print(\"Get observation that meet an upper and lower bound\")\n",
    "np.clip(x,-4,0)"
   ]
  },
  {
   "cell_type": "code",
   "execution_count": 30,
   "id": "a8641ba3",
   "metadata": {},
   "outputs": [
    {
     "name": "stdout",
     "output_type": "stream",
     "text": [
      "Replace observation with a thereshold value\n",
      "Replace negative value with zero\n"
     ]
    },
    {
     "data": {
      "text/plain": [
       "array([0, 0, 0, 0, 5, 0, 7, 0, 0, 1, 0, 0, 0, 0, 0, 8, 0, 6, 0, 0, 2, 0,\n",
       "       0, 0, 8, 5, 2, 0, 3, 1, 0, 8, 9, 0, 0, 0, 2, 7, 0, 0, 8, 9, 0, 0,\n",
       "       0, 0, 9, 4, 7, 0, 6, 0, 5, 0, 0, 7, 0, 0, 0, 0, 0, 0, 2, 0, 0, 0,\n",
       "       9, 0, 3, 6, 0, 0, 0, 4, 0, 0, 1, 0, 1, 8, 0, 0, 8, 7, 3, 0, 0, 7,\n",
       "       0, 0, 0, 1, 5, 0, 5, 0, 0, 0, 0, 7])"
      ]
     },
     "execution_count": 30,
     "metadata": {},
     "output_type": "execute_result"
    }
   ],
   "source": [
    "print(\"Replace observation with a thereshold value\")\n",
    "print(\"Replace negative value with zero\")\n",
    "x.clip(0)"
   ]
  },
  {
   "cell_type": "code",
   "execution_count": 31,
   "id": "75dc9b62",
   "metadata": {},
   "outputs": [
    {
     "name": "stdout",
     "output_type": "stream",
     "text": [
      "Random sampling\n"
     ]
    },
    {
     "data": {
      "text/plain": [
       "array([103, 982, 324, 827, 508,  36, 439,  36, 103, 827, 602, 394, 860,\n",
       "       258, 730, 526, 233,  18, 870, 780])"
      ]
     },
     "execution_count": 31,
     "metadata": {},
     "output_type": "execute_result"
    }
   ],
   "source": [
    "print(\"Random sampling\")\n",
    "y=npr.randint(1000,size=100)\n",
    "npr.choice(y,20)"
   ]
  },
  {
   "cell_type": "code",
   "execution_count": 32,
   "id": "bfdd9522",
   "metadata": {},
   "outputs": [
    {
     "data": {
      "text/plain": [
       "array([ 66, 154,  80, 355,  18, 605, 159, 753, 439, 306,  56, 730, 655,\n",
       "       581, 805, 827, 735, 578, 486, 508])"
      ]
     },
     "execution_count": 32,
     "metadata": {},
     "output_type": "execute_result"
    }
   ],
   "source": [
    "npr.choice(y,20,replace=False)"
   ]
  },
  {
   "cell_type": "code",
   "execution_count": 34,
   "id": "b60bb923",
   "metadata": {},
   "outputs": [
    {
     "name": "stdout",
     "output_type": "stream",
     "text": [
      "choice can also be used to generate a non_uniform\n",
      "getting one value out of 1 to 7 i.e prob 1 is 0.2 and so on\n"
     ]
    },
    {
     "data": {
      "text/plain": [
       "array([ 0.89703431, -0.28442117, -1.64466456, ...,  0.27754765,\n",
       "       -1.17670908, -0.77007985])"
      ]
     },
     "execution_count": 34,
     "metadata": {},
     "output_type": "execute_result"
    }
   ],
   "source": [
    "print(\"choice can also be used to generate a non_uniform\")\n",
    "print(\"getting one value out of 1 to 7 i.e prob 1 is 0.2 and so on\")\n",
    "npr.choice(np.arange(1,7),1,p=[.2,.1,.3,.15,.05,.2])\n",
    "npr.standard_normal(5000)"
   ]
  },
  {
   "cell_type": "code",
   "execution_count": 35,
   "id": "31d3cc60",
   "metadata": {},
   "outputs": [
    {
     "name": "stdout",
     "output_type": "stream",
     "text": [
      "stable sample\n"
     ]
    }
   ],
   "source": [
    "print(\"stable sample\")\n",
    "z=npr.random(100)\n",
    "sample=np.argsort(z)"
   ]
  },
  {
   "cell_type": "code",
   "execution_count": 36,
   "id": "9927b93d",
   "metadata": {},
   "outputs": [
    {
     "name": "stdout",
     "output_type": "stream",
     "text": [
      "Getting sorted random number\n"
     ]
    },
    {
     "data": {
      "text/plain": [
       "array([0.01330571, 0.01530808, 0.01790875, 0.02086734, 0.03332927,\n",
       "       0.04031819, 0.05679522, 0.05786199, 0.05989941, 0.06365297,\n",
       "       0.06416361, 0.07840866, 0.10673456, 0.14688872, 0.14713467,\n",
       "       0.16371272, 0.16453489, 0.17045319, 0.19365576, 0.21356222,\n",
       "       0.21955308, 0.21996881, 0.22426009, 0.25963542, 0.25984436,\n",
       "       0.26078948, 0.28040603, 0.29091132, 0.3302096 , 0.33534198,\n",
       "       0.35197077, 0.35643037, 0.35715206, 0.36822757, 0.3973007 ,\n",
       "       0.40467536, 0.41541405, 0.4354948 , 0.44961298, 0.45621867,\n",
       "       0.46874892, 0.47166416, 0.48711341, 0.49021414, 0.49391131,\n",
       "       0.51045125, 0.55145705, 0.57980577, 0.58054243, 0.58471108,\n",
       "       0.59531663, 0.59736215, 0.59960117, 0.612438  , 0.61922001,\n",
       "       0.63661117, 0.6399313 , 0.65384233, 0.67102393, 0.67871252,\n",
       "       0.69040117, 0.71543922, 0.72234238, 0.72236202, 0.73520412,\n",
       "       0.74034438, 0.74977707, 0.75309226, 0.76300792, 0.78362379,\n",
       "       0.78561591, 0.80540464, 0.82526951, 0.8331372 , 0.84322518,\n",
       "       0.84758051, 0.85358616, 0.85698182, 0.85792069, 0.87057735,\n",
       "       0.87365247, 0.87819501, 0.88472139, 0.88911056, 0.8914433 ,\n",
       "       0.90097901, 0.91322437, 0.92139924, 0.92443861, 0.93286797,\n",
       "       0.93430631, 0.93494497, 0.93840783, 0.93859081, 0.93874537,\n",
       "       0.9388551 , 0.94684359, 0.96384359, 0.96613023, 0.96617968])"
      ]
     },
     "execution_count": 36,
     "metadata": {},
     "output_type": "execute_result"
    }
   ],
   "source": [
    "print(\"Getting sorted random number\")\n",
    "z[sample]"
   ]
  },
  {
   "cell_type": "code",
   "execution_count": 37,
   "id": "9fccc8a9",
   "metadata": {},
   "outputs": [
    {
     "name": "stdout",
     "output_type": "stream",
     "text": [
      "Getting sorted random number of 20\n"
     ]
    },
    {
     "data": {
      "text/plain": [
       "array([0.01330571, 0.01530808, 0.01790875, 0.02086734, 0.03332927,\n",
       "       0.04031819, 0.05679522, 0.05786199, 0.05989941, 0.06365297,\n",
       "       0.06416361, 0.07840866, 0.10673456, 0.14688872, 0.14713467,\n",
       "       0.16371272, 0.16453489, 0.17045319, 0.19365576, 0.21356222])"
      ]
     },
     "execution_count": 37,
     "metadata": {},
     "output_type": "execute_result"
    }
   ],
   "source": [
    "print(\"Getting sorted random number of 20\")\n",
    "z[sample][:20]"
   ]
  },
  {
   "cell_type": "code",
   "execution_count": 38,
   "id": "00c7ed62",
   "metadata": {},
   "outputs": [
    {
     "name": "stdout",
     "output_type": "stream",
     "text": [
      "To get a stable sampling\n"
     ]
    },
    {
     "data": {
      "text/plain": [
       "array([271, 437, 554, 906, 338, 753, 536, 482, 785, 159, 667, 982,  66,\n",
       "       235, 863, 714,  81, 154, 959, 357])"
      ]
     },
     "execution_count": 38,
     "metadata": {},
     "output_type": "execute_result"
    }
   ],
   "source": [
    "print(\"To get a stable sampling\")\n",
    "y[sample][:20]"
   ]
  },
  {
   "cell_type": "code",
   "execution_count": 44,
   "id": "c194e934",
   "metadata": {},
   "outputs": [
    {
     "name": "stdout",
     "output_type": "stream",
     "text": [
      "Finding Unique Values and Insertion Point\n"
     ]
    }
   ],
   "source": [
    "print(\"Finding Unique Values and Insertion Point\")\n",
    "import numpy as np\n",
    "import numpy.random as npr\n",
    "from itertools import combinations"
   ]
  },
  {
   "cell_type": "code",
   "execution_count": 46,
   "id": "5a1bf0a6",
   "metadata": {},
   "outputs": [
    {
     "data": {
      "text/plain": [
       "['ABC', 'ABD', 'ABE', 'ABF', 'ABG']"
      ]
     },
     "execution_count": 46,
     "metadata": {},
     "output_type": "execute_result"
    }
   ],
   "source": [
    "available=[x[0]+x[1]+x[2] for x in combinations(\"ABCDEFGHIJKLM\",3)]\n",
    "available[:5]"
   ]
  },
  {
   "cell_type": "code",
   "execution_count": 48,
   "id": "84e48d04",
   "metadata": {},
   "outputs": [
    {
     "data": {
      "text/plain": [
       "array(['AEM', 'CGK', 'EHI', 'DIK', 'AEJ', 'AIK', 'EIM', 'DEK', 'BEM',\n",
       "       'BFM', 'BDM', 'DFJ', 'DFG', 'GJM', 'EIK', 'DEJ', 'CDJ', 'BDE',\n",
       "       'BJM', 'DEK', 'EGI', 'ACL', 'EGI', 'HJK', 'AHK', 'JLM', 'DEH',\n",
       "       'CEJ', 'AGM', 'FJM', 'CDG', 'EGM', 'AFJ', 'CFH', 'EJM', 'BDJ',\n",
       "       'GKM', 'CFK', 'BCI', 'AFH', 'EFI', 'BGL', 'BCJ', 'BFI', 'BDI',\n",
       "       'EKM', 'EHM', 'BLM', 'AEL', 'CIK', 'FKL', 'ACK', 'CFL', 'HJK',\n",
       "       'EGK', 'BGL', 'DFG', 'AIM', 'ACE', 'FLM'], dtype='<U3')"
      ]
     },
     "execution_count": 48,
     "metadata": {},
     "output_type": "execute_result"
    }
   ],
   "source": [
    "available=[x[0]+x[1]+x[2] for x in combinations(\"ABCDEFGHIJKLM\",3)]\n",
    "symbols=npr.choice(available,60)\n",
    "symbols"
   ]
  },
  {
   "cell_type": "code",
   "execution_count": 49,
   "id": "6b84b8a0",
   "metadata": {},
   "outputs": [
    {
     "name": "stdout",
     "output_type": "stream",
     "text": [
      "Return sorted array of unique observation\n"
     ]
    },
    {
     "data": {
      "text/plain": [
       "array(['ACE', 'ACK', 'ACL', 'AEJ', 'AEL', 'AEM', 'AFH', 'AFJ', 'AGM',\n",
       "       'AHK', 'AIK', 'AIM', 'BCI', 'BCJ', 'BDE', 'BDI', 'BDJ', 'BDM',\n",
       "       'BEM', 'BFI', 'BFM', 'BGL', 'BJM', 'BLM', 'CDG', 'CDJ', 'CEJ',\n",
       "       'CFH', 'CFK', 'CFL', 'CGK', 'CIK', 'DEH', 'DEJ', 'DEK', 'DFG',\n",
       "       'DFJ', 'DIK', 'EFI', 'EGI', 'EGK', 'EGM', 'EHI', 'EHM', 'EIK',\n",
       "       'EIM', 'EJM', 'EKM', 'FJM', 'FKL', 'FLM', 'GJM', 'GKM', 'HJK',\n",
       "       'JLM'], dtype='<U3')"
      ]
     },
     "execution_count": 49,
     "metadata": {},
     "output_type": "execute_result"
    }
   ],
   "source": [
    "print(\"Return sorted array of unique observation\")\n",
    "np.unique(symbols)"
   ]
  },
  {
   "cell_type": "code",
   "execution_count": 50,
   "id": "b2ec1aad",
   "metadata": {},
   "outputs": [
    {
     "data": {
      "text/plain": [
       "55"
      ]
     },
     "execution_count": 50,
     "metadata": {},
     "output_type": "execute_result"
    }
   ],
   "source": [
    "len(np.unique(symbols))"
   ]
  },
  {
   "cell_type": "code",
   "execution_count": 51,
   "id": "d6c5284e",
   "metadata": {},
   "outputs": [
    {
     "name": "stdout",
     "output_type": "stream",
     "text": [
      "Return sorted array of unique observations\n"
     ]
    },
    {
     "data": {
      "text/plain": [
       "(array(['ACE', 'ACK', 'ACL', 'AEJ', 'AEL', 'AEM', 'AFH', 'AFJ', 'AGM',\n",
       "        'AHK', 'AIK', 'AIM', 'BCI', 'BCJ', 'BDE', 'BDI', 'BDJ', 'BDM',\n",
       "        'BEM', 'BFI', 'BFM', 'BGL', 'BJM', 'BLM', 'CDG', 'CDJ', 'CEJ',\n",
       "        'CFH', 'CFK', 'CFL', 'CGK', 'CIK', 'DEH', 'DEJ', 'DEK', 'DFG',\n",
       "        'DFJ', 'DIK', 'EFI', 'EGI', 'EGK', 'EGM', 'EHI', 'EHM', 'EIK',\n",
       "        'EIM', 'EJM', 'EKM', 'FJM', 'FKL', 'FLM', 'GJM', 'GKM', 'HJK',\n",
       "        'JLM'], dtype='<U3'),\n",
       " array([58, 51, 21,  4, 48,  0, 39, 32, 28, 24,  5, 57, 38, 42, 17, 44, 35,\n",
       "        10,  8, 43,  9, 41, 18, 47, 30, 16, 27, 33, 37, 52,  1, 49, 26, 15,\n",
       "         7, 12, 11,  3, 40, 20, 54, 31,  2, 46, 14,  6, 34, 45, 29, 50, 59,\n",
       "        13, 36, 23, 25], dtype=int64))"
      ]
     },
     "execution_count": 51,
     "metadata": {},
     "output_type": "execute_result"
    }
   ],
   "source": [
    "print(\"Return sorted array of unique observations\")\n",
    "np.unique(symbols,return_index=True)"
   ]
  },
  {
   "cell_type": "code",
   "execution_count": 54,
   "id": "db1f7607",
   "metadata": {},
   "outputs": [],
   "source": [
    "a, b = np.unique(symbols,return_index=True)"
   ]
  },
  {
   "cell_type": "code",
   "execution_count": 55,
   "id": "ab353bf0",
   "metadata": {},
   "outputs": [
    {
     "name": "stdout",
     "output_type": "stream",
     "text": [
      "return_inverse\n"
     ]
    }
   ],
   "source": [
    "print(\"return_inverse\")\n",
    "unique, index = np.unique(symbols, return_inverse=True)"
   ]
  },
  {
   "cell_type": "code",
   "execution_count": 56,
   "id": "a560693f",
   "metadata": {},
   "outputs": [
    {
     "name": "stdout",
     "output_type": "stream",
     "text": [
      "To get original unsorted array\n"
     ]
    },
    {
     "data": {
      "text/plain": [
       "array(['AEM', 'CGK', 'EHI', 'DIK', 'AEJ', 'AIK', 'EIM', 'DEK', 'BEM',\n",
       "       'BFM', 'BDM', 'DFJ', 'DFG', 'GJM', 'EIK', 'DEJ', 'CDJ', 'BDE',\n",
       "       'BJM', 'DEK', 'EGI', 'ACL', 'EGI', 'HJK', 'AHK', 'JLM', 'DEH',\n",
       "       'CEJ', 'AGM', 'FJM', 'CDG', 'EGM', 'AFJ', 'CFH', 'EJM', 'BDJ',\n",
       "       'GKM', 'CFK', 'BCI', 'AFH', 'EFI', 'BGL', 'BCJ', 'BFI', 'BDI',\n",
       "       'EKM', 'EHM', 'BLM', 'AEL', 'CIK', 'FKL', 'ACK', 'CFL', 'HJK',\n",
       "       'EGK', 'BGL', 'DFG', 'AIM', 'ACE', 'FLM'], dtype='<U3')"
      ]
     },
     "execution_count": 56,
     "metadata": {},
     "output_type": "execute_result"
    }
   ],
   "source": [
    "print(\"To get original unsorted array\")\n",
    "unique[index]"
   ]
  },
  {
   "cell_type": "code",
   "execution_count": 57,
   "id": "b32ec198",
   "metadata": {},
   "outputs": [
    {
     "name": "stdout",
     "output_type": "stream",
     "text": [
      "returns count of observations\n"
     ]
    },
    {
     "data": {
      "text/plain": [
       "(array(['ACE', 'ACK', 'ACL', 'AEJ', 'AEL', 'AEM', 'AFH', 'AFJ', 'AGM',\n",
       "        'AHK', 'AIK', 'AIM', 'BCI', 'BCJ', 'BDE', 'BDI', 'BDJ', 'BDM',\n",
       "        'BEM', 'BFI', 'BFM', 'BGL', 'BJM', 'BLM', 'CDG', 'CDJ', 'CEJ',\n",
       "        'CFH', 'CFK', 'CFL', 'CGK', 'CIK', 'DEH', 'DEJ', 'DEK', 'DFG',\n",
       "        'DFJ', 'DIK', 'EFI', 'EGI', 'EGK', 'EGM', 'EHI', 'EHM', 'EIK',\n",
       "        'EIM', 'EJM', 'EKM', 'FJM', 'FKL', 'FLM', 'GJM', 'GKM', 'HJK',\n",
       "        'JLM'], dtype='<U3'),\n",
       " array([1, 1, 1, 1, 1, 1, 1, 1, 1, 1, 1, 1, 1, 1, 1, 1, 1, 1, 1, 1, 1, 2,\n",
       "        1, 1, 1, 1, 1, 1, 1, 1, 1, 1, 1, 1, 2, 2, 1, 1, 1, 2, 1, 1, 1, 1,\n",
       "        1, 1, 1, 1, 1, 1, 1, 1, 1, 2, 1], dtype=int64))"
      ]
     },
     "execution_count": 57,
     "metadata": {},
     "output_type": "execute_result"
    }
   ],
   "source": [
    "print(\"returns count of observations\")\n",
    "np.unique(symbols,return_counts=True)"
   ]
  },
  {
   "cell_type": "code",
   "execution_count": 59,
   "id": "90ddb567",
   "metadata": {},
   "outputs": [
    {
     "name": "stdout",
     "output_type": "stream",
     "text": [
      "Return the index where a value should be inserted to maintain order in sorted array\n"
     ]
    },
    {
     "data": {
      "text/plain": [
       "1"
      ]
     },
     "execution_count": 59,
     "metadata": {},
     "output_type": "execute_result"
    }
   ],
   "source": [
    "print(\"Return the index where a value should be inserted to maintain order in sorted array\")\n",
    "np.searchsorted(symbols,\"BFD\")"
   ]
  },
  {
   "cell_type": "code",
   "execution_count": 60,
   "id": "202bbe40",
   "metadata": {},
   "outputs": [
    {
     "data": {
      "text/plain": [
       "array([ 1,  1, 60], dtype=int64)"
      ]
     },
     "execution_count": 60,
     "metadata": {},
     "output_type": "execute_result"
    }
   ],
   "source": [
    "np.searchsorted(symbols,['BFD','AKA','IMO'])"
   ]
  },
  {
   "cell_type": "code",
   "execution_count": 62,
   "id": "6b3d4ce9",
   "metadata": {},
   "outputs": [
    {
     "name": "stdout",
     "output_type": "stream",
     "text": [
      "Manipulating Arrays and Numpy Data Operations\n",
      "Working with Combining arrays\n"
     ]
    }
   ],
   "source": [
    "#NumPy Arrays\n",
    "print(\"Manipulating Arrays and Numpy Data Operations\")\n",
    "print(\"Working with Combining arrays\")"
   ]
  },
  {
   "cell_type": "code",
   "execution_count": 63,
   "id": "97c2bdce",
   "metadata": {},
   "outputs": [],
   "source": [
    "import numpy as np\n",
    "import numpy.random as npr"
   ]
  },
  {
   "cell_type": "code",
   "execution_count": 64,
   "id": "7041d0f3",
   "metadata": {},
   "outputs": [],
   "source": [
    "array1=[[1,2],[3,4]]\n",
    "array2=[[5,6],[7,8]]"
   ]
  },
  {
   "cell_type": "code",
   "execution_count": 65,
   "id": "f5c06609",
   "metadata": {},
   "outputs": [
    {
     "data": {
      "text/plain": [
       "array([[1, 2],\n",
       "       [3, 4],\n",
       "       [5, 6],\n",
       "       [7, 8]])"
      ]
     },
     "execution_count": 65,
     "metadata": {},
     "output_type": "execute_result"
    }
   ],
   "source": [
    "np.concatenate((array1,array2))"
   ]
  },
  {
   "cell_type": "code",
   "execution_count": 66,
   "id": "e03c50bc",
   "metadata": {},
   "outputs": [
    {
     "name": "stdout",
     "output_type": "stream",
     "text": [
      "Added to column\n"
     ]
    },
    {
     "data": {
      "text/plain": [
       "array([[1, 2, 5, 6],\n",
       "       [3, 4, 7, 8]])"
      ]
     },
     "execution_count": 66,
     "metadata": {},
     "output_type": "execute_result"
    }
   ],
   "source": [
    "print(\"Added to column\")\n",
    "np.concatenate((array1,array2),axis=1)"
   ]
  },
  {
   "cell_type": "code",
   "execution_count": 67,
   "id": "2b4937fc",
   "metadata": {},
   "outputs": [
    {
     "name": "stdout",
     "output_type": "stream",
     "text": [
      "[0 1 2 3 4 5 6 7 8 9]\n"
     ]
    }
   ],
   "source": [
    "x=npr.randint(20,size=20).reshape(10,2)\n",
    "y=np.arange(10)\n",
    "print(y)"
   ]
  },
  {
   "cell_type": "code",
   "execution_count": 68,
   "id": "e5ea6787",
   "metadata": {},
   "outputs": [
    {
     "name": "stdout",
     "output_type": "stream",
     "text": [
      "Append allows you to add values without requiring the same dimensionally\n"
     ]
    },
    {
     "data": {
      "text/plain": [
       "array([ 4, 17, 16,  7,  1,  9, 14,  4, 11,  1, 12,  7,  3, 14,  4,  2, 19,\n",
       "        3, 14,  1,  0,  1,  2,  3,  4,  5,  6,  7,  8,  9])"
      ]
     },
     "execution_count": 68,
     "metadata": {},
     "output_type": "execute_result"
    }
   ],
   "source": [
    "print(\"Append allows you to add values without requiring the same dimensionally\")\n",
    "np.append(x,y)"
   ]
  },
  {
   "cell_type": "code",
   "execution_count": 69,
   "id": "e6d8cbda",
   "metadata": {},
   "outputs": [
    {
     "name": "stdout",
     "output_type": "stream",
     "text": [
      "you can reshape the array to regain dimensions\n",
      "[[ 4 17]\n",
      " [16  7]\n",
      " [ 1  9]\n",
      " [14  4]\n",
      " [11  1]\n",
      " [12  7]\n",
      " [ 3 14]\n",
      " [ 4  2]\n",
      " [19  3]\n",
      " [14  1]\n",
      " [ 0  1]\n",
      " [ 2  3]\n",
      " [ 4  5]\n",
      " [ 6  7]\n",
      " [ 8  9]]\n",
      "(15, 2)\n"
     ]
    }
   ],
   "source": [
    "print(\"you can reshape the array to regain dimensions\")\n",
    "z=np.append(x,y)\n",
    "z=z.reshape(15,2)\n",
    "print(z)\n",
    "print(z.shape)"
   ]
  },
  {
   "cell_type": "code",
   "execution_count": 70,
   "id": "f7f94452",
   "metadata": {},
   "outputs": [
    {
     "name": "stdout",
     "output_type": "stream",
     "text": [
      "We can add a third column\n"
     ]
    }
   ],
   "source": [
    "print(\"We can add a third column\")\n",
    "merged=np.zeros((10,3))\n",
    "merged[:,:2]=x\n",
    "merged[:,2]=y"
   ]
  },
  {
   "cell_type": "code",
   "execution_count": 71,
   "id": "89037af3",
   "metadata": {},
   "outputs": [
    {
     "name": "stdout",
     "output_type": "stream",
     "text": [
      "Column y to x array\n",
      "hstack converts float to integer\n"
     ]
    },
    {
     "data": {
      "text/plain": [
       "array([[ 4, 17,  0],\n",
       "       [16,  7,  1],\n",
       "       [ 1,  9,  2],\n",
       "       [14,  4,  3],\n",
       "       [11,  1,  4],\n",
       "       [12,  7,  5],\n",
       "       [ 3, 14,  6],\n",
       "       [ 4,  2,  7],\n",
       "       [19,  3,  8],\n",
       "       [14,  1,  9]])"
      ]
     },
     "execution_count": 71,
     "metadata": {},
     "output_type": "execute_result"
    }
   ],
   "source": [
    "print(\"Column y to x array\")\n",
    "y=y.reshape(10,1)\n",
    "print(\"hstack converts float to integer\")\n",
    "np.hstack([x,y])"
   ]
  },
  {
   "cell_type": "code",
   "execution_count": 72,
   "id": "f480be54",
   "metadata": {},
   "outputs": [
    {
     "data": {
      "text/plain": [
       "array([[[ 0,  1,  2],\n",
       "        [ 3,  4,  5],\n",
       "        [ 6,  7,  8]],\n",
       "\n",
       "       [[ 9, 10, 11],\n",
       "        [12, 13, 14],\n",
       "        [15, 16, 17]],\n",
       "\n",
       "       [[18, 19, 20],\n",
       "        [21, 22, 23],\n",
       "        [24, 25, 26]]])"
      ]
     },
     "execution_count": 72,
     "metadata": {},
     "output_type": "execute_result"
    }
   ],
   "source": [
    "import numpy as np\n",
    "arr=np.arange(27).reshape(3,3,3)\n",
    "arr"
   ]
  },
  {
   "cell_type": "code",
   "execution_count": 73,
   "id": "f60915b0",
   "metadata": {},
   "outputs": [
    {
     "name": "stdout",
     "output_type": "stream",
     "text": [
      "sometime you want to flatten an ndim array to a single dimension\n"
     ]
    },
    {
     "data": {
      "text/plain": [
       "array([ 0,  1,  2,  3,  4,  5,  6,  7,  8,  9, 10, 11, 12, 13, 14, 15, 16,\n",
       "       17, 18, 19, 20, 21, 22, 23, 24, 25, 26])"
      ]
     },
     "execution_count": 73,
     "metadata": {},
     "output_type": "execute_result"
    }
   ],
   "source": [
    "print(\"sometime you want to flatten an ndim array to a single dimension\")\n",
    "arr.flatten()"
   ]
  },
  {
   "cell_type": "code",
   "execution_count": 74,
   "id": "c54960f2",
   "metadata": {},
   "outputs": [
    {
     "name": "stdout",
     "output_type": "stream",
     "text": [
      "sometimes you want to reassign values -> use .flat\n"
     ]
    },
    {
     "data": {
      "text/plain": [
       "array([[[3, 3, 3],\n",
       "        [3, 3, 3],\n",
       "        [3, 3, 3]],\n",
       "\n",
       "       [[3, 3, 3],\n",
       "        [3, 3, 3],\n",
       "        [3, 3, 3]],\n",
       "\n",
       "       [[3, 3, 3],\n",
       "        [3, 3, 3],\n",
       "        [3, 3, 3]]])"
      ]
     },
     "execution_count": 74,
     "metadata": {},
     "output_type": "execute_result"
    }
   ],
   "source": [
    "print(\"sometimes you want to reassign values -> use .flat\")\n",
    "arr_copy=arr\n",
    "arr_copy.flat=3\n",
    "arr_copy"
   ]
  },
  {
   "cell_type": "code",
   "execution_count": 75,
   "id": "f4b2d017",
   "metadata": {},
   "outputs": [
    {
     "name": "stdout",
     "output_type": "stream",
     "text": [
      "We can choose indexes to reassign\n",
      "[[[1 1 1]\n",
      "  [3 1 3]\n",
      "  [3 1 3]]\n",
      "\n",
      " [[3 1 3]\n",
      "  [3 3 3]\n",
      "  [3 3 3]]\n",
      "\n",
      " [[3 3 3]\n",
      "  [3 3 3]\n",
      "  [3 3 3]]]\n"
     ]
    }
   ],
   "source": [
    "print(\"We can choose indexes to reassign\")\n",
    "arr_copy.flat[[0,1,2,4,7,10]]=1\n",
    "print(arr_copy)"
   ]
  },
  {
   "cell_type": "code",
   "execution_count": 76,
   "id": "0c0054a3",
   "metadata": {},
   "outputs": [
    {
     "name": "stdout",
     "output_type": "stream",
     "text": [
      "We can reassign a range of indexes\n"
     ]
    },
    {
     "data": {
      "text/plain": [
       "array([[[1, 0, 0],\n",
       "        [0, 0, 0],\n",
       "        [0, 0, 0]],\n",
       "\n",
       "       [[3, 1, 3],\n",
       "        [3, 3, 3],\n",
       "        [3, 3, 3]],\n",
       "\n",
       "       [[3, 3, 3],\n",
       "        [3, 3, 3],\n",
       "        [3, 3, 3]]])"
      ]
     },
     "execution_count": 76,
     "metadata": {},
     "output_type": "execute_result"
    }
   ],
   "source": [
    "print(\"We can reassign a range of indexes\")\n",
    "arr_copy.flat[1:9]=0\n",
    "arr_copy"
   ]
  },
  {
   "cell_type": "code",
   "execution_count": 77,
   "id": "307f7761",
   "metadata": {},
   "outputs": [
    {
     "name": "stdout",
     "output_type": "stream",
     "text": [
      "you can also remove dimensions with reshape\n",
      "(3, 3, 3)\n"
     ]
    },
    {
     "data": {
      "text/plain": [
       "array([[[1, 0, 0],\n",
       "        [0, 0, 0],\n",
       "        [0, 0, 0]],\n",
       "\n",
       "       [[3, 1, 3],\n",
       "        [3, 3, 3],\n",
       "        [3, 3, 3]],\n",
       "\n",
       "       [[3, 3, 3],\n",
       "        [3, 3, 3],\n",
       "        [3, 3, 3]]])"
      ]
     },
     "execution_count": 77,
     "metadata": {},
     "output_type": "execute_result"
    }
   ],
   "source": [
    "print(\"you can also remove dimensions with reshape\")\n",
    "arr.reshape(-1,3)\n",
    "print(arr.shape)\n",
    "arr"
   ]
  },
  {
   "cell_type": "code",
   "execution_count": 3,
   "id": "dc3c3e41",
   "metadata": {},
   "outputs": [],
   "source": [
    "import numpy as np \n",
    "import numpy.random as npr\n",
    "import matplotlib.pyplot as plt"
   ]
  },
  {
   "cell_type": "code",
   "execution_count": 4,
   "id": "8d603587",
   "metadata": {},
   "outputs": [
    {
     "name": "stdout",
     "output_type": "stream",
     "text": [
      "We can initialize an array with or without dtype\n",
      "[ True  True  True  True]\n",
      "[ True  True  True  True]\n",
      "[False False False False]\n"
     ]
    }
   ],
   "source": [
    "print(\"We can initialize an array with or without dtype\")\n",
    "print(np.full(4, True, dtype=bool))\n",
    "print(np.ones(4,dtype=bool))\n",
    "print(np.zeros(4,dtype=bool))"
   ]
  },
  {
   "cell_type": "code",
   "execution_count": 5,
   "id": "8505af44",
   "metadata": {},
   "outputs": [
    {
     "name": "stdout",
     "output_type": "stream",
     "text": [
      "Evaluate to True & False; but dtype should be specified to avoid confusion\n"
     ]
    },
    {
     "data": {
      "text/plain": [
       "array([ True,  True,  True, False,  True,  True, False,  True,  True,\n",
       "        True])"
      ]
     },
     "execution_count": 5,
     "metadata": {},
     "output_type": "execute_result"
    }
   ],
   "source": [
    "print(\"Evaluate to True & False; but dtype should be specified to avoid confusion\")\n",
    "npr.randint(0,2,size=10,dtype=bool)"
   ]
  },
  {
   "cell_type": "code",
   "execution_count": 10,
   "id": "f244fd47",
   "metadata": {},
   "outputs": [
    {
     "name": "stdout",
     "output_type": "stream",
     "text": [
      "We can also create boolean arrays from other array\n"
     ]
    },
    {
     "data": {
      "text/plain": [
       "array([ 71.46185613,  79.14294235,  82.47570324,  77.55793276,\n",
       "        70.04728453, 102.96318009, 115.46155206, 111.86098619,\n",
       "        99.01162237,  97.75300189,  77.26743303, 104.51605362,\n",
       "        87.64506664, 116.96601962, 105.9769783 , 104.23694471,\n",
       "       116.15692488,  97.26297061,  90.6481906 ,  99.45746259,\n",
       "        94.21073471, 101.62412351, 104.66438058,  88.8802707 ,\n",
       "       105.3724773 ])"
      ]
     },
     "execution_count": 10,
     "metadata": {},
     "output_type": "execute_result"
    }
   ],
   "source": [
    "print(\"We can also create boolean arrays from other array\")\n",
    "#npr.normal(mean,sd,size)\n",
    "data=npr.normal(100,15,25)\n",
    "data"
   ]
  },
  {
   "cell_type": "code",
   "execution_count": 11,
   "id": "4831d336",
   "metadata": {},
   "outputs": [
    {
     "data": {
      "text/plain": [
       "array([False, False, False, False, False,  True,  True,  True, False,\n",
       "       False, False,  True, False,  True,  True,  True,  True, False,\n",
       "       False, False, False,  True,  True, False,  True])"
      ]
     },
     "execution_count": 11,
     "metadata": {},
     "output_type": "execute_result"
    },
    {
     "data": {
      "image/png": "[encoded data removed]",
      "text/plain": [
       "<Figure size 432x288 with 1 Axes>"
      ]
     },
     "metadata": {
      "needs_background": "light"
     },
     "output_type": "display_data"
    }
   ],
   "source": [
    "plt.hist(data)\n",
    "mask=data>100\n",
    "mask"
   ]
  },
  {
   "cell_type": "code",
   "execution_count": 8,
   "id": "c1302ec4",
   "metadata": {},
   "outputs": [
    {
     "data": {
      "text/plain": [
       "array([101.5320013 , 117.17263112, 117.0248974 , 121.38993702,\n",
       "       101.18925676, 106.61908164, 115.6939123 , 115.46630214,\n",
       "       104.88521522, 134.5069317 , 107.51025326])"
      ]
     },
     "execution_count": 8,
     "metadata": {},
     "output_type": "execute_result"
    }
   ],
   "source": [
    "data[mask]"
   ]
  },
  {
   "cell_type": "code",
   "execution_count": 12,
   "id": "38c026b0",
   "metadata": {},
   "outputs": [
    {
     "name": "stdout",
     "output_type": "stream",
     "text": [
      "Numpy also has a number of logical function\n"
     ]
    },
    {
     "data": {
      "text/plain": [
       "array([102.96318009, 104.51605362, 105.9769783 , 104.23694471,\n",
       "       101.62412351, 104.66438058, 105.3724773 ])"
      ]
     },
     "execution_count": 12,
     "metadata": {},
     "output_type": "execute_result"
    }
   ],
   "source": [
    "print(\"Numpy also has a number of logical function\")\n",
    "#np.logical_and(data>100,data<110)\n",
    "mask=np.logical_and(data>100,data<110)\n",
    "data[mask]"
   ]
  },
  {
   "cell_type": "code",
   "execution_count": 13,
   "id": "45637131",
   "metadata": {},
   "outputs": [
    {
     "data": {
      "text/plain": [
       "array([ 71.46185613,  79.14294235,  82.47570324,  77.55793276,\n",
       "        70.04728453, 115.46155206,  77.26743303, 116.96601962,\n",
       "       116.15692488])"
      ]
     },
     "execution_count": 13,
     "metadata": {},
     "output_type": "execute_result"
    }
   ],
   "source": [
    "mask=np.logical_or(data>115,data<85)\n",
    "data[mask]"
   ]
  },
  {
   "cell_type": "code",
   "execution_count": 14,
   "id": "faf32c42",
   "metadata": {},
   "outputs": [
    {
     "data": {
      "text/plain": [
       "array([ 73.46185613,  80.14294235,  89.47570324,  82.55793276,\n",
       "        79.04728453, 103.96318009, 121.46155206, 113.86098619,\n",
       "       104.01162237, 104.75300189,  85.26743303, 107.51605362,\n",
       "        96.64506664, 124.96601962, 106.9769783 , 114.23694471,\n",
       "       118.15692488, 105.26297061,  97.6481906 , 101.45746259,\n",
       "       104.21073471, 104.62412351, 110.66438058,  90.8802707 ,\n",
       "       110.3724773 ])"
      ]
     },
     "execution_count": 14,
     "metadata": {},
     "output_type": "execute_result"
    }
   ],
   "source": [
    "rand=npr.randint(1,11,25)\n",
    "close=data+rand\n",
    "close"
   ]
  },
  {
   "cell_type": "code",
   "execution_count": 15,
   "id": "5cade549",
   "metadata": {},
   "outputs": [
    {
     "data": {
      "text/plain": [
       "False"
      ]
     },
     "execution_count": 15,
     "metadata": {},
     "output_type": "execute_result"
    }
   ],
   "source": [
    "np.allclose(data,close,atol=1)"
   ]
  },
  {
   "cell_type": "code",
   "execution_count": 16,
   "id": "18e804d2",
   "metadata": {},
   "outputs": [
    {
     "data": {
      "text/plain": [
       "array([ True,  True, False,  True, False,  True, False,  True,  True,\n",
       "       False, False,  True, False, False,  True, False,  True, False,\n",
       "       False,  True, False,  True, False,  True,  True])"
      ]
     },
     "execution_count": 16,
     "metadata": {},
     "output_type": "execute_result"
    }
   ],
   "source": [
    "np.isclose(data,close,atol=5)"
   ]
  },
  {
   "cell_type": "code",
   "execution_count": 18,
   "id": "ff6c0450",
   "metadata": {},
   "outputs": [
    {
     "data": {
      "text/plain": [
       "13"
      ]
     },
     "execution_count": 18,
     "metadata": {},
     "output_type": "execute_result"
    }
   ],
   "source": [
    "np.count_nonzero(np.isclose(data,close,atol=5))"
   ]
  },
  {
   "cell_type": "code",
   "execution_count": 20,
   "id": "7463a56e",
   "metadata": {},
   "outputs": [],
   "source": [
    "import numpy as np\n",
    "import numpy.random as npr\n",
    "import matplotlib.pyplot as plt"
   ]
  },
  {
   "cell_type": "code",
   "execution_count": 21,
   "id": "a35139b1",
   "metadata": {},
   "outputs": [
    {
     "data": {
      "text/plain": [
       "array([ 0,  1,  4,  9, 16, 25, 36, 49, 64, 81])"
      ]
     },
     "execution_count": 21,
     "metadata": {},
     "output_type": "execute_result"
    }
   ],
   "source": [
    "data=np.arange(10)\n",
    "np.multiply(data,data)"
   ]
  },
  {
   "cell_type": "code",
   "execution_count": 25,
   "id": "f7daf80e",
   "metadata": {},
   "outputs": [
    {
     "data": {
      "text/plain": [
       "array([ 0,  1,  4,  9, 16, 25, 36, 49, 64, 81])"
      ]
     },
     "execution_count": 25,
     "metadata": {},
     "output_type": "execute_result"
    }
   ],
   "source": [
    "data=list(range(10))\n",
    "np.multiply(data,data)"
   ]
  },
  {
   "cell_type": "code",
   "execution_count": 26,
   "id": "2b5df75e",
   "metadata": {},
   "outputs": [
    {
     "data": {
      "text/plain": [
       "array([ 0,  1,  4,  9, 16, 25, 36, 49, 64, 81])"
      ]
     },
     "execution_count": 26,
     "metadata": {},
     "output_type": "execute_result"
    }
   ],
   "source": [
    "data=tuple(range(10))\n",
    "np.multiply(data,data)"
   ]
  },
  {
   "cell_type": "code",
   "execution_count": 27,
   "id": "609ef07c",
   "metadata": {},
   "outputs": [
    {
     "data": {
      "text/plain": [
       "array([ 0,  1,  2,  3, 16, 25, 36, 49, 64, 81])"
      ]
     },
     "execution_count": 27,
     "metadata": {},
     "output_type": "execute_result"
    }
   ],
   "source": [
    "data=np.arange(10)\n",
    "np.multiply(data,data,where=data>3)"
   ]
  },
  {
   "cell_type": "code",
   "execution_count": 28,
   "id": "e47c399a",
   "metadata": {},
   "outputs": [
    {
     "data": {
      "text/plain": [
       "array([[ 0,  1,  2,  3,  4,  5,  6,  7,  8,  9],\n",
       "       [10, 11, 12, 13, 14, 15, 16, 17, 18, 19]])"
      ]
     },
     "execution_count": 28,
     "metadata": {},
     "output_type": "execute_result"
    }
   ],
   "source": [
    "data=np.arange(20).reshape(2,10)\n",
    "data"
   ]
  },
  {
   "cell_type": "code",
   "execution_count": 29,
   "id": "9f938e0a",
   "metadata": {},
   "outputs": [
    {
     "data": {
      "text/plain": [
       "array([ 45, 145])"
      ]
     },
     "execution_count": 29,
     "metadata": {},
     "output_type": "execute_result"
    }
   ],
   "source": [
    "np.sum(data,axis=1)"
   ]
  },
  {
   "cell_type": "code",
   "execution_count": 30,
   "id": "11919e21",
   "metadata": {},
   "outputs": [
    {
     "data": {
      "text/plain": [
       "array([10, 12, 14, 16, 18, 20, 22, 24, 26, 28])"
      ]
     },
     "execution_count": 30,
     "metadata": {},
     "output_type": "execute_result"
    }
   ],
   "source": [
    "np.sum(data,axis=0)"
   ]
  },
  {
   "cell_type": "code",
   "execution_count": 31,
   "id": "06b2d879",
   "metadata": {},
   "outputs": [
    {
     "name": "stdout",
     "output_type": "stream",
     "text": [
      "[ 1  2  3  4  5  6  7  8  9 10 11 12 13 14 15 16 17 18 19 20 21 22 23 24\n",
      " 25 26 27 28 29 30 31 32 33 34 35 36]\n"
     ]
    },
    {
     "data": {
      "text/plain": [
       "array([ 1,  2,  3,  4,  5,  6,  7,  8,  9, 10, 11,  0,  1,  2,  3,  4,  5,\n",
       "        6,  7,  8,  9, 10, 11,  0,  1,  2,  3,  4,  5,  6,  7,  8,  9, 10,\n",
       "       11,  0], dtype=int32)"
      ]
     },
     "execution_count": 31,
     "metadata": {},
     "output_type": "execute_result"
    }
   ],
   "source": [
    "months=np.arange(1,37)\n",
    "print(months)\n",
    "conv=np.mod(months,12)\n",
    "conv"
   ]
  },
  {
   "cell_type": "code",
   "execution_count": 32,
   "id": "29fd0f87",
   "metadata": {},
   "outputs": [
    {
     "data": {
      "text/plain": [
       "array([ 1,  2,  3,  4,  5,  6,  7,  8,  9, 10, 11, 12,  1,  2,  3,  4,  5,\n",
       "        6,  7,  8,  9, 10, 11, 12,  1,  2,  3,  4,  5,  6,  7,  8,  9, 10,\n",
       "       11, 12], dtype=int32)"
      ]
     },
     "execution_count": 32,
     "metadata": {},
     "output_type": "execute_result"
    }
   ],
   "source": [
    "mask=conv==0\n",
    "conv[mask]=12\n",
    "conv"
   ]
  },
  {
   "cell_type": "code",
   "execution_count": 33,
   "id": "ef6b32af",
   "metadata": {},
   "outputs": [
    {
     "data": {
      "text/plain": [
       "array([ 0.,  1.,  4.,  9., 16., 25., 36., 49., 64., 81.])"
      ]
     },
     "execution_count": 33,
     "metadata": {},
     "output_type": "execute_result"
    }
   ],
   "source": [
    "data=np.arange(10)\n",
    "destination=np.zeros(10)\n",
    "np.multiply(data,data,out=destination)\n",
    "destination"
   ]
  },
  {
   "cell_type": "code",
   "execution_count": 34,
   "id": "de9f08ab",
   "metadata": {},
   "outputs": [
    {
     "data": {
      "text/plain": [
       "120"
      ]
     },
     "execution_count": 34,
     "metadata": {},
     "output_type": "execute_result"
    }
   ],
   "source": [
    "np.multiply.reduce(np.arange(1,6))"
   ]
  },
  {
   "cell_type": "code",
   "execution_count": 35,
   "id": "f2fe27e8",
   "metadata": {},
   "outputs": [
    {
     "data": {
      "text/plain": [
       "array([ 0.00161152,  0.00438497, -0.01302033,  0.01353888, -0.03184565,\n",
       "        0.02183319, -0.02309402,  0.01844964, -0.00503148, -0.02150526,\n",
       "        0.01762529,  0.00938002,  0.02305583, -0.01220333, -0.01351032,\n",
       "        0.00102582,  0.01123547, -0.01499582,  0.00837552,  0.00899913,\n",
       "       -0.0105801 ])"
      ]
     },
     "execution_count": 35,
     "metadata": {},
     "output_type": "execute_result"
    }
   ],
   "source": [
    "data=np.log(1+npr.normal(0,.015,size=21))\n",
    "data"
   ]
  },
  {
   "cell_type": "code",
   "execution_count": 36,
   "id": "29aa6c7b",
   "metadata": {},
   "outputs": [
    {
     "data": {
      "text/plain": [
       "array([ 0.00161152,  0.00599649, -0.00702385,  0.00651503, -0.02533062,\n",
       "       -0.00349743, -0.02659145, -0.00814181, -0.01317329, -0.03467855,\n",
       "       -0.01705326, -0.00767323,  0.0153826 ,  0.00317927, -0.01033105,\n",
       "       -0.00930523,  0.00193024, -0.01306558, -0.00469006,  0.00430908,\n",
       "       -0.00627103])"
      ]
     },
     "execution_count": 36,
     "metadata": {},
     "output_type": "execute_result"
    }
   ],
   "source": [
    "np.add.accumulate(data)"
   ]
  },
  {
   "cell_type": "code",
   "execution_count": 37,
   "id": "47649ff7",
   "metadata": {},
   "outputs": [
    {
     "data": {
      "text/plain": [
       "[<matplotlib.lines.Line2D at 0x17ff0a66bb0>]"
      ]
     },
     "execution_count": 37,
     "metadata": {},
     "output_type": "execute_result"
    },
    {
     "data": {
      "image/png": "[encoded data removed]",
      "text/plain": [
       "<Figure size 432x288 with 1 Axes>"
      ]
     },
     "metadata": {
      "needs_background": "light"
     },
     "output_type": "display_data"
    }
   ],
   "source": [
    "plt.plot(np.add.accumulate(data))"
   ]
  },
  {
   "cell_type": "code",
   "execution_count": 38,
   "id": "b80ebd19",
   "metadata": {},
   "outputs": [
    {
     "data": {
      "text/plain": [
       "array([ 0.00161152,  0.00599649, -0.00702385,  0.00651503, -0.02533062,\n",
       "       -0.00349743, -0.02659145, -0.00814181, -0.01317329, -0.03467855,\n",
       "       -0.01705326, -0.00767323,  0.0153826 ,  0.00317927, -0.01033105,\n",
       "       -0.00930523,  0.00193024, -0.01306558, -0.00469006,  0.00430908,\n",
       "       -0.00627103])"
      ]
     },
     "execution_count": 38,
     "metadata": {},
     "output_type": "execute_result"
    }
   ],
   "source": [
    "data.cumsum()"
   ]
  },
  {
   "cell_type": "code",
   "execution_count": 39,
   "id": "8d1b2e19",
   "metadata": {},
   "outputs": [],
   "source": [
    "import numpy as np\n",
    "import numpy.random as npr\n",
    "import matplotlib.pyplot as plt"
   ]
  },
  {
   "cell_type": "code",
   "execution_count": 41,
   "id": "1f6ceb93",
   "metadata": {},
   "outputs": [
    {
     "data": {
      "text/plain": [
       "(array([ 3.,  0.,  2.,  3.,  4.,  8.,  4.,  7., 11., 20., 15., 28., 30.,\n",
       "        17., 21., 24., 13., 10.,  5.,  7.,  8.,  4.,  5.,  1.,  2.]),\n",
       " array([-0.03998458, -0.0369473 , -0.03391003, -0.03087276, -0.02783549,\n",
       "        -0.02479822, -0.02176095, -0.01872368, -0.0156864 , -0.01264913,\n",
       "        -0.00961186, -0.00657459, -0.00353732, -0.00050005,  0.00253722,\n",
       "         0.0055745 ,  0.00861177,  0.01164904,  0.01468631,  0.01772358,\n",
       "         0.02076085,  0.02379812,  0.0268354 ,  0.02987267,  0.03290994,\n",
       "         0.03594721]),\n",
       " <BarContainer object of 25 artists>)"
      ]
     },
     "execution_count": 41,
     "metadata": {},
     "output_type": "execute_result"
    },
    {
     "data": {
      "image/png": "[encoded data removed]",
      "text/plain": [
       "<Figure size 432x288 with 1 Axes>"
      ]
     },
     "metadata": {
      "needs_background": "light"
     },
     "output_type": "display_data"
    }
   ],
   "source": [
    "data=npr.normal(0,0.015,size=252)\n",
    "plt.hist(data,bins=25)"
   ]
  },
  {
   "cell_type": "code",
   "execution_count": 42,
   "id": "276d116a",
   "metadata": {},
   "outputs": [
    {
     "name": "stdout",
     "output_type": "stream",
     "text": [
      "Use np.where as you would an if...else block\n"
     ]
    }
   ],
   "source": [
    "print(\"Use np.where as you would an if...else block\")\n",
    "positive=np.where(data>0,True,False)"
   ]
  },
  {
   "cell_type": "code",
   "execution_count": 43,
   "id": "eb5ac6f8",
   "metadata": {},
   "outputs": [
    {
     "name": "stdout",
     "output_type": "stream",
     "text": [
      "113\n"
     ]
    }
   ],
   "source": [
    "print(len(data[positive]))"
   ]
  },
  {
   "cell_type": "code",
   "execution_count": 44,
   "id": "d7ea27ac",
   "metadata": {},
   "outputs": [
    {
     "name": "stdout",
     "output_type": "stream",
     "text": [
      "{:2%} 0.01131868369389122\n"
     ]
    }
   ],
   "source": [
    "print(\"{:2%}\",format(data[positive].mean()))"
   ]
  },
  {
   "cell_type": "code",
   "execution_count": 45,
   "id": "f46c6acc",
   "metadata": {},
   "outputs": [
    {
     "name": "stdout",
     "output_type": "stream",
     "text": [
      "Use the tilde character to optain the opposite of a mask\n"
     ]
    },
    {
     "data": {
      "text/plain": [
       "array([-0.01003667, -0.01083086, -0.03266339, -0.00222467, -0.00987376,\n",
       "       -0.01305864, -0.00757082, -0.01633439, -0.0061882 , -0.02496705,\n",
       "       -0.00749996, -0.01401661, -0.00075838, -0.01236509, -0.00507203,\n",
       "       -0.00374118, -0.01812122, -0.01969309, -0.00128237, -0.02560941,\n",
       "       -0.00927325, -0.00183236, -0.0004192 , -0.02246589, -0.00855171,\n",
       "       -0.00140221, -0.00084211, -0.00611582, -0.00683967, -0.01726841,\n",
       "       -0.01143962, -0.00278168, -0.00360572, -0.01210172, -0.0046613 ,\n",
       "       -0.00137575, -0.01068967, -0.01200557, -0.01057336, -0.00052235,\n",
       "       -0.00458281, -0.00226754, -0.02412882, -0.01247631, -0.004834  ,\n",
       "       -0.02660935, -0.00286955, -0.0049287 , -0.00984073, -0.00202171,\n",
       "       -0.01108654, -0.01323815, -0.00979792, -0.00392817, -0.02084651,\n",
       "       -0.00545353, -0.00816392, -0.00336715, -0.00457034, -0.02993733,\n",
       "       -0.02184112, -0.00058248, -0.00406852, -0.03998458, -0.00320738,\n",
       "       -0.01010691, -0.01243753, -0.02125892, -0.02284392, -0.01750835,\n",
       "       -0.00187078, -0.00319182, -0.00120689, -0.01355086, -0.02216572,\n",
       "       -0.01140838, -0.01565543, -0.00440599, -0.00107796, -0.00590317,\n",
       "       -0.00179776, -0.01148506, -0.00563669, -0.00088489, -0.00986996,\n",
       "       -0.00196513, -0.00162739, -0.01871263, -0.00438438, -0.03071569,\n",
       "       -0.02456494, -0.01474657, -0.00354989, -0.00022362, -0.01121539,\n",
       "       -0.00127696, -0.01988114, -0.00623679, -0.01282086, -0.00447213,\n",
       "       -0.01468252, -0.02474769, -0.00354013, -0.00243893, -0.00822411,\n",
       "       -0.01372035, -0.0083481 , -0.01620485, -0.01351711, -0.00650717,\n",
       "       -0.03234757, -0.00782461, -0.00150525, -0.00304871, -0.00686618,\n",
       "       -0.00606994, -0.00869311, -0.0062146 , -0.01487609, -0.00039952,\n",
       "       -0.00849276, -0.01138973, -0.00424818, -0.00447267, -0.02573502,\n",
       "       -0.00036305, -0.0178328 , -0.03725802, -0.02828218, -0.00953217,\n",
       "       -0.00518672, -0.00530712, -0.00312055, -0.00776006, -0.03758026,\n",
       "       -0.02257392, -0.00145247, -0.00173805, -0.00728551])"
      ]
     },
     "execution_count": 45,
     "metadata": {},
     "output_type": "execute_result"
    }
   ],
   "source": [
    "print(\"Use the tilde character to optain the opposite of a mask\")\n",
    "data[~positive]"
   ]
  },
  {
   "cell_type": "code",
   "execution_count": 46,
   "id": "68b85f75",
   "metadata": {},
   "outputs": [
    {
     "name": "stdout",
     "output_type": "stream",
     "text": [
      "You can also use to replace corresponding values from an array\n"
     ]
    }
   ],
   "source": [
    "print(\"You can also use to replace corresponding values from an array\")\n",
    "x=npr.standard_normal(20)\n",
    "y=np.arange(20)"
   ]
  },
  {
   "cell_type": "code",
   "execution_count": 47,
   "id": "9022bad8",
   "metadata": {},
   "outputs": [
    {
     "data": {
      "text/plain": [
       "array([ 0.21476182,  1.        ,  2.        ,  3.        ,  0.12237458,\n",
       "        0.0344171 ,  0.25482165,  7.        ,  1.80652603,  0.11558623,\n",
       "        0.82841798,  1.6936853 , 12.        , 13.        ,  0.28352982,\n",
       "        0.43297475,  0.32075351,  1.26270978, 18.        , 19.        ])"
      ]
     },
     "execution_count": 47,
     "metadata": {},
     "output_type": "execute_result"
    }
   ],
   "source": [
    "np.where(x<0,y,x)"
   ]
  },
  {
   "cell_type": "code",
   "execution_count": 2,
   "id": "01c243f5",
   "metadata": {},
   "outputs": [
    {
     "data": {
      "text/plain": [
       "30"
      ]
     },
     "execution_count": 2,
     "metadata": {},
     "output_type": "execute_result"
    }
   ],
   "source": [
    "import numpy as np\n",
    "np.multiply.reduce([2,3,5])"
   ]
  },
  {
   "cell_type": "code",
   "execution_count": 3,
   "id": "fae47ee9",
   "metadata": {},
   "outputs": [
    {
     "data": {
      "text/plain": [
       "array([ 2,  5, 10], dtype=int32)"
      ]
     },
     "execution_count": 3,
     "metadata": {},
     "output_type": "execute_result"
    }
   ],
   "source": [
    "np.add.accumulate([2,3,5])"
   ]
  },
  {
   "cell_type": "code",
   "execution_count": 4,
   "id": "6045de68",
   "metadata": {},
   "outputs": [
    {
     "data": {
      "text/plain": [
       "array([ 2,  6, 30], dtype=int32)"
      ]
     },
     "execution_count": 4,
     "metadata": {},
     "output_type": "execute_result"
    }
   ],
   "source": [
    "np.multiply.accumulate([2,3,5])"
   ]
  },
  {
   "cell_type": "code",
   "execution_count": 6,
   "id": "93821ffd",
   "metadata": {},
   "outputs": [
    {
     "data": {
      "text/plain": [
       "array([ 1,  3,  6, 10, 15, 21], dtype=int32)"
      ]
     },
     "execution_count": 6,
     "metadata": {},
     "output_type": "execute_result"
    }
   ],
   "source": [
    "a=np.array([[1,2,3],[4,5,6]])\n",
    "a\n",
    "np.cumsum(a)"
   ]
  },
  {
   "cell_type": "code",
   "execution_count": null,
   "id": "3a43f301",
   "metadata": {},
   "outputs": [],
   "source": []
  }
 ],
 "metadata": {
  "kernelspec": {
   "display_name": "Python 3 (ipykernel)",
   "language": "python",
   "name": "python3"
  },
  "language_info": {
   "codemirror_mode": {
    "name": "ipython",
    "version": 3
   },
   "file_extension": ".py",
   "mimetype": "text/x-python",
   "name": "python",
   "nbconvert_exporter": "python",
   "pygments_lexer": "ipython3",
   "version": "3.9.12"
  }
 },
 "nbformat": 4,
 "nbformat_minor": 5
}
