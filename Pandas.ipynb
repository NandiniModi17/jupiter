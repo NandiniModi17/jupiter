{
 "cells": [
  {
   "cell_type": "markdown",
   "id": "6d44f596",
   "metadata": {},
   "source": [
    "# PANDAS"
   ]
  },
  {
   "cell_type": "code",
   "execution_count": 2,
   "id": "460333ee",
   "metadata": {},
   "outputs": [],
   "source": [
    "import numpy as np\n",
    "import pandas as pd"
   ]
  },
  {
   "cell_type": "code",
   "execution_count": 3,
   "id": "2647d802",
   "metadata": {},
   "outputs": [
    {
     "data": {
      "text/plain": [
       "'1.4.2'"
      ]
     },
     "execution_count": 3,
     "metadata": {},
     "output_type": "execute_result"
    }
   ],
   "source": [
    "pd.__version__"
   ]
  },
  {
   "cell_type": "code",
   "execution_count": 4,
   "id": "6c962840",
   "metadata": {},
   "outputs": [
    {
     "data": {
      "text/plain": [
       "array([[ 0.07740444,  1.08178562, -0.68269471,  0.46658464,  1.06426838],\n",
       "       [ 0.07927051, -1.03527339, -0.93311135,  0.21859453,  1.84542066],\n",
       "       [-0.50562543,  0.48233383,  1.58662818, -0.4059881 ,  0.15710258],\n",
       "       [ 1.32312729, -0.85858348,  1.22424364, -0.49375694, -0.8547066 ],\n",
       "       [ 0.88991142,  0.5080486 , -0.97393296, -0.04546359, -0.46591798],\n",
       "       [ 0.35257313,  0.55067526, -2.17814208,  0.80911011,  0.61638131],\n",
       "       [ 1.27219026, -0.66538288,  0.6648551 ,  0.94259863, -1.26096156],\n",
       "       [ 0.79019641,  1.30006911, -0.24927382, -0.09301982,  1.0535933 ],\n",
       "       [ 0.5392683 , -0.87584068,  0.65327256, -0.04005772,  0.11658345],\n",
       "       [ 0.28179672,  0.33194457, -0.08278309,  0.8561097 ,  1.21836451]])"
      ]
     },
     "execution_count": 4,
     "metadata": {},
     "output_type": "execute_result"
    }
   ],
   "source": [
    "arr=np.random.standard_normal((10,5))\n",
    "arr"
   ]
  },
  {
   "cell_type": "code",
   "execution_count": 5,
   "id": "66c6a646",
   "metadata": {},
   "outputs": [
    {
     "data": {
      "text/html": [
       "<div>\n",
       "<style scoped>\n",
       "    .dataframe tbody tr th:only-of-type {\n",
       "        vertical-align: middle;\n",
       "    }\n",
       "\n",
       "    .dataframe tbody tr th {\n",
       "        vertical-align: top;\n",
       "    }\n",
       "\n",
       "    .dataframe thead th {\n",
       "        text-align: right;\n",
       "    }\n",
       "</style>\n",
       "<table border=\"1\" class=\"dataframe\">\n",
       "  <thead>\n",
       "    <tr style=\"text-align: right;\">\n",
       "      <th></th>\n",
       "      <th>0</th>\n",
       "      <th>1</th>\n",
       "      <th>2</th>\n",
       "      <th>3</th>\n",
       "      <th>4</th>\n",
       "    </tr>\n",
       "  </thead>\n",
       "  <tbody>\n",
       "    <tr>\n",
       "      <th>0</th>\n",
       "      <td>0.077404</td>\n",
       "      <td>1.081786</td>\n",
       "      <td>-0.682695</td>\n",
       "      <td>0.466585</td>\n",
       "      <td>1.064268</td>\n",
       "    </tr>\n",
       "    <tr>\n",
       "      <th>1</th>\n",
       "      <td>0.079271</td>\n",
       "      <td>-1.035273</td>\n",
       "      <td>-0.933111</td>\n",
       "      <td>0.218595</td>\n",
       "      <td>1.845421</td>\n",
       "    </tr>\n",
       "    <tr>\n",
       "      <th>2</th>\n",
       "      <td>-0.505625</td>\n",
       "      <td>0.482334</td>\n",
       "      <td>1.586628</td>\n",
       "      <td>-0.405988</td>\n",
       "      <td>0.157103</td>\n",
       "    </tr>\n",
       "    <tr>\n",
       "      <th>3</th>\n",
       "      <td>1.323127</td>\n",
       "      <td>-0.858583</td>\n",
       "      <td>1.224244</td>\n",
       "      <td>-0.493757</td>\n",
       "      <td>-0.854707</td>\n",
       "    </tr>\n",
       "    <tr>\n",
       "      <th>4</th>\n",
       "      <td>0.889911</td>\n",
       "      <td>0.508049</td>\n",
       "      <td>-0.973933</td>\n",
       "      <td>-0.045464</td>\n",
       "      <td>-0.465918</td>\n",
       "    </tr>\n",
       "    <tr>\n",
       "      <th>5</th>\n",
       "      <td>0.352573</td>\n",
       "      <td>0.550675</td>\n",
       "      <td>-2.178142</td>\n",
       "      <td>0.809110</td>\n",
       "      <td>0.616381</td>\n",
       "    </tr>\n",
       "    <tr>\n",
       "      <th>6</th>\n",
       "      <td>1.272190</td>\n",
       "      <td>-0.665383</td>\n",
       "      <td>0.664855</td>\n",
       "      <td>0.942599</td>\n",
       "      <td>-1.260962</td>\n",
       "    </tr>\n",
       "    <tr>\n",
       "      <th>7</th>\n",
       "      <td>0.790196</td>\n",
       "      <td>1.300069</td>\n",
       "      <td>-0.249274</td>\n",
       "      <td>-0.093020</td>\n",
       "      <td>1.053593</td>\n",
       "    </tr>\n",
       "    <tr>\n",
       "      <th>8</th>\n",
       "      <td>0.539268</td>\n",
       "      <td>-0.875841</td>\n",
       "      <td>0.653273</td>\n",
       "      <td>-0.040058</td>\n",
       "      <td>0.116583</td>\n",
       "    </tr>\n",
       "    <tr>\n",
       "      <th>9</th>\n",
       "      <td>0.281797</td>\n",
       "      <td>0.331945</td>\n",
       "      <td>-0.082783</td>\n",
       "      <td>0.856110</td>\n",
       "      <td>1.218365</td>\n",
       "    </tr>\n",
       "  </tbody>\n",
       "</table>\n",
       "</div>"
      ],
      "text/plain": [
       "          0         1         2         3         4\n",
       "0  0.077404  1.081786 -0.682695  0.466585  1.064268\n",
       "1  0.079271 -1.035273 -0.933111  0.218595  1.845421\n",
       "2 -0.505625  0.482334  1.586628 -0.405988  0.157103\n",
       "3  1.323127 -0.858583  1.224244 -0.493757 -0.854707\n",
       "4  0.889911  0.508049 -0.973933 -0.045464 -0.465918\n",
       "5  0.352573  0.550675 -2.178142  0.809110  0.616381\n",
       "6  1.272190 -0.665383  0.664855  0.942599 -1.260962\n",
       "7  0.790196  1.300069 -0.249274 -0.093020  1.053593\n",
       "8  0.539268 -0.875841  0.653273 -0.040058  0.116583\n",
       "9  0.281797  0.331945 -0.082783  0.856110  1.218365"
      ]
     },
     "execution_count": 5,
     "metadata": {},
     "output_type": "execute_result"
    }
   ],
   "source": [
    "df=pd.DataFrame(arr)\n",
    "df"
   ]
  },
  {
   "cell_type": "code",
   "execution_count": 6,
   "id": "b48be773",
   "metadata": {},
   "outputs": [
    {
     "data": {
      "text/html": [
       "<div>\n",
       "<style scoped>\n",
       "    .dataframe tbody tr th:only-of-type {\n",
       "        vertical-align: middle;\n",
       "    }\n",
       "\n",
       "    .dataframe tbody tr th {\n",
       "        vertical-align: top;\n",
       "    }\n",
       "\n",
       "    .dataframe thead th {\n",
       "        text-align: right;\n",
       "    }\n",
       "</style>\n",
       "<table border=\"1\" class=\"dataframe\">\n",
       "  <thead>\n",
       "    <tr style=\"text-align: right;\">\n",
       "      <th></th>\n",
       "      <th>0</th>\n",
       "      <th>1</th>\n",
       "      <th>2</th>\n",
       "      <th>3</th>\n",
       "      <th>4</th>\n",
       "    </tr>\n",
       "  </thead>\n",
       "  <tbody>\n",
       "    <tr>\n",
       "      <th>0</th>\n",
       "      <td>0.077404</td>\n",
       "      <td>1.081786</td>\n",
       "      <td>-0.682695</td>\n",
       "      <td>0.466585</td>\n",
       "      <td>1.064268</td>\n",
       "    </tr>\n",
       "    <tr>\n",
       "      <th>1</th>\n",
       "      <td>0.079271</td>\n",
       "      <td>-1.035273</td>\n",
       "      <td>-0.933111</td>\n",
       "      <td>0.218595</td>\n",
       "      <td>1.845421</td>\n",
       "    </tr>\n",
       "  </tbody>\n",
       "</table>\n",
       "</div>"
      ],
      "text/plain": [
       "          0         1         2         3         4\n",
       "0  0.077404  1.081786 -0.682695  0.466585  1.064268\n",
       "1  0.079271 -1.035273 -0.933111  0.218595  1.845421"
      ]
     },
     "execution_count": 6,
     "metadata": {},
     "output_type": "execute_result"
    }
   ],
   "source": [
    "df.head(2)"
   ]
  },
  {
   "cell_type": "code",
   "execution_count": 7,
   "id": "3af11366",
   "metadata": {},
   "outputs": [
    {
     "data": {
      "text/html": [
       "<div>\n",
       "<style scoped>\n",
       "    .dataframe tbody tr th:only-of-type {\n",
       "        vertical-align: middle;\n",
       "    }\n",
       "\n",
       "    .dataframe tbody tr th {\n",
       "        vertical-align: top;\n",
       "    }\n",
       "\n",
       "    .dataframe thead th {\n",
       "        text-align: right;\n",
       "    }\n",
       "</style>\n",
       "<table border=\"1\" class=\"dataframe\">\n",
       "  <thead>\n",
       "    <tr style=\"text-align: right;\">\n",
       "      <th></th>\n",
       "      <th>0</th>\n",
       "      <th>1</th>\n",
       "      <th>2</th>\n",
       "      <th>3</th>\n",
       "      <th>4</th>\n",
       "    </tr>\n",
       "  </thead>\n",
       "  <tbody>\n",
       "    <tr>\n",
       "      <th>7</th>\n",
       "      <td>0.790196</td>\n",
       "      <td>1.300069</td>\n",
       "      <td>-0.249274</td>\n",
       "      <td>-0.093020</td>\n",
       "      <td>1.053593</td>\n",
       "    </tr>\n",
       "    <tr>\n",
       "      <th>8</th>\n",
       "      <td>0.539268</td>\n",
       "      <td>-0.875841</td>\n",
       "      <td>0.653273</td>\n",
       "      <td>-0.040058</td>\n",
       "      <td>0.116583</td>\n",
       "    </tr>\n",
       "    <tr>\n",
       "      <th>9</th>\n",
       "      <td>0.281797</td>\n",
       "      <td>0.331945</td>\n",
       "      <td>-0.082783</td>\n",
       "      <td>0.856110</td>\n",
       "      <td>1.218365</td>\n",
       "    </tr>\n",
       "  </tbody>\n",
       "</table>\n",
       "</div>"
      ],
      "text/plain": [
       "          0         1         2         3         4\n",
       "7  0.790196  1.300069 -0.249274 -0.093020  1.053593\n",
       "8  0.539268 -0.875841  0.653273 -0.040058  0.116583\n",
       "9  0.281797  0.331945 -0.082783  0.856110  1.218365"
      ]
     },
     "execution_count": 7,
     "metadata": {},
     "output_type": "execute_result"
    }
   ],
   "source": [
    "df.tail(3)"
   ]
  },
  {
   "cell_type": "code",
   "execution_count": 8,
   "id": "e12b62c2",
   "metadata": {},
   "outputs": [
    {
     "name": "stdout",
     "output_type": "stream",
     "text": [
      "changing column names\n"
     ]
    },
    {
     "data": {
      "text/plain": [
       "['A', 'B', 'C', 'D', 'E']"
      ]
     },
     "execution_count": 8,
     "metadata": {},
     "output_type": "execute_result"
    }
   ],
   "source": [
    "print(\"changing column names\")\n",
    "cols='A B C D E'.split()\n",
    "cols"
   ]
  },
  {
   "cell_type": "code",
   "execution_count": 9,
   "id": "6de985d2",
   "metadata": {},
   "outputs": [
    {
     "data": {
      "text/html": [
       "<div>\n",
       "<style scoped>\n",
       "    .dataframe tbody tr th:only-of-type {\n",
       "        vertical-align: middle;\n",
       "    }\n",
       "\n",
       "    .dataframe tbody tr th {\n",
       "        vertical-align: top;\n",
       "    }\n",
       "\n",
       "    .dataframe thead th {\n",
       "        text-align: right;\n",
       "    }\n",
       "</style>\n",
       "<table border=\"1\" class=\"dataframe\">\n",
       "  <thead>\n",
       "    <tr style=\"text-align: right;\">\n",
       "      <th></th>\n",
       "      <th>A</th>\n",
       "      <th>B</th>\n",
       "      <th>C</th>\n",
       "      <th>D</th>\n",
       "      <th>E</th>\n",
       "    </tr>\n",
       "  </thead>\n",
       "  <tbody>\n",
       "    <tr>\n",
       "      <th>0</th>\n",
       "      <td>0.077404</td>\n",
       "      <td>1.081786</td>\n",
       "      <td>-0.682695</td>\n",
       "      <td>0.466585</td>\n",
       "      <td>1.064268</td>\n",
       "    </tr>\n",
       "    <tr>\n",
       "      <th>1</th>\n",
       "      <td>0.079271</td>\n",
       "      <td>-1.035273</td>\n",
       "      <td>-0.933111</td>\n",
       "      <td>0.218595</td>\n",
       "      <td>1.845421</td>\n",
       "    </tr>\n",
       "    <tr>\n",
       "      <th>2</th>\n",
       "      <td>-0.505625</td>\n",
       "      <td>0.482334</td>\n",
       "      <td>1.586628</td>\n",
       "      <td>-0.405988</td>\n",
       "      <td>0.157103</td>\n",
       "    </tr>\n",
       "    <tr>\n",
       "      <th>3</th>\n",
       "      <td>1.323127</td>\n",
       "      <td>-0.858583</td>\n",
       "      <td>1.224244</td>\n",
       "      <td>-0.493757</td>\n",
       "      <td>-0.854707</td>\n",
       "    </tr>\n",
       "    <tr>\n",
       "      <th>4</th>\n",
       "      <td>0.889911</td>\n",
       "      <td>0.508049</td>\n",
       "      <td>-0.973933</td>\n",
       "      <td>-0.045464</td>\n",
       "      <td>-0.465918</td>\n",
       "    </tr>\n",
       "    <tr>\n",
       "      <th>5</th>\n",
       "      <td>0.352573</td>\n",
       "      <td>0.550675</td>\n",
       "      <td>-2.178142</td>\n",
       "      <td>0.809110</td>\n",
       "      <td>0.616381</td>\n",
       "    </tr>\n",
       "    <tr>\n",
       "      <th>6</th>\n",
       "      <td>1.272190</td>\n",
       "      <td>-0.665383</td>\n",
       "      <td>0.664855</td>\n",
       "      <td>0.942599</td>\n",
       "      <td>-1.260962</td>\n",
       "    </tr>\n",
       "    <tr>\n",
       "      <th>7</th>\n",
       "      <td>0.790196</td>\n",
       "      <td>1.300069</td>\n",
       "      <td>-0.249274</td>\n",
       "      <td>-0.093020</td>\n",
       "      <td>1.053593</td>\n",
       "    </tr>\n",
       "    <tr>\n",
       "      <th>8</th>\n",
       "      <td>0.539268</td>\n",
       "      <td>-0.875841</td>\n",
       "      <td>0.653273</td>\n",
       "      <td>-0.040058</td>\n",
       "      <td>0.116583</td>\n",
       "    </tr>\n",
       "    <tr>\n",
       "      <th>9</th>\n",
       "      <td>0.281797</td>\n",
       "      <td>0.331945</td>\n",
       "      <td>-0.082783</td>\n",
       "      <td>0.856110</td>\n",
       "      <td>1.218365</td>\n",
       "    </tr>\n",
       "  </tbody>\n",
       "</table>\n",
       "</div>"
      ],
      "text/plain": [
       "          A         B         C         D         E\n",
       "0  0.077404  1.081786 -0.682695  0.466585  1.064268\n",
       "1  0.079271 -1.035273 -0.933111  0.218595  1.845421\n",
       "2 -0.505625  0.482334  1.586628 -0.405988  0.157103\n",
       "3  1.323127 -0.858583  1.224244 -0.493757 -0.854707\n",
       "4  0.889911  0.508049 -0.973933 -0.045464 -0.465918\n",
       "5  0.352573  0.550675 -2.178142  0.809110  0.616381\n",
       "6  1.272190 -0.665383  0.664855  0.942599 -1.260962\n",
       "7  0.790196  1.300069 -0.249274 -0.093020  1.053593\n",
       "8  0.539268 -0.875841  0.653273 -0.040058  0.116583\n",
       "9  0.281797  0.331945 -0.082783  0.856110  1.218365"
      ]
     },
     "execution_count": 9,
     "metadata": {},
     "output_type": "execute_result"
    }
   ],
   "source": [
    "df.columns=cols\n",
    "df"
   ]
  },
  {
   "cell_type": "code",
   "execution_count": 10,
   "id": "650c87f2",
   "metadata": {
    "scrolled": true
   },
   "outputs": [
    {
     "data": {
      "text/html": [
       "<div>\n",
       "<style scoped>\n",
       "    .dataframe tbody tr th:only-of-type {\n",
       "        vertical-align: middle;\n",
       "    }\n",
       "\n",
       "    .dataframe tbody tr th {\n",
       "        vertical-align: top;\n",
       "    }\n",
       "\n",
       "    .dataframe thead th {\n",
       "        text-align: right;\n",
       "    }\n",
       "</style>\n",
       "<table border=\"1\" class=\"dataframe\">\n",
       "  <thead>\n",
       "    <tr style=\"text-align: right;\">\n",
       "      <th></th>\n",
       "      <th>A</th>\n",
       "      <th>B</th>\n",
       "      <th>C</th>\n",
       "      <th>D</th>\n",
       "      <th>E</th>\n",
       "    </tr>\n",
       "  </thead>\n",
       "  <tbody>\n",
       "    <tr>\n",
       "      <th>0</th>\n",
       "      <td>0.077404</td>\n",
       "      <td>1.081786</td>\n",
       "      <td>-0.682695</td>\n",
       "      <td>0.466585</td>\n",
       "      <td>1.064268</td>\n",
       "    </tr>\n",
       "    <tr>\n",
       "      <th>1</th>\n",
       "      <td>0.079271</td>\n",
       "      <td>-1.035273</td>\n",
       "      <td>-0.933111</td>\n",
       "      <td>0.218595</td>\n",
       "      <td>1.845421</td>\n",
       "    </tr>\n",
       "    <tr>\n",
       "      <th>2</th>\n",
       "      <td>-0.505625</td>\n",
       "      <td>0.482334</td>\n",
       "      <td>1.586628</td>\n",
       "      <td>-0.405988</td>\n",
       "      <td>0.157103</td>\n",
       "    </tr>\n",
       "    <tr>\n",
       "      <th>...</th>\n",
       "      <td>...</td>\n",
       "      <td>...</td>\n",
       "      <td>...</td>\n",
       "      <td>...</td>\n",
       "      <td>...</td>\n",
       "    </tr>\n",
       "    <tr>\n",
       "      <th>7</th>\n",
       "      <td>0.790196</td>\n",
       "      <td>1.300069</td>\n",
       "      <td>-0.249274</td>\n",
       "      <td>-0.093020</td>\n",
       "      <td>1.053593</td>\n",
       "    </tr>\n",
       "    <tr>\n",
       "      <th>8</th>\n",
       "      <td>0.539268</td>\n",
       "      <td>-0.875841</td>\n",
       "      <td>0.653273</td>\n",
       "      <td>-0.040058</td>\n",
       "      <td>0.116583</td>\n",
       "    </tr>\n",
       "    <tr>\n",
       "      <th>9</th>\n",
       "      <td>0.281797</td>\n",
       "      <td>0.331945</td>\n",
       "      <td>-0.082783</td>\n",
       "      <td>0.856110</td>\n",
       "      <td>1.218365</td>\n",
       "    </tr>\n",
       "  </tbody>\n",
       "</table>\n",
       "<p>10 rows × 5 columns</p>\n",
       "</div>"
      ],
      "text/plain": [
       "           A         B         C         D         E\n",
       "0   0.077404  1.081786 -0.682695  0.466585  1.064268\n",
       "1   0.079271 -1.035273 -0.933111  0.218595  1.845421\n",
       "2  -0.505625  0.482334  1.586628 -0.405988  0.157103\n",
       "..       ...       ...       ...       ...       ...\n",
       "7   0.790196  1.300069 -0.249274 -0.093020  1.053593\n",
       "8   0.539268 -0.875841  0.653273 -0.040058  0.116583\n",
       "9   0.281797  0.331945 -0.082783  0.856110  1.218365\n",
       "\n",
       "[10 rows x 5 columns]"
      ]
     },
     "execution_count": 10,
     "metadata": {},
     "output_type": "execute_result"
    }
   ],
   "source": [
    "pd.options.display.max_rows=6\n",
    "df"
   ]
  },
  {
   "cell_type": "code",
   "execution_count": 11,
   "id": "e4af0320",
   "metadata": {},
   "outputs": [
    {
     "name": "stdout",
     "output_type": "stream",
     "text": [
      "Getting metadata\n",
      "<class 'pandas.core.frame.DataFrame'>\n",
      "RangeIndex: 10 entries, 0 to 9\n",
      "Data columns (total 5 columns):\n",
      " #   Column  Non-Null Count  Dtype  \n",
      "---  ------  --------------  -----  \n",
      " 0   A       10 non-null     float64\n",
      " 1   B       10 non-null     float64\n",
      " 2   C       10 non-null     float64\n",
      " 3   D       10 non-null     float64\n",
      " 4   E       10 non-null     float64\n",
      "dtypes: float64(5)\n",
      "memory usage: 528.0 bytes\n"
     ]
    }
   ],
   "source": [
    "print(\"Getting metadata\")\n",
    "df.info()"
   ]
  },
  {
   "cell_type": "code",
   "execution_count": 12,
   "id": "8b07e969",
   "metadata": {},
   "outputs": [
    {
     "data": {
      "text/plain": [
       "DatetimeIndex(['2022-01-01', '2022-01-02', '2022-01-03', '2022-01-04',\n",
       "               '2022-01-05', '2022-01-06', '2022-01-07', '2022-01-08',\n",
       "               '2022-01-09', '2022-01-10'],\n",
       "              dtype='datetime64[ns]', freq='D')"
      ]
     },
     "execution_count": 12,
     "metadata": {},
     "output_type": "execute_result"
    }
   ],
   "source": [
    "index=pd.date_range('01/01/2022',periods=10)\n",
    "index"
   ]
  },
  {
   "cell_type": "code",
   "execution_count": 13,
   "id": "ed6051a7",
   "metadata": {},
   "outputs": [
    {
     "data": {
      "text/html": [
       "<div>\n",
       "<style scoped>\n",
       "    .dataframe tbody tr th:only-of-type {\n",
       "        vertical-align: middle;\n",
       "    }\n",
       "\n",
       "    .dataframe tbody tr th {\n",
       "        vertical-align: top;\n",
       "    }\n",
       "\n",
       "    .dataframe thead th {\n",
       "        text-align: right;\n",
       "    }\n",
       "</style>\n",
       "<table border=\"1\" class=\"dataframe\">\n",
       "  <thead>\n",
       "    <tr style=\"text-align: right;\">\n",
       "      <th></th>\n",
       "      <th>A</th>\n",
       "      <th>B</th>\n",
       "      <th>C</th>\n",
       "      <th>D</th>\n",
       "      <th>E</th>\n",
       "    </tr>\n",
       "  </thead>\n",
       "  <tbody>\n",
       "    <tr>\n",
       "      <th>2022-01-01</th>\n",
       "      <td>0.077404</td>\n",
       "      <td>1.081786</td>\n",
       "      <td>-0.682695</td>\n",
       "      <td>0.466585</td>\n",
       "      <td>1.064268</td>\n",
       "    </tr>\n",
       "    <tr>\n",
       "      <th>2022-01-02</th>\n",
       "      <td>0.079271</td>\n",
       "      <td>-1.035273</td>\n",
       "      <td>-0.933111</td>\n",
       "      <td>0.218595</td>\n",
       "      <td>1.845421</td>\n",
       "    </tr>\n",
       "    <tr>\n",
       "      <th>2022-01-03</th>\n",
       "      <td>-0.505625</td>\n",
       "      <td>0.482334</td>\n",
       "      <td>1.586628</td>\n",
       "      <td>-0.405988</td>\n",
       "      <td>0.157103</td>\n",
       "    </tr>\n",
       "    <tr>\n",
       "      <th>...</th>\n",
       "      <td>...</td>\n",
       "      <td>...</td>\n",
       "      <td>...</td>\n",
       "      <td>...</td>\n",
       "      <td>...</td>\n",
       "    </tr>\n",
       "    <tr>\n",
       "      <th>2022-01-08</th>\n",
       "      <td>0.790196</td>\n",
       "      <td>1.300069</td>\n",
       "      <td>-0.249274</td>\n",
       "      <td>-0.093020</td>\n",
       "      <td>1.053593</td>\n",
       "    </tr>\n",
       "    <tr>\n",
       "      <th>2022-01-09</th>\n",
       "      <td>0.539268</td>\n",
       "      <td>-0.875841</td>\n",
       "      <td>0.653273</td>\n",
       "      <td>-0.040058</td>\n",
       "      <td>0.116583</td>\n",
       "    </tr>\n",
       "    <tr>\n",
       "      <th>2022-01-10</th>\n",
       "      <td>0.281797</td>\n",
       "      <td>0.331945</td>\n",
       "      <td>-0.082783</td>\n",
       "      <td>0.856110</td>\n",
       "      <td>1.218365</td>\n",
       "    </tr>\n",
       "  </tbody>\n",
       "</table>\n",
       "<p>10 rows × 5 columns</p>\n",
       "</div>"
      ],
      "text/plain": [
       "                   A         B         C         D         E\n",
       "2022-01-01  0.077404  1.081786 -0.682695  0.466585  1.064268\n",
       "2022-01-02  0.079271 -1.035273 -0.933111  0.218595  1.845421\n",
       "2022-01-03 -0.505625  0.482334  1.586628 -0.405988  0.157103\n",
       "...              ...       ...       ...       ...       ...\n",
       "2022-01-08  0.790196  1.300069 -0.249274 -0.093020  1.053593\n",
       "2022-01-09  0.539268 -0.875841  0.653273 -0.040058  0.116583\n",
       "2022-01-10  0.281797  0.331945 -0.082783  0.856110  1.218365\n",
       "\n",
       "[10 rows x 5 columns]"
      ]
     },
     "execution_count": 13,
     "metadata": {},
     "output_type": "execute_result"
    }
   ],
   "source": [
    "df.set_index(index,inplace=True)\n",
    "df"
   ]
  },
  {
   "cell_type": "code",
   "execution_count": 14,
   "id": "e94df45e",
   "metadata": {},
   "outputs": [
    {
     "data": {
      "text/html": [
       "<div>\n",
       "<style scoped>\n",
       "    .dataframe tbody tr th:only-of-type {\n",
       "        vertical-align: middle;\n",
       "    }\n",
       "\n",
       "    .dataframe tbody tr th {\n",
       "        vertical-align: top;\n",
       "    }\n",
       "\n",
       "    .dataframe thead th {\n",
       "        text-align: right;\n",
       "    }\n",
       "</style>\n",
       "<table border=\"1\" class=\"dataframe\">\n",
       "  <thead>\n",
       "    <tr style=\"text-align: right;\">\n",
       "      <th></th>\n",
       "      <th>A</th>\n",
       "      <th>C</th>\n",
       "    </tr>\n",
       "  </thead>\n",
       "  <tbody>\n",
       "    <tr>\n",
       "      <th>2022-01-01</th>\n",
       "      <td>0.077404</td>\n",
       "      <td>-0.682695</td>\n",
       "    </tr>\n",
       "    <tr>\n",
       "      <th>2022-01-02</th>\n",
       "      <td>0.079271</td>\n",
       "      <td>-0.933111</td>\n",
       "    </tr>\n",
       "    <tr>\n",
       "      <th>2022-01-03</th>\n",
       "      <td>-0.505625</td>\n",
       "      <td>1.586628</td>\n",
       "    </tr>\n",
       "    <tr>\n",
       "      <th>...</th>\n",
       "      <td>...</td>\n",
       "      <td>...</td>\n",
       "    </tr>\n",
       "    <tr>\n",
       "      <th>2022-01-08</th>\n",
       "      <td>0.790196</td>\n",
       "      <td>-0.249274</td>\n",
       "    </tr>\n",
       "    <tr>\n",
       "      <th>2022-01-09</th>\n",
       "      <td>0.539268</td>\n",
       "      <td>0.653273</td>\n",
       "    </tr>\n",
       "    <tr>\n",
       "      <th>2022-01-10</th>\n",
       "      <td>0.281797</td>\n",
       "      <td>-0.082783</td>\n",
       "    </tr>\n",
       "  </tbody>\n",
       "</table>\n",
       "<p>10 rows × 2 columns</p>\n",
       "</div>"
      ],
      "text/plain": [
       "                   A         C\n",
       "2022-01-01  0.077404 -0.682695\n",
       "2022-01-02  0.079271 -0.933111\n",
       "2022-01-03 -0.505625  1.586628\n",
       "...              ...       ...\n",
       "2022-01-08  0.790196 -0.249274\n",
       "2022-01-09  0.539268  0.653273\n",
       "2022-01-10  0.281797 -0.082783\n",
       "\n",
       "[10 rows x 2 columns]"
      ]
     },
     "execution_count": 14,
     "metadata": {},
     "output_type": "execute_result"
    }
   ],
   "source": [
    "df[['A','C']]"
   ]
  },
  {
   "cell_type": "code",
   "execution_count": 16,
   "id": "acc329a8",
   "metadata": {},
   "outputs": [
    {
     "data": {
      "text/plain": [
       "A    0.077404\n",
       "B    1.081786\n",
       "C   -0.682695\n",
       "D    0.466585\n",
       "E    1.064268\n",
       "Name: 2022-01-01 00:00:00, dtype: float64"
      ]
     },
     "execution_count": 16,
     "metadata": {},
     "output_type": "execute_result"
    }
   ],
   "source": [
    "df.iloc[0]"
   ]
  },
  {
   "cell_type": "code",
   "execution_count": 17,
   "id": "9230b538",
   "metadata": {},
   "outputs": [
    {
     "data": {
      "text/html": [
       "<div>\n",
       "<style scoped>\n",
       "    .dataframe tbody tr th:only-of-type {\n",
       "        vertical-align: middle;\n",
       "    }\n",
       "\n",
       "    .dataframe tbody tr th {\n",
       "        vertical-align: top;\n",
       "    }\n",
       "\n",
       "    .dataframe thead th {\n",
       "        text-align: right;\n",
       "    }\n",
       "</style>\n",
       "<table border=\"1\" class=\"dataframe\">\n",
       "  <thead>\n",
       "    <tr style=\"text-align: right;\">\n",
       "      <th></th>\n",
       "      <th>A</th>\n",
       "      <th>B</th>\n",
       "      <th>C</th>\n",
       "      <th>D</th>\n",
       "      <th>E</th>\n",
       "    </tr>\n",
       "  </thead>\n",
       "  <tbody>\n",
       "    <tr>\n",
       "      <th>2022-01-01</th>\n",
       "      <td>0.077404</td>\n",
       "      <td>1.081786</td>\n",
       "      <td>-0.682695</td>\n",
       "      <td>0.466585</td>\n",
       "      <td>1.064268</td>\n",
       "    </tr>\n",
       "    <tr>\n",
       "      <th>2022-01-04</th>\n",
       "      <td>1.323127</td>\n",
       "      <td>-0.858583</td>\n",
       "      <td>1.224244</td>\n",
       "      <td>-0.493757</td>\n",
       "      <td>-0.854707</td>\n",
       "    </tr>\n",
       "    <tr>\n",
       "      <th>2022-01-05</th>\n",
       "      <td>0.889911</td>\n",
       "      <td>0.508049</td>\n",
       "      <td>-0.973933</td>\n",
       "      <td>-0.045464</td>\n",
       "      <td>-0.465918</td>\n",
       "    </tr>\n",
       "  </tbody>\n",
       "</table>\n",
       "</div>"
      ],
      "text/plain": [
       "                   A         B         C         D         E\n",
       "2022-01-01  0.077404  1.081786 -0.682695  0.466585  1.064268\n",
       "2022-01-04  1.323127 -0.858583  1.224244 -0.493757 -0.854707\n",
       "2022-01-05  0.889911  0.508049 -0.973933 -0.045464 -0.465918"
      ]
     },
     "execution_count": 17,
     "metadata": {},
     "output_type": "execute_result"
    }
   ],
   "source": [
    "df.iloc[[0,3,4]]"
   ]
  },
  {
   "cell_type": "code",
   "execution_count": 18,
   "id": "b5d26604",
   "metadata": {},
   "outputs": [
    {
     "data": {
      "text/plain": [
       "0.46658463958851465"
      ]
     },
     "execution_count": 18,
     "metadata": {},
     "output_type": "execute_result"
    }
   ],
   "source": [
    "df.iloc[0,3]"
   ]
  },
  {
   "cell_type": "code",
   "execution_count": 19,
   "id": "23adbcf8",
   "metadata": {},
   "outputs": [
    {
     "data": {
      "text/plain": [
       "D    0.466585\n",
       "E    1.064268\n",
       "Name: 2022-01-01 00:00:00, dtype: float64"
      ]
     },
     "execution_count": 19,
     "metadata": {},
     "output_type": "execute_result"
    }
   ],
   "source": [
    "df.iloc[0,3:]"
   ]
  },
  {
   "cell_type": "code",
   "execution_count": 20,
   "id": "82822a8f",
   "metadata": {},
   "outputs": [
    {
     "data": {
      "text/plain": [
       "A    0.077404\n",
       "B    1.081786\n",
       "C   -0.682695\n",
       "D    0.466585\n",
       "E    1.064268\n",
       "Name: 2022-01-01 00:00:00, dtype: float64"
      ]
     },
     "execution_count": 20,
     "metadata": {},
     "output_type": "execute_result"
    }
   ],
   "source": [
    "df.loc['2022-01-01']"
   ]
  },
  {
   "cell_type": "code",
   "execution_count": 21,
   "id": "97b33ada",
   "metadata": {},
   "outputs": [
    {
     "data": {
      "text/html": [
       "<div>\n",
       "<style scoped>\n",
       "    .dataframe tbody tr th:only-of-type {\n",
       "        vertical-align: middle;\n",
       "    }\n",
       "\n",
       "    .dataframe tbody tr th {\n",
       "        vertical-align: top;\n",
       "    }\n",
       "\n",
       "    .dataframe thead th {\n",
       "        text-align: right;\n",
       "    }\n",
       "</style>\n",
       "<table border=\"1\" class=\"dataframe\">\n",
       "  <thead>\n",
       "    <tr style=\"text-align: right;\">\n",
       "      <th></th>\n",
       "      <th>A</th>\n",
       "      <th>B</th>\n",
       "      <th>C</th>\n",
       "      <th>D</th>\n",
       "      <th>E</th>\n",
       "    </tr>\n",
       "  </thead>\n",
       "  <tbody>\n",
       "    <tr>\n",
       "      <th>2022-01-01</th>\n",
       "      <td>0.077404</td>\n",
       "      <td>1.081786</td>\n",
       "      <td>-0.682695</td>\n",
       "      <td>0.466585</td>\n",
       "      <td>1.064268</td>\n",
       "    </tr>\n",
       "    <tr>\n",
       "      <th>2022-01-02</th>\n",
       "      <td>0.079271</td>\n",
       "      <td>-1.035273</td>\n",
       "      <td>-0.933111</td>\n",
       "      <td>0.218595</td>\n",
       "      <td>1.845421</td>\n",
       "    </tr>\n",
       "    <tr>\n",
       "      <th>2022-01-03</th>\n",
       "      <td>-0.505625</td>\n",
       "      <td>0.482334</td>\n",
       "      <td>1.586628</td>\n",
       "      <td>-0.405988</td>\n",
       "      <td>0.157103</td>\n",
       "    </tr>\n",
       "    <tr>\n",
       "      <th>2022-01-04</th>\n",
       "      <td>1.323127</td>\n",
       "      <td>-0.858583</td>\n",
       "      <td>1.224244</td>\n",
       "      <td>-0.493757</td>\n",
       "      <td>-0.854707</td>\n",
       "    </tr>\n",
       "  </tbody>\n",
       "</table>\n",
       "</div>"
      ],
      "text/plain": [
       "                   A         B         C         D         E\n",
       "2022-01-01  0.077404  1.081786 -0.682695  0.466585  1.064268\n",
       "2022-01-02  0.079271 -1.035273 -0.933111  0.218595  1.845421\n",
       "2022-01-03 -0.505625  0.482334  1.586628 -0.405988  0.157103\n",
       "2022-01-04  1.323127 -0.858583  1.224244 -0.493757 -0.854707"
      ]
     },
     "execution_count": 21,
     "metadata": {},
     "output_type": "execute_result"
    }
   ],
   "source": [
    "df.loc['2022-01-01':'2022-01-04']"
   ]
  },
  {
   "cell_type": "code",
   "execution_count": 22,
   "id": "2c02ec9a",
   "metadata": {},
   "outputs": [
    {
     "data": {
      "text/html": [
       "<div>\n",
       "<style scoped>\n",
       "    .dataframe tbody tr th:only-of-type {\n",
       "        vertical-align: middle;\n",
       "    }\n",
       "\n",
       "    .dataframe tbody tr th {\n",
       "        vertical-align: top;\n",
       "    }\n",
       "\n",
       "    .dataframe thead th {\n",
       "        text-align: right;\n",
       "    }\n",
       "</style>\n",
       "<table border=\"1\" class=\"dataframe\">\n",
       "  <thead>\n",
       "    <tr style=\"text-align: right;\">\n",
       "      <th></th>\n",
       "      <th>A</th>\n",
       "      <th>B</th>\n",
       "      <th>C</th>\n",
       "      <th>D</th>\n",
       "      <th>E</th>\n",
       "    </tr>\n",
       "  </thead>\n",
       "  <tbody>\n",
       "    <tr>\n",
       "      <th>2022-01-01</th>\n",
       "      <td>False</td>\n",
       "      <td>False</td>\n",
       "      <td>True</td>\n",
       "      <td>False</td>\n",
       "      <td>False</td>\n",
       "    </tr>\n",
       "    <tr>\n",
       "      <th>2022-01-02</th>\n",
       "      <td>False</td>\n",
       "      <td>True</td>\n",
       "      <td>True</td>\n",
       "      <td>False</td>\n",
       "      <td>False</td>\n",
       "    </tr>\n",
       "    <tr>\n",
       "      <th>2022-01-03</th>\n",
       "      <td>True</td>\n",
       "      <td>False</td>\n",
       "      <td>False</td>\n",
       "      <td>True</td>\n",
       "      <td>False</td>\n",
       "    </tr>\n",
       "    <tr>\n",
       "      <th>...</th>\n",
       "      <td>...</td>\n",
       "      <td>...</td>\n",
       "      <td>...</td>\n",
       "      <td>...</td>\n",
       "      <td>...</td>\n",
       "    </tr>\n",
       "    <tr>\n",
       "      <th>2022-01-08</th>\n",
       "      <td>False</td>\n",
       "      <td>False</td>\n",
       "      <td>True</td>\n",
       "      <td>True</td>\n",
       "      <td>False</td>\n",
       "    </tr>\n",
       "    <tr>\n",
       "      <th>2022-01-09</th>\n",
       "      <td>False</td>\n",
       "      <td>True</td>\n",
       "      <td>False</td>\n",
       "      <td>True</td>\n",
       "      <td>False</td>\n",
       "    </tr>\n",
       "    <tr>\n",
       "      <th>2022-01-10</th>\n",
       "      <td>False</td>\n",
       "      <td>False</td>\n",
       "      <td>True</td>\n",
       "      <td>False</td>\n",
       "      <td>False</td>\n",
       "    </tr>\n",
       "  </tbody>\n",
       "</table>\n",
       "<p>10 rows × 5 columns</p>\n",
       "</div>"
      ],
      "text/plain": [
       "                A      B      C      D      E\n",
       "2022-01-01  False  False   True  False  False\n",
       "2022-01-02  False   True   True  False  False\n",
       "2022-01-03   True  False  False   True  False\n",
       "...           ...    ...    ...    ...    ...\n",
       "2022-01-08  False  False   True   True  False\n",
       "2022-01-09  False   True  False   True  False\n",
       "2022-01-10  False  False   True  False  False\n",
       "\n",
       "[10 rows x 5 columns]"
      ]
     },
     "execution_count": 22,
     "metadata": {},
     "output_type": "execute_result"
    }
   ],
   "source": [
    "df<0"
   ]
  },
  {
   "cell_type": "code",
   "execution_count": 24,
   "id": "0db8b359",
   "metadata": {},
   "outputs": [
    {
     "data": {
      "text/html": [
       "<div>\n",
       "<style scoped>\n",
       "    .dataframe tbody tr th:only-of-type {\n",
       "        vertical-align: middle;\n",
       "    }\n",
       "\n",
       "    .dataframe tbody tr th {\n",
       "        vertical-align: top;\n",
       "    }\n",
       "\n",
       "    .dataframe thead th {\n",
       "        text-align: right;\n",
       "    }\n",
       "</style>\n",
       "<table border=\"1\" class=\"dataframe\">\n",
       "  <thead>\n",
       "    <tr style=\"text-align: right;\">\n",
       "      <th></th>\n",
       "      <th>A</th>\n",
       "      <th>B</th>\n",
       "      <th>C</th>\n",
       "      <th>D</th>\n",
       "      <th>E</th>\n",
       "    </tr>\n",
       "  </thead>\n",
       "  <tbody>\n",
       "    <tr>\n",
       "      <th>2022-01-01</th>\n",
       "      <td>0.077404</td>\n",
       "      <td>1.081786</td>\n",
       "      <td>0.000000</td>\n",
       "      <td>0.466585</td>\n",
       "      <td>1.064268</td>\n",
       "    </tr>\n",
       "    <tr>\n",
       "      <th>2022-01-02</th>\n",
       "      <td>0.079271</td>\n",
       "      <td>0.000000</td>\n",
       "      <td>0.000000</td>\n",
       "      <td>0.218595</td>\n",
       "      <td>1.845421</td>\n",
       "    </tr>\n",
       "    <tr>\n",
       "      <th>2022-01-03</th>\n",
       "      <td>0.000000</td>\n",
       "      <td>0.482334</td>\n",
       "      <td>1.586628</td>\n",
       "      <td>0.000000</td>\n",
       "      <td>0.157103</td>\n",
       "    </tr>\n",
       "    <tr>\n",
       "      <th>...</th>\n",
       "      <td>...</td>\n",
       "      <td>...</td>\n",
       "      <td>...</td>\n",
       "      <td>...</td>\n",
       "      <td>...</td>\n",
       "    </tr>\n",
       "    <tr>\n",
       "      <th>2022-01-08</th>\n",
       "      <td>0.790196</td>\n",
       "      <td>1.300069</td>\n",
       "      <td>0.000000</td>\n",
       "      <td>0.000000</td>\n",
       "      <td>1.053593</td>\n",
       "    </tr>\n",
       "    <tr>\n",
       "      <th>2022-01-09</th>\n",
       "      <td>0.539268</td>\n",
       "      <td>0.000000</td>\n",
       "      <td>0.653273</td>\n",
       "      <td>0.000000</td>\n",
       "      <td>0.116583</td>\n",
       "    </tr>\n",
       "    <tr>\n",
       "      <th>2022-01-10</th>\n",
       "      <td>0.281797</td>\n",
       "      <td>0.331945</td>\n",
       "      <td>0.000000</td>\n",
       "      <td>0.856110</td>\n",
       "      <td>1.218365</td>\n",
       "    </tr>\n",
       "  </tbody>\n",
       "</table>\n",
       "<p>10 rows × 5 columns</p>\n",
       "</div>"
      ],
      "text/plain": [
       "                   A         B         C         D         E\n",
       "2022-01-01  0.077404  1.081786  0.000000  0.466585  1.064268\n",
       "2022-01-02  0.079271  0.000000  0.000000  0.218595  1.845421\n",
       "2022-01-03  0.000000  0.482334  1.586628  0.000000  0.157103\n",
       "...              ...       ...       ...       ...       ...\n",
       "2022-01-08  0.790196  1.300069  0.000000  0.000000  1.053593\n",
       "2022-01-09  0.539268  0.000000  0.653273  0.000000  0.116583\n",
       "2022-01-10  0.281797  0.331945  0.000000  0.856110  1.218365\n",
       "\n",
       "[10 rows x 5 columns]"
      ]
     },
     "execution_count": 24,
     "metadata": {},
     "output_type": "execute_result"
    }
   ],
   "source": [
    "mask=df<0\n",
    "df[mask]=0\n",
    "df"
   ]
  },
  {
   "cell_type": "code",
   "execution_count": 25,
   "id": "d02dd475",
   "metadata": {},
   "outputs": [
    {
     "data": {
      "text/html": [
       "<div>\n",
       "<style scoped>\n",
       "    .dataframe tbody tr th:only-of-type {\n",
       "        vertical-align: middle;\n",
       "    }\n",
       "\n",
       "    .dataframe tbody tr th {\n",
       "        vertical-align: top;\n",
       "    }\n",
       "\n",
       "    .dataframe thead th {\n",
       "        text-align: right;\n",
       "    }\n",
       "</style>\n",
       "<table border=\"1\" class=\"dataframe\">\n",
       "  <thead>\n",
       "    <tr style=\"text-align: right;\">\n",
       "      <th></th>\n",
       "      <th>A</th>\n",
       "      <th>B</th>\n",
       "    </tr>\n",
       "  </thead>\n",
       "  <tbody>\n",
       "    <tr>\n",
       "      <th>0</th>\n",
       "      <td>0</td>\n",
       "      <td>16</td>\n",
       "    </tr>\n",
       "    <tr>\n",
       "      <th>1</th>\n",
       "      <td>1</td>\n",
       "      <td>17</td>\n",
       "    </tr>\n",
       "    <tr>\n",
       "      <th>2</th>\n",
       "      <td>2</td>\n",
       "      <td>18</td>\n",
       "    </tr>\n",
       "    <tr>\n",
       "      <th>...</th>\n",
       "      <td>...</td>\n",
       "      <td>...</td>\n",
       "    </tr>\n",
       "    <tr>\n",
       "      <th>12</th>\n",
       "      <td>12</td>\n",
       "      <td>28</td>\n",
       "    </tr>\n",
       "    <tr>\n",
       "      <th>13</th>\n",
       "      <td>13</td>\n",
       "      <td>29</td>\n",
       "    </tr>\n",
       "    <tr>\n",
       "      <th>14</th>\n",
       "      <td>14</td>\n",
       "      <td>30</td>\n",
       "    </tr>\n",
       "  </tbody>\n",
       "</table>\n",
       "<p>15 rows × 2 columns</p>\n",
       "</div>"
      ],
      "text/plain": [
       "     A   B\n",
       "0    0  16\n",
       "1    1  17\n",
       "2    2  18\n",
       "..  ..  ..\n",
       "12  12  28\n",
       "13  13  29\n",
       "14  14  30\n",
       "\n",
       "[15 rows x 2 columns]"
      ]
     },
     "execution_count": 25,
     "metadata": {},
     "output_type": "execute_result"
    }
   ],
   "source": [
    "pd.DataFrame({'A':range(15),'B':range(16,31)})\n",
    "df2=pd.DataFrame({'A':range(15),'B':range(16,31)})\n",
    "df2"
   ]
  },
  {
   "cell_type": "code",
   "execution_count": 27,
   "id": "6ab44684",
   "metadata": {},
   "outputs": [
    {
     "data": {
      "text/html": [
       "<div>\n",
       "<style scoped>\n",
       "    .dataframe tbody tr th:only-of-type {\n",
       "        vertical-align: middle;\n",
       "    }\n",
       "\n",
       "    .dataframe tbody tr th {\n",
       "        vertical-align: top;\n",
       "    }\n",
       "\n",
       "    .dataframe thead th {\n",
       "        text-align: right;\n",
       "    }\n",
       "</style>\n",
       "<table border=\"1\" class=\"dataframe\">\n",
       "  <thead>\n",
       "    <tr style=\"text-align: right;\">\n",
       "      <th></th>\n",
       "      <th>A</th>\n",
       "      <th>B</th>\n",
       "      <th>C</th>\n",
       "    </tr>\n",
       "  </thead>\n",
       "  <tbody>\n",
       "    <tr>\n",
       "      <th>0</th>\n",
       "      <td>0</td>\n",
       "      <td>16</td>\n",
       "      <td>256</td>\n",
       "    </tr>\n",
       "    <tr>\n",
       "      <th>1</th>\n",
       "      <td>1</td>\n",
       "      <td>17</td>\n",
       "      <td>289</td>\n",
       "    </tr>\n",
       "    <tr>\n",
       "      <th>2</th>\n",
       "      <td>2</td>\n",
       "      <td>18</td>\n",
       "      <td>324</td>\n",
       "    </tr>\n",
       "    <tr>\n",
       "      <th>...</th>\n",
       "      <td>...</td>\n",
       "      <td>...</td>\n",
       "      <td>...</td>\n",
       "    </tr>\n",
       "    <tr>\n",
       "      <th>12</th>\n",
       "      <td>12</td>\n",
       "      <td>28</td>\n",
       "      <td>784</td>\n",
       "    </tr>\n",
       "    <tr>\n",
       "      <th>13</th>\n",
       "      <td>13</td>\n",
       "      <td>29</td>\n",
       "      <td>841</td>\n",
       "    </tr>\n",
       "    <tr>\n",
       "      <th>14</th>\n",
       "      <td>14</td>\n",
       "      <td>30</td>\n",
       "      <td>900</td>\n",
       "    </tr>\n",
       "  </tbody>\n",
       "</table>\n",
       "<p>15 rows × 3 columns</p>\n",
       "</div>"
      ],
      "text/plain": [
       "     A   B    C\n",
       "0    0  16  256\n",
       "1    1  17  289\n",
       "2    2  18  324\n",
       "..  ..  ..  ...\n",
       "12  12  28  784\n",
       "13  13  29  841\n",
       "14  14  30  900\n",
       "\n",
       "[15 rows x 3 columns]"
      ]
     },
     "execution_count": 27,
     "metadata": {},
     "output_type": "execute_result"
    }
   ],
   "source": [
    "df2['C']=df2['B']**2\n",
    "df2"
   ]
  },
  {
   "cell_type": "code",
   "execution_count": 28,
   "id": "ecb702d0",
   "metadata": {},
   "outputs": [
    {
     "data": {
      "text/html": [
       "<div>\n",
       "<style scoped>\n",
       "    .dataframe tbody tr th:only-of-type {\n",
       "        vertical-align: middle;\n",
       "    }\n",
       "\n",
       "    .dataframe tbody tr th {\n",
       "        vertical-align: top;\n",
       "    }\n",
       "\n",
       "    .dataframe thead th {\n",
       "        text-align: right;\n",
       "    }\n",
       "</style>\n",
       "<table border=\"1\" class=\"dataframe\">\n",
       "  <thead>\n",
       "    <tr style=\"text-align: right;\">\n",
       "      <th></th>\n",
       "      <th>A</th>\n",
       "      <th>B</th>\n",
       "      <th>C</th>\n",
       "    </tr>\n",
       "  </thead>\n",
       "  <tbody>\n",
       "    <tr>\n",
       "      <th>count</th>\n",
       "      <td>15.000000</td>\n",
       "      <td>15.000000</td>\n",
       "      <td>15.000000</td>\n",
       "    </tr>\n",
       "    <tr>\n",
       "      <th>mean</th>\n",
       "      <td>7.000000</td>\n",
       "      <td>23.000000</td>\n",
       "      <td>547.666667</td>\n",
       "    </tr>\n",
       "    <tr>\n",
       "      <th>std</th>\n",
       "      <td>4.472136</td>\n",
       "      <td>4.472136</td>\n",
       "      <td>206.433201</td>\n",
       "    </tr>\n",
       "    <tr>\n",
       "      <th>...</th>\n",
       "      <td>...</td>\n",
       "      <td>...</td>\n",
       "      <td>...</td>\n",
       "    </tr>\n",
       "    <tr>\n",
       "      <th>50%</th>\n",
       "      <td>7.000000</td>\n",
       "      <td>23.000000</td>\n",
       "      <td>529.000000</td>\n",
       "    </tr>\n",
       "    <tr>\n",
       "      <th>75%</th>\n",
       "      <td>10.500000</td>\n",
       "      <td>26.500000</td>\n",
       "      <td>702.500000</td>\n",
       "    </tr>\n",
       "    <tr>\n",
       "      <th>max</th>\n",
       "      <td>14.000000</td>\n",
       "      <td>30.000000</td>\n",
       "      <td>900.000000</td>\n",
       "    </tr>\n",
       "  </tbody>\n",
       "</table>\n",
       "<p>8 rows × 3 columns</p>\n",
       "</div>"
      ],
      "text/plain": [
       "               A          B           C\n",
       "count  15.000000  15.000000   15.000000\n",
       "mean    7.000000  23.000000  547.666667\n",
       "std     4.472136   4.472136  206.433201\n",
       "...          ...        ...         ...\n",
       "50%     7.000000  23.000000  529.000000\n",
       "75%    10.500000  26.500000  702.500000\n",
       "max    14.000000  30.000000  900.000000\n",
       "\n",
       "[8 rows x 3 columns]"
      ]
     },
     "execution_count": 28,
     "metadata": {},
     "output_type": "execute_result"
    }
   ],
   "source": [
    "df2.describe()"
   ]
  },
  {
   "cell_type": "code",
   "execution_count": 29,
   "id": "b20308a2",
   "metadata": {},
   "outputs": [
    {
     "data": {
      "text/plain": [
       "count    15.000000\n",
       "mean      7.000000\n",
       "std       4.472136\n",
       "           ...    \n",
       "50%       7.000000\n",
       "75%      10.500000\n",
       "max      14.000000\n",
       "Name: A, Length: 8, dtype: float64"
      ]
     },
     "execution_count": 29,
     "metadata": {},
     "output_type": "execute_result"
    }
   ],
   "source": [
    "df2['A'].describe()"
   ]
  },
  {
   "cell_type": "code",
   "execution_count": 30,
   "id": "0caf00ae",
   "metadata": {},
   "outputs": [],
   "source": [
    "import numpy as np\n",
    "import pandas as pd"
   ]
  },
  {
   "cell_type": "code",
   "execution_count": 32,
   "id": "01bc93d0",
   "metadata": {},
   "outputs": [
    {
     "data": {
      "text/html": [
       "<div>\n",
       "<style scoped>\n",
       "    .dataframe tbody tr th:only-of-type {\n",
       "        vertical-align: middle;\n",
       "    }\n",
       "\n",
       "    .dataframe tbody tr th {\n",
       "        vertical-align: top;\n",
       "    }\n",
       "\n",
       "    .dataframe thead th {\n",
       "        text-align: right;\n",
       "    }\n",
       "</style>\n",
       "<table border=\"1\" class=\"dataframe\">\n",
       "  <thead>\n",
       "    <tr style=\"text-align: right;\">\n",
       "      <th></th>\n",
       "      <th>Name Marks</th>\n",
       "    </tr>\n",
       "  </thead>\n",
       "  <tbody>\n",
       "    <tr>\n",
       "      <th>0</th>\n",
       "      <td>Amit 85</td>\n",
       "    </tr>\n",
       "    <tr>\n",
       "      <th>1</th>\n",
       "      <td>Aman 75</td>\n",
       "    </tr>\n",
       "    <tr>\n",
       "      <th>2</th>\n",
       "      <td>Ram  95</td>\n",
       "    </tr>\n",
       "  </tbody>\n",
       "</table>\n",
       "</div>"
      ],
      "text/plain": [
       "  Name Marks\n",
       "0    Amit 85\n",
       "1    Aman 75\n",
       "2    Ram  95"
      ]
     },
     "execution_count": 32,
     "metadata": {},
     "output_type": "execute_result"
    }
   ],
   "source": [
    "data=pd.read_csv('test.csv')\n",
    "data"
   ]
  },
  {
   "cell_type": "markdown",
   "id": "3ae589e2",
   "metadata": {},
   "source": [
    "# Panda Excercise-1"
   ]
  },
  {
   "cell_type": "markdown",
   "id": "82efa900",
   "metadata": {},
   "source": [
    "Create a Dataframe as follows using Pandas"
   ]
  },
  {
   "cell_type": "code",
   "execution_count": 1,
   "id": "bc76229e",
   "metadata": {},
   "outputs": [
    {
     "data": {
      "text/html": [
       "<div>\n",
       "<style scoped>\n",
       "    .dataframe tbody tr th:only-of-type {\n",
       "        vertical-align: middle;\n",
       "    }\n",
       "\n",
       "    .dataframe tbody tr th {\n",
       "        vertical-align: top;\n",
       "    }\n",
       "\n",
       "    .dataframe thead th {\n",
       "        text-align: right;\n",
       "    }\n",
       "</style>\n",
       "<table border=\"1\" class=\"dataframe\">\n",
       "  <thead>\n",
       "    <tr style=\"text-align: right;\">\n",
       "      <th></th>\n",
       "      <th>Chemistry</th>\n",
       "      <th>Physics</th>\n",
       "      <th>Mathematics</th>\n",
       "      <th>English</th>\n",
       "    </tr>\n",
       "  </thead>\n",
       "  <tbody>\n",
       "    <tr>\n",
       "      <th>Subodh</th>\n",
       "      <td>67</td>\n",
       "      <td>45</td>\n",
       "      <td>50</td>\n",
       "      <td>19</td>\n",
       "    </tr>\n",
       "    <tr>\n",
       "      <th>Ram</th>\n",
       "      <td>90</td>\n",
       "      <td>92</td>\n",
       "      <td>87</td>\n",
       "      <td>90</td>\n",
       "    </tr>\n",
       "    <tr>\n",
       "      <th>Abdul</th>\n",
       "      <td>66</td>\n",
       "      <td>72</td>\n",
       "      <td>81</td>\n",
       "      <td>72</td>\n",
       "    </tr>\n",
       "    <tr>\n",
       "      <th>Jhon</th>\n",
       "      <td>32</td>\n",
       "      <td>40</td>\n",
       "      <td>12</td>\n",
       "      <td>68</td>\n",
       "    </tr>\n",
       "  </tbody>\n",
       "</table>\n",
       "</div>"
      ],
      "text/plain": [
       "        Chemistry  Physics  Mathematics  English\n",
       "Subodh         67       45           50       19\n",
       "Ram            90       92           87       90\n",
       "Abdul          66       72           81       72\n",
       "Jhon           32       40           12       68"
      ]
     },
     "execution_count": 1,
     "metadata": {},
     "output_type": "execute_result"
    }
   ],
   "source": [
    "import pandas as pd\n",
    "import numpy as np\n",
    "marks={'Chemistry':[67,90,66,32],\n",
    "      'Physics':[45,92,72,40],\n",
    "      'Mathematics':[50,87,81,12],\n",
    "      'English':[19,90,72,68]}\n",
    "marks_df=pd.DataFrame(marks,index=['Subodh','Ram','Abdul','Jhon'])\n",
    "marks_df"
   ]
  },
  {
   "cell_type": "markdown",
   "id": "dd54ca5d",
   "metadata": {},
   "source": [
    "The teacher want to create a new column called total and the value of each row in total column should be the sum of all marks of each student"
   ]
  },
  {
   "cell_type": "code",
   "execution_count": 2,
   "id": "7dc95d71",
   "metadata": {},
   "outputs": [
    {
     "data": {
      "text/html": [
       "<div>\n",
       "<style scoped>\n",
       "    .dataframe tbody tr th:only-of-type {\n",
       "        vertical-align: middle;\n",
       "    }\n",
       "\n",
       "    .dataframe tbody tr th {\n",
       "        vertical-align: top;\n",
       "    }\n",
       "\n",
       "    .dataframe thead th {\n",
       "        text-align: right;\n",
       "    }\n",
       "</style>\n",
       "<table border=\"1\" class=\"dataframe\">\n",
       "  <thead>\n",
       "    <tr style=\"text-align: right;\">\n",
       "      <th></th>\n",
       "      <th>Chemistry</th>\n",
       "      <th>Physics</th>\n",
       "      <th>Mathematics</th>\n",
       "      <th>English</th>\n",
       "      <th>Total</th>\n",
       "    </tr>\n",
       "  </thead>\n",
       "  <tbody>\n",
       "    <tr>\n",
       "      <th>Subodh</th>\n",
       "      <td>67</td>\n",
       "      <td>45</td>\n",
       "      <td>50</td>\n",
       "      <td>19</td>\n",
       "      <td>181</td>\n",
       "    </tr>\n",
       "    <tr>\n",
       "      <th>Ram</th>\n",
       "      <td>90</td>\n",
       "      <td>92</td>\n",
       "      <td>87</td>\n",
       "      <td>90</td>\n",
       "      <td>359</td>\n",
       "    </tr>\n",
       "    <tr>\n",
       "      <th>Abdul</th>\n",
       "      <td>66</td>\n",
       "      <td>72</td>\n",
       "      <td>81</td>\n",
       "      <td>72</td>\n",
       "      <td>291</td>\n",
       "    </tr>\n",
       "    <tr>\n",
       "      <th>Jhon</th>\n",
       "      <td>32</td>\n",
       "      <td>40</td>\n",
       "      <td>12</td>\n",
       "      <td>68</td>\n",
       "      <td>152</td>\n",
       "    </tr>\n",
       "  </tbody>\n",
       "</table>\n",
       "</div>"
      ],
      "text/plain": [
       "        Chemistry  Physics  Mathematics  English  Total\n",
       "Subodh         67       45           50       19    181\n",
       "Ram            90       92           87       90    359\n",
       "Abdul          66       72           81       72    291\n",
       "Jhon           32       40           12       68    152"
      ]
     },
     "execution_count": 2,
     "metadata": {},
     "output_type": "execute_result"
    }
   ],
   "source": [
    "marks_df['Total']=marks_df['Chemistry']+marks_df['Physics']+marks_df['Mathematics']+marks_df['English']\n",
    "marks_df"
   ]
  },
  {
   "cell_type": "markdown",
   "id": "87b58b33",
   "metadata": {},
   "source": [
    "Drop the Total column"
   ]
  },
  {
   "cell_type": "code",
   "execution_count": 3,
   "id": "94799079",
   "metadata": {},
   "outputs": [
    {
     "data": {
      "text/html": [
       "<div>\n",
       "<style scoped>\n",
       "    .dataframe tbody tr th:only-of-type {\n",
       "        vertical-align: middle;\n",
       "    }\n",
       "\n",
       "    .dataframe tbody tr th {\n",
       "        vertical-align: top;\n",
       "    }\n",
       "\n",
       "    .dataframe thead th {\n",
       "        text-align: right;\n",
       "    }\n",
       "</style>\n",
       "<table border=\"1\" class=\"dataframe\">\n",
       "  <thead>\n",
       "    <tr style=\"text-align: right;\">\n",
       "      <th></th>\n",
       "      <th>Chemistry</th>\n",
       "      <th>Physics</th>\n",
       "      <th>Mathematics</th>\n",
       "      <th>English</th>\n",
       "    </tr>\n",
       "  </thead>\n",
       "  <tbody>\n",
       "    <tr>\n",
       "      <th>Subodh</th>\n",
       "      <td>67</td>\n",
       "      <td>45</td>\n",
       "      <td>50</td>\n",
       "      <td>19</td>\n",
       "    </tr>\n",
       "    <tr>\n",
       "      <th>Ram</th>\n",
       "      <td>90</td>\n",
       "      <td>92</td>\n",
       "      <td>87</td>\n",
       "      <td>90</td>\n",
       "    </tr>\n",
       "    <tr>\n",
       "      <th>Abdul</th>\n",
       "      <td>66</td>\n",
       "      <td>72</td>\n",
       "      <td>81</td>\n",
       "      <td>72</td>\n",
       "    </tr>\n",
       "    <tr>\n",
       "      <th>Jhon</th>\n",
       "      <td>32</td>\n",
       "      <td>40</td>\n",
       "      <td>12</td>\n",
       "      <td>68</td>\n",
       "    </tr>\n",
       "  </tbody>\n",
       "</table>\n",
       "</div>"
      ],
      "text/plain": [
       "        Chemistry  Physics  Mathematics  English\n",
       "Subodh         67       45           50       19\n",
       "Ram            90       92           87       90\n",
       "Abdul          66       72           81       72\n",
       "Jhon           32       40           12       68"
      ]
     },
     "execution_count": 3,
     "metadata": {},
     "output_type": "execute_result"
    }
   ],
   "source": [
    "marks_df.drop(columns='Total', inplace=True)\n",
    "marks_df"
   ]
  },
  {
   "cell_type": "markdown",
   "id": "a19d0704",
   "metadata": {},
   "source": [
    "The teacher wants to award five bonus marks to all the students"
   ]
  },
  {
   "cell_type": "code",
   "execution_count": 4,
   "id": "5d2be1ec",
   "metadata": {},
   "outputs": [
    {
     "data": {
      "text/html": [
       "<div>\n",
       "<style scoped>\n",
       "    .dataframe tbody tr th:only-of-type {\n",
       "        vertical-align: middle;\n",
       "    }\n",
       "\n",
       "    .dataframe tbody tr th {\n",
       "        vertical-align: top;\n",
       "    }\n",
       "\n",
       "    .dataframe thead th {\n",
       "        text-align: right;\n",
       "    }\n",
       "</style>\n",
       "<table border=\"1\" class=\"dataframe\">\n",
       "  <thead>\n",
       "    <tr style=\"text-align: right;\">\n",
       "      <th></th>\n",
       "      <th>Chemistry</th>\n",
       "      <th>Physics</th>\n",
       "      <th>Mathematics</th>\n",
       "      <th>English</th>\n",
       "    </tr>\n",
       "  </thead>\n",
       "  <tbody>\n",
       "    <tr>\n",
       "      <th>Subodh</th>\n",
       "      <td>72</td>\n",
       "      <td>50</td>\n",
       "      <td>55</td>\n",
       "      <td>24</td>\n",
       "    </tr>\n",
       "    <tr>\n",
       "      <th>Ram</th>\n",
       "      <td>95</td>\n",
       "      <td>97</td>\n",
       "      <td>92</td>\n",
       "      <td>95</td>\n",
       "    </tr>\n",
       "    <tr>\n",
       "      <th>Abdul</th>\n",
       "      <td>71</td>\n",
       "      <td>77</td>\n",
       "      <td>86</td>\n",
       "      <td>77</td>\n",
       "    </tr>\n",
       "    <tr>\n",
       "      <th>Jhon</th>\n",
       "      <td>37</td>\n",
       "      <td>45</td>\n",
       "      <td>17</td>\n",
       "      <td>73</td>\n",
       "    </tr>\n",
       "  </tbody>\n",
       "</table>\n",
       "</div>"
      ],
      "text/plain": [
       "        Chemistry  Physics  Mathematics  English\n",
       "Subodh         72       50           55       24\n",
       "Ram            95       97           92       95\n",
       "Abdul          71       77           86       77\n",
       "Jhon           37       45           17       73"
      ]
     },
     "execution_count": 4,
     "metadata": {},
     "output_type": "execute_result"
    }
   ],
   "source": [
    "new_marks=marks_df+5\n",
    "new_marks"
   ]
  },
  {
   "cell_type": "markdown",
   "id": "8412e109",
   "metadata": {},
   "source": [
    "The teacher wants to increase the marks of all the students as follows"
   ]
  },
  {
   "cell_type": "code",
   "execution_count": 5,
   "id": "c13e945c",
   "metadata": {},
   "outputs": [
    {
     "data": {
      "text/html": [
       "<div>\n",
       "<style scoped>\n",
       "    .dataframe tbody tr th:only-of-type {\n",
       "        vertical-align: middle;\n",
       "    }\n",
       "\n",
       "    .dataframe tbody tr th {\n",
       "        vertical-align: top;\n",
       "    }\n",
       "\n",
       "    .dataframe thead th {\n",
       "        text-align: right;\n",
       "    }\n",
       "</style>\n",
       "<table border=\"1\" class=\"dataframe\">\n",
       "  <thead>\n",
       "    <tr style=\"text-align: right;\">\n",
       "      <th></th>\n",
       "      <th>Chemistry</th>\n",
       "      <th>Physics</th>\n",
       "      <th>Mathematics</th>\n",
       "      <th>English</th>\n",
       "    </tr>\n",
       "  </thead>\n",
       "  <tbody>\n",
       "    <tr>\n",
       "      <th>Subodh</th>\n",
       "      <td>72</td>\n",
       "      <td>55</td>\n",
       "      <td>60</td>\n",
       "      <td>21</td>\n",
       "    </tr>\n",
       "    <tr>\n",
       "      <th>Ram</th>\n",
       "      <td>95</td>\n",
       "      <td>102</td>\n",
       "      <td>97</td>\n",
       "      <td>92</td>\n",
       "    </tr>\n",
       "    <tr>\n",
       "      <th>Abdul</th>\n",
       "      <td>71</td>\n",
       "      <td>82</td>\n",
       "      <td>91</td>\n",
       "      <td>74</td>\n",
       "    </tr>\n",
       "    <tr>\n",
       "      <th>Jhon</th>\n",
       "      <td>37</td>\n",
       "      <td>50</td>\n",
       "      <td>22</td>\n",
       "      <td>70</td>\n",
       "    </tr>\n",
       "  </tbody>\n",
       "</table>\n",
       "</div>"
      ],
      "text/plain": [
       "        Chemistry  Physics  Mathematics  English\n",
       "Subodh         72       55           60       21\n",
       "Ram            95      102           97       92\n",
       "Abdul          71       82           91       74\n",
       "Jhon           37       50           22       70"
      ]
     },
     "execution_count": 5,
     "metadata": {},
     "output_type": "execute_result"
    }
   ],
   "source": [
    "new_marks=marks_df + [5,10,10,2]\n",
    "new_marks"
   ]
  },
  {
   "cell_type": "markdown",
   "id": "159738a2",
   "metadata": {},
   "source": [
    "The teacher wants to get the total marks scored in each subject "
   ]
  },
  {
   "cell_type": "code",
   "execution_count": 6,
   "id": "e483100d",
   "metadata": {},
   "outputs": [
    {
     "data": {
      "text/plain": [
       "Chemistry      255\n",
       "Physics        249\n",
       "Mathematics    230\n",
       "English        249\n",
       "dtype: int64"
      ]
     },
     "execution_count": 6,
     "metadata": {},
     "output_type": "execute_result"
    }
   ],
   "source": [
    "marks_df.apply(np.sum,axis=0)"
   ]
  },
  {
   "cell_type": "markdown",
   "id": "326e5ad6",
   "metadata": {},
   "source": [
    " The teacher wants to get the total marks scored by each student"
   ]
  },
  {
   "cell_type": "code",
   "execution_count": 7,
   "id": "fea7d6bb",
   "metadata": {},
   "outputs": [
    {
     "data": {
      "text/plain": [
       "Subodh    181\n",
       "Ram       359\n",
       "Abdul     291\n",
       "Jhon      152\n",
       "dtype: int64"
      ]
     },
     "execution_count": 7,
     "metadata": {},
     "output_type": "execute_result"
    }
   ],
   "source": [
    "marks_df.apply(np.sum,axis=1)"
   ]
  },
  {
   "cell_type": "markdown",
   "id": "e29a1c18",
   "metadata": {},
   "source": [
    "The teacher wants to hide the marks of the students who scored less than 35 marks and display Fail in place of those marks"
   ]
  },
  {
   "cell_type": "code",
   "execution_count": 8,
   "id": "1f18b652",
   "metadata": {},
   "outputs": [
    {
     "data": {
      "text/html": [
       "<div>\n",
       "<style scoped>\n",
       "    .dataframe tbody tr th:only-of-type {\n",
       "        vertical-align: middle;\n",
       "    }\n",
       "\n",
       "    .dataframe tbody tr th {\n",
       "        vertical-align: top;\n",
       "    }\n",
       "\n",
       "    .dataframe thead th {\n",
       "        text-align: right;\n",
       "    }\n",
       "</style>\n",
       "<table border=\"1\" class=\"dataframe\">\n",
       "  <thead>\n",
       "    <tr style=\"text-align: right;\">\n",
       "      <th></th>\n",
       "      <th>Chemistry</th>\n",
       "      <th>Physics</th>\n",
       "      <th>Mathematics</th>\n",
       "      <th>English</th>\n",
       "    </tr>\n",
       "  </thead>\n",
       "  <tbody>\n",
       "    <tr>\n",
       "      <th>Subodh</th>\n",
       "      <td>67</td>\n",
       "      <td>45</td>\n",
       "      <td>50</td>\n",
       "      <td>Fail</td>\n",
       "    </tr>\n",
       "    <tr>\n",
       "      <th>Ram</th>\n",
       "      <td>90</td>\n",
       "      <td>92</td>\n",
       "      <td>87</td>\n",
       "      <td>90</td>\n",
       "    </tr>\n",
       "    <tr>\n",
       "      <th>Abdul</th>\n",
       "      <td>66</td>\n",
       "      <td>72</td>\n",
       "      <td>81</td>\n",
       "      <td>72</td>\n",
       "    </tr>\n",
       "    <tr>\n",
       "      <th>Jhon</th>\n",
       "      <td>Fail</td>\n",
       "      <td>40</td>\n",
       "      <td>Fail</td>\n",
       "      <td>68</td>\n",
       "    </tr>\n",
       "  </tbody>\n",
       "</table>\n",
       "</div>"
      ],
      "text/plain": [
       "       Chemistry  Physics Mathematics English\n",
       "Subodh        67       45          50    Fail\n",
       "Ram           90       92          87      90\n",
       "Abdul         66       72          81      72\n",
       "Jhon        Fail       40        Fail      68"
      ]
     },
     "execution_count": 8,
     "metadata": {},
     "output_type": "execute_result"
    }
   ],
   "source": [
    "f=marks_df<35\n",
    "marks_df.mask(f,'Fail')"
   ]
  },
  {
   "cell_type": "markdown",
   "id": "3a0906bb",
   "metadata": {},
   "source": [
    "# Pandas Excercise-2"
   ]
  },
  {
   "cell_type": "markdown",
   "id": "2f2c0e0e",
   "metadata": {},
   "source": [
    "Perform the following operation on Autompg.csv of XYZ Custom Cars\n",
    "company using Pandas"
   ]
  },
  {
   "cell_type": "code",
   "execution_count": 18,
   "id": "6ec7a52b",
   "metadata": {},
   "outputs": [],
   "source": [
    "import numpy as np\n",
    "import pandas as pd"
   ]
  },
  {
   "cell_type": "markdown",
   "id": "b2d9d17a",
   "metadata": {},
   "source": [
    "Read data from an existing file"
   ]
  },
  {
   "cell_type": "code",
   "execution_count": 22,
   "id": "f27e9a95",
   "metadata": {},
   "outputs": [
    {
     "data": {
      "text/html": [
       "<div>\n",
       "<style scoped>\n",
       "    .dataframe tbody tr th:only-of-type {\n",
       "        vertical-align: middle;\n",
       "    }\n",
       "\n",
       "    .dataframe tbody tr th {\n",
       "        vertical-align: top;\n",
       "    }\n",
       "\n",
       "    .dataframe thead th {\n",
       "        text-align: right;\n",
       "    }\n",
       "</style>\n",
       "<table border=\"1\" class=\"dataframe\">\n",
       "  <thead>\n",
       "    <tr style=\"text-align: right;\">\n",
       "      <th></th>\n",
       "      <th>mpg</th>\n",
       "      <th>cylinders</th>\n",
       "      <th>displacement</th>\n",
       "      <th>horsepower</th>\n",
       "      <th>weight</th>\n",
       "      <th>acceleration</th>\n",
       "      <th>model year</th>\n",
       "      <th>origin</th>\n",
       "      <th>car name</th>\n",
       "    </tr>\n",
       "  </thead>\n",
       "  <tbody>\n",
       "    <tr>\n",
       "      <th>0</th>\n",
       "      <td>18.0</td>\n",
       "      <td>8</td>\n",
       "      <td>307.0</td>\n",
       "      <td>130</td>\n",
       "      <td>3504</td>\n",
       "      <td>12.0</td>\n",
       "      <td>70</td>\n",
       "      <td>1</td>\n",
       "      <td>chevrolet chevelle malibu</td>\n",
       "    </tr>\n",
       "    <tr>\n",
       "      <th>1</th>\n",
       "      <td>15.0</td>\n",
       "      <td>8</td>\n",
       "      <td>350.0</td>\n",
       "      <td>165</td>\n",
       "      <td>3693</td>\n",
       "      <td>11.5</td>\n",
       "      <td>70</td>\n",
       "      <td>1</td>\n",
       "      <td>buick skylark 320</td>\n",
       "    </tr>\n",
       "    <tr>\n",
       "      <th>2</th>\n",
       "      <td>18.0</td>\n",
       "      <td>8</td>\n",
       "      <td>318.0</td>\n",
       "      <td>150</td>\n",
       "      <td>3436</td>\n",
       "      <td>11.0</td>\n",
       "      <td>70</td>\n",
       "      <td>1</td>\n",
       "      <td>plymouth satellite</td>\n",
       "    </tr>\n",
       "    <tr>\n",
       "      <th>3</th>\n",
       "      <td>16.0</td>\n",
       "      <td>8</td>\n",
       "      <td>304.0</td>\n",
       "      <td>150</td>\n",
       "      <td>3433</td>\n",
       "      <td>12.0</td>\n",
       "      <td>70</td>\n",
       "      <td>1</td>\n",
       "      <td>amc rebel sst</td>\n",
       "    </tr>\n",
       "    <tr>\n",
       "      <th>4</th>\n",
       "      <td>17.0</td>\n",
       "      <td>8</td>\n",
       "      <td>302.0</td>\n",
       "      <td>140</td>\n",
       "      <td>3449</td>\n",
       "      <td>10.5</td>\n",
       "      <td>70</td>\n",
       "      <td>1</td>\n",
       "      <td>ford torino</td>\n",
       "    </tr>\n",
       "  </tbody>\n",
       "</table>\n",
       "</div>"
      ],
      "text/plain": [
       "    mpg  cylinders  displacement horsepower  weight  acceleration  model year  \\\n",
       "0  18.0          8         307.0        130    3504          12.0          70   \n",
       "1  15.0          8         350.0        165    3693          11.5          70   \n",
       "2  18.0          8         318.0        150    3436          11.0          70   \n",
       "3  16.0          8         304.0        150    3433          12.0          70   \n",
       "4  17.0          8         302.0        140    3449          10.5          70   \n",
       "\n",
       "   origin                   car name  \n",
       "0       1  chevrolet chevelle malibu  \n",
       "1       1          buick skylark 320  \n",
       "2       1         plymouth satellite  \n",
       "3       1              amc rebel sst  \n",
       "4       1                ford torino  "
      ]
     },
     "execution_count": 22,
     "metadata": {},
     "output_type": "execute_result"
    }
   ],
   "source": [
    "import numpy as np\n",
    "import pandas as pd\n",
    "df=pd.read_csv('auto_mpg.csv')\n",
    "df.head()"
   ]
  },
  {
   "cell_type": "code",
   "execution_count": null,
   "id": "7bbedf03",
   "metadata": {},
   "outputs": [],
   "source": []
  }
 ],
 "metadata": {
  "kernelspec": {
   "display_name": "Python 3 (ipykernel)",
   "language": "python",
   "name": "python3"
  },
  "language_info": {
   "codemirror_mode": {
    "name": "ipython",
    "version": 3
   },
   "file_extension": ".py",
   "mimetype": "text/x-python",
   "name": "python",
   "nbconvert_exporter": "python",
   "pygments_lexer": "ipython3",
   "version": "3.9.12"
  }
 },
 "nbformat": 4,
 "nbformat_minor": 5
}
