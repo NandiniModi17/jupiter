{
 "cells": [
  {
   "cell_type": "code",
   "execution_count": 10,
   "id": "40a9a824",
   "metadata": {},
   "outputs": [
    {
     "name": "stdout",
     "output_type": "stream",
     "text": [
      "0    1\n",
      "1    9\n",
      "2   -4\n",
      "3    3\n",
      "4    3\n",
      "dtype: int64\n",
      "0     2\n",
      "1     3\n",
      "2     4\n",
      "3     5\n",
      "5    10\n",
      "dtype: int64\n"
     ]
    }
   ],
   "source": [
    "import numpy as np\n",
    "import pandas as pd\n",
    "from pandas import Series, DataFrame\n",
    "srs1=Series([1,9,-4,3,3])\n",
    "srs2=Series([2,3,4,5,10], index=[0,1,2,3,5])\n",
    "print(srs1)\n",
    "print(srs2)"
   ]
  },
  {
   "cell_type": "code",
   "execution_count": 12,
   "id": "8d13a647",
   "metadata": {},
   "outputs": [
    {
     "data": {
      "text/plain": [
       "0     3.0\n",
       "1    12.0\n",
       "2     0.0\n",
       "3     8.0\n",
       "4     NaN\n",
       "5     NaN\n",
       "dtype: float64"
      ]
     },
     "execution_count": 12,
     "metadata": {},
     "output_type": "execute_result"
    }
   ],
   "source": [
    "srs1 + srs2"
   ]
  },
  {
   "cell_type": "code",
   "execution_count": 13,
   "id": "6ea1a3a1",
   "metadata": {},
   "outputs": [
    {
     "data": {
      "text/plain": [
       "0     2.0\n",
       "1    27.0\n",
       "2   -16.0\n",
       "3    15.0\n",
       "4     NaN\n",
       "5     NaN\n",
       "dtype: float64"
      ]
     },
     "execution_count": 13,
     "metadata": {},
     "output_type": "execute_result"
    }
   ],
   "source": [
    "srs1 * srs2"
   ]
  },
  {
   "cell_type": "code",
   "execution_count": 14,
   "id": "3cc20356",
   "metadata": {},
   "outputs": [
    {
     "data": {
      "text/plain": [
       "0      1.0\n",
       "1    729.0\n",
       "2    256.0\n",
       "3    243.0\n",
       "4      NaN\n",
       "5      NaN\n",
       "dtype: float64"
      ]
     },
     "execution_count": 14,
     "metadata": {},
     "output_type": "execute_result"
    }
   ],
   "source": [
    "srs1 ** srs2"
   ]
  },
  {
   "cell_type": "code",
   "execution_count": 17,
   "id": "73253973",
   "metadata": {},
   "outputs": [
    {
     "data": {
      "text/plain": [
       "0    False\n",
       "1     True\n",
       "2    False\n",
       "3    False\n",
       "4    False\n",
       "dtype: bool"
      ]
     },
     "execution_count": 17,
     "metadata": {},
     "output_type": "execute_result"
    }
   ],
   "source": [
    "srs1 > Series([1,2,3,4,5])"
   ]
  },
  {
   "cell_type": "code",
   "execution_count": 18,
   "id": "1be6ec3f",
   "metadata": {},
   "outputs": [
    {
     "data": {
      "text/plain": [
       "0    1.414214\n",
       "1    1.732051\n",
       "2    2.000000\n",
       "3    2.236068\n",
       "5    3.162278\n",
       "dtype: float64"
      ]
     },
     "execution_count": 18,
     "metadata": {},
     "output_type": "execute_result"
    }
   ],
   "source": [
    "np.sqrt(srs2)"
   ]
  },
  {
   "cell_type": "code",
   "execution_count": 19,
   "id": "43abcdbd",
   "metadata": {},
   "outputs": [
    {
     "data": {
      "text/plain": [
       "0    1\n",
       "1    9\n",
       "2    4\n",
       "3    3\n",
       "4    3\n",
       "dtype: int64"
      ]
     },
     "execution_count": 19,
     "metadata": {},
     "output_type": "execute_result"
    }
   ],
   "source": [
    "np.abs(srs1)"
   ]
  },
  {
   "cell_type": "code",
   "execution_count": 20,
   "id": "94bfe7d2",
   "metadata": {},
   "outputs": [
    {
     "data": {
      "text/plain": [
       "pandas.core.series.Series"
      ]
     },
     "execution_count": 20,
     "metadata": {},
     "output_type": "execute_result"
    }
   ],
   "source": [
    "type(np.abs(srs1))"
   ]
  },
  {
   "cell_type": "code",
   "execution_count": 22,
   "id": "06e59e41",
   "metadata": {},
   "outputs": [
    {
     "data": {
      "text/plain": [
       "array([1, 9, 0, 3, 3], dtype=int64)"
      ]
     },
     "execution_count": 22,
     "metadata": {},
     "output_type": "execute_result"
    }
   ],
   "source": [
    "@np.vectorize\n",
    "def trunc(x):\n",
    "    return x if x > 0 else 0\n",
    "trunc(np.array([-1,5,4,-3,0]))\n",
    "trunc(srs1)"
   ]
  },
  {
   "cell_type": "code",
   "execution_count": 23,
   "id": "53e1649c",
   "metadata": {},
   "outputs": [
    {
     "data": {
      "text/plain": [
       "numpy.ndarray"
      ]
     },
     "execution_count": 23,
     "metadata": {},
     "output_type": "execute_result"
    }
   ],
   "source": [
    "type(trunc(srs1))"
   ]
  },
  {
   "cell_type": "code",
   "execution_count": 24,
   "id": "a53d3339",
   "metadata": {},
   "outputs": [
    {
     "data": {
      "text/plain": [
       "2.4"
      ]
     },
     "execution_count": 24,
     "metadata": {},
     "output_type": "execute_result"
    }
   ],
   "source": [
    "srs1.mean()"
   ]
  },
  {
   "cell_type": "code",
   "execution_count": 25,
   "id": "99ddf015",
   "metadata": {},
   "outputs": [
    {
     "data": {
      "text/plain": [
       "4.669047011971501"
      ]
     },
     "execution_count": 25,
     "metadata": {},
     "output_type": "execute_result"
    }
   ],
   "source": [
    "srs1.std()"
   ]
  },
  {
   "cell_type": "code",
   "execution_count": 26,
   "id": "fc763b71",
   "metadata": {},
   "outputs": [
    {
     "data": {
      "text/plain": [
       "9"
      ]
     },
     "execution_count": 26,
     "metadata": {},
     "output_type": "execute_result"
    }
   ],
   "source": [
    "srs1.max()"
   ]
  },
  {
   "cell_type": "code",
   "execution_count": 27,
   "id": "10f18ad2",
   "metadata": {},
   "outputs": [
    {
     "data": {
      "text/plain": [
       "1"
      ]
     },
     "execution_count": 27,
     "metadata": {},
     "output_type": "execute_result"
    }
   ],
   "source": [
    "srs1.argmax()"
   ]
  },
  {
   "cell_type": "code",
   "execution_count": 28,
   "id": "5b2890ab",
   "metadata": {},
   "outputs": [
    {
     "data": {
      "text/plain": [
       "0     1\n",
       "1    10\n",
       "2     6\n",
       "3     9\n",
       "4    12\n",
       "dtype: int64"
      ]
     },
     "execution_count": 28,
     "metadata": {},
     "output_type": "execute_result"
    }
   ],
   "source": [
    "srs1.cumsum()"
   ]
  },
  {
   "cell_type": "code",
   "execution_count": 29,
   "id": "363ac94c",
   "metadata": {},
   "outputs": [
    {
     "data": {
      "text/plain": [
       "0    1\n",
       "1    9\n",
       "2    4\n",
       "3    3\n",
       "4    3\n",
       "dtype: int64"
      ]
     },
     "execution_count": 29,
     "metadata": {},
     "output_type": "execute_result"
    }
   ],
   "source": [
    "srs1.abs()"
   ]
  },
  {
   "cell_type": "code",
   "execution_count": 30,
   "id": "13c9cab6",
   "metadata": {},
   "outputs": [
    {
     "data": {
      "text/plain": [
       "0    2\n",
       "1    9\n",
       "2    2\n",
       "3    3\n",
       "4    3\n",
       "dtype: int64"
      ]
     },
     "execution_count": 30,
     "metadata": {},
     "output_type": "execute_result"
    }
   ],
   "source": [
    "srs1.apply(lambda x: x if x > 2 else 2)"
   ]
  },
  {
   "cell_type": "code",
   "execution_count": 32,
   "id": "2b845041",
   "metadata": {},
   "outputs": [
    {
     "name": "stdout",
     "output_type": "stream",
     "text": [
      "a    alpha\n",
      "b     beta\n",
      "c     gama\n",
      "d    delta\n",
      "dtype: object\n"
     ]
    }
   ],
   "source": [
    "srs3=Series(['alpha','beta','gama','delta'], index=['a','b','c','d'])\n",
    "print(srs3)"
   ]
  },
  {
   "cell_type": "code",
   "execution_count": 33,
   "id": "58716b38",
   "metadata": {},
   "outputs": [
    {
     "data": {
      "text/plain": [
       "a    1\n",
       "b    2\n",
       "c   -1\n",
       "d   -3\n",
       "dtype: int64"
      ]
     },
     "execution_count": 33,
     "metadata": {},
     "output_type": "execute_result"
    }
   ],
   "source": [
    "obj={\"alpha\":1,\"beta\":2,\"gama\":-1,\"delta\":-3}\n",
    "srs3.map(obj)"
   ]
  },
  {
   "cell_type": "code",
   "execution_count": 34,
   "id": "304b378e",
   "metadata": {},
   "outputs": [
    {
     "name": "stdout",
     "output_type": "stream",
     "text": [
      "alpha    1\n",
      "beta     2\n",
      "gama    -1\n",
      "delta   -3\n",
      "dtype: int64\n"
     ]
    }
   ],
   "source": [
    "srs4=Series(obj)\n",
    "print(srs4)"
   ]
  },
  {
   "cell_type": "code",
   "execution_count": 35,
   "id": "38bec210",
   "metadata": {},
   "outputs": [
    {
     "data": {
      "text/plain": [
       "a    1\n",
       "b    2\n",
       "c   -1\n",
       "d   -3\n",
       "dtype: int64"
      ]
     },
     "execution_count": 35,
     "metadata": {},
     "output_type": "execute_result"
    }
   ],
   "source": [
    "srs3.map(srs4)"
   ]
  },
  {
   "cell_type": "code",
   "execution_count": 36,
   "id": "5663fcb6",
   "metadata": {},
   "outputs": [
    {
     "data": {
      "text/plain": [
       "0    -4\n",
       "1     1\n",
       "2     2\n",
       "3     3\n",
       "4     4\n",
       "5     5\n",
       "6     9\n",
       "7    10\n",
       "dtype: int64"
      ]
     },
     "execution_count": 36,
     "metadata": {},
     "output_type": "execute_result"
    }
   ],
   "source": [
    "union=pd.Series(np.union1d(srs1,srs2))\n",
    "union"
   ]
  },
  {
   "cell_type": "code",
   "execution_count": 38,
   "id": "b4a582bc",
   "metadata": {},
   "outputs": [
    {
     "data": {
      "text/plain": [
       "0    2\n",
       "1    9\n",
       "2    2\n",
       "3    3\n",
       "4    3\n",
       "dtype: int64"
      ]
     },
     "execution_count": 38,
     "metadata": {},
     "output_type": "execute_result"
    }
   ],
   "source": [
    "srs1.map(lambda x: x if x>2 else 2)"
   ]
  },
  {
   "cell_type": "code",
   "execution_count": 39,
   "id": "b92e4ae2",
   "metadata": {},
   "outputs": [
    {
     "name": "stdout",
     "output_type": "stream",
     "text": [
      "0    1\n",
      "1    2\n",
      "2    3\n",
      "3    4\n",
      "4    5\n",
      "dtype: int64 \n",
      " 0    4\n",
      "1    5\n",
      "2    6\n",
      "3    7\n",
      "4    8\n",
      "dtype: int64\n"
     ]
    }
   ],
   "source": [
    "import pandas as pd\n",
    "import numpy as np\n",
    "ser1=pd.Series([1,2,3,4,5])\n",
    "ser2=pd.Series([4,5,6,7,8])\n",
    "print(ser1,\"\\n\",ser2)"
   ]
  },
  {
   "cell_type": "code",
   "execution_count": 40,
   "id": "5ec836e8",
   "metadata": {},
   "outputs": [
    {
     "data": {
      "text/plain": [
       "0    1\n",
       "1    2\n",
       "2    3\n",
       "3    4\n",
       "4    5\n",
       "5    6\n",
       "6    7\n",
       "7    8\n",
       "dtype: int64"
      ]
     },
     "execution_count": 40,
     "metadata": {},
     "output_type": "execute_result"
    }
   ],
   "source": [
    "union = pd.Series(np.union1d(ser1,ser2))\n",
    "union"
   ]
  },
  {
   "cell_type": "code",
   "execution_count": 41,
   "id": "18802283",
   "metadata": {},
   "outputs": [
    {
     "data": {
      "text/plain": [
       "0    4\n",
       "1    5\n",
       "dtype: int64"
      ]
     },
     "execution_count": 41,
     "metadata": {},
     "output_type": "execute_result"
    }
   ],
   "source": [
    "intersect=pd.Series(np.intersect1d(ser1,ser2))\n",
    "intersect"
   ]
  },
  {
   "cell_type": "code",
   "execution_count": 43,
   "id": "508e7cb5",
   "metadata": {},
   "outputs": [
    {
     "name": "stdout",
     "output_type": "stream",
     "text": [
      "0    1\n",
      "1    2\n",
      "2    3\n",
      "5    6\n",
      "6    7\n",
      "7    8\n",
      "dtype: int64\n"
     ]
    }
   ],
   "source": [
    "notcommonseries=union[~union.isin(intersect)]\n",
    "print(notcommonseries)"
   ]
  },
  {
   "cell_type": "code",
   "execution_count": 1,
   "id": "ad2f4a6c",
   "metadata": {},
   "outputs": [
    {
     "name": "stdout",
     "output_type": "stream",
     "text": [
      "hello \n"
     ]
    }
   ],
   "source": [
    "print (\"hello \")"
   ]
  },
  {
   "cell_type": "code",
   "execution_count": null,
   "id": "00a20afd",
   "metadata": {},
   "outputs": [],
   "source": []
  }
 ],
 "metadata": {
  "kernelspec": {
   "display_name": "Python 3 (ipykernel)",
   "language": "python",
   "name": "python3"
  },
  "language_info": {
   "codemirror_mode": {
    "name": "ipython",
    "version": 3
   },
   "file_extension": ".py",
   "mimetype": "text/x-python",
   "name": "python",
   "nbconvert_exporter": "python",
   "pygments_lexer": "ipython3",
   "version": "3.9.12"
  }
 },
 "nbformat": 4,
 "nbformat_minor": 5
}
