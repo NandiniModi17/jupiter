{
 "cells": [
  {
   "cell_type": "code",
   "execution_count": 1,
   "id": "04eaf611",
   "metadata": {},
   "outputs": [
    {
     "data": {
      "text/plain": [
       "'1.21.5'"
      ]
     },
     "execution_count": 1,
     "metadata": {},
     "output_type": "execute_result"
    }
   ],
   "source": [
    "import numpy as np\n",
    "np.__version__"
   ]
  },
  {
   "cell_type": "markdown",
   "id": "bd452b71",
   "metadata": {},
   "source": [
    "# CREATE A 1-D ARRAY USING array()"
   ]
  },
  {
   "cell_type": "code",
   "execution_count": 5,
   "id": "3eca46e6",
   "metadata": {},
   "outputs": [
    {
     "name": "stdout",
     "output_type": "stream",
     "text": [
      "[1 2 3]\n",
      "int32\n",
      "(3,)\n"
     ]
    }
   ],
   "source": [
    "import numpy as np\n",
    "a=np.array([1,2,3,])\n",
    "print(a)\n",
    "print(a.dtype)\n",
    "print(a.shape)"
   ]
  },
  {
   "cell_type": "markdown",
   "id": "c9a60ee5",
   "metadata": {},
   "source": [
    "# Create a 2-D array using array()"
   ]
  },
  {
   "cell_type": "code",
   "execution_count": 6,
   "id": "a1924597",
   "metadata": {},
   "outputs": [
    {
     "name": "stdout",
     "output_type": "stream",
     "text": [
      "[[1 2 3]\n",
      " [4 5 6]]\n",
      "int32\n",
      "(2, 3)\n"
     ]
    }
   ],
   "source": [
    "import numpy as np\n",
    "b=np.array(([1,2,3],[4,5,6]))\n",
    "print(b)\n",
    "print(b.dtype)\n",
    "print(b.shape)"
   ]
  },
  {
   "cell_type": "markdown",
   "id": "0380e6dd",
   "metadata": {},
   "source": [
    "# Create a 2-D array using arange()"
   ]
  },
  {
   "cell_type": "code",
   "execution_count": 7,
   "id": "fa657fda",
   "metadata": {},
   "outputs": [
    {
     "name": "stdout",
     "output_type": "stream",
     "text": [
      "[[0 1 2 3 4]\n",
      " [5 6 7 8 9]]\n",
      "int32\n",
      "(2, 5)\n"
     ]
    }
   ],
   "source": [
    "import numpy as np\n",
    "b=np.arange(10).reshape(2,5)\n",
    "print(b)\n",
    "print(b.dtype)\n",
    "print(b.shape)"
   ]
  },
  {
   "cell_type": "code",
   "execution_count": 9,
   "id": "ede27a79",
   "metadata": {},
   "outputs": [
    {
     "name": "stdout",
     "output_type": "stream",
     "text": [
      "[[0 1]\n",
      " [2 3]\n",
      " [4 5]\n",
      " [6 7]\n",
      " [8 9]]\n",
      "int32\n",
      "(5, 2)\n"
     ]
    }
   ],
   "source": [
    "import numpy as np\n",
    "b=np.arange(10).reshape(5,2)\n",
    "print(b)\n",
    "print(b.dtype)\n",
    "print(b.shape)"
   ]
  },
  {
   "cell_type": "markdown",
   "id": "953f44f7",
   "metadata": {},
   "source": [
    "# Create a 3-D array using array()"
   ]
  },
  {
   "cell_type": "code",
   "execution_count": 10,
   "id": "f76dbacb",
   "metadata": {},
   "outputs": [
    {
     "name": "stdout",
     "output_type": "stream",
     "text": [
      "[[[ 1  2  3]\n",
      "  [ 5  6  7]]\n",
      "\n",
      " [[ 8  9 10]\n",
      "  [11 12 13]]\n",
      "\n",
      " [[14 15 16]\n",
      "  [17 18 19]]]\n",
      "int32\n",
      "(3, 2, 3)\n"
     ]
    }
   ],
   "source": [
    "import numpy as np\n",
    "c=np.array(\n",
    "    [[[1,2,3],[5,6,7]],\n",
    "    [[8,9,10],[11,12,13]],\n",
    "    [[14,15,16],[17,18,19]]]\n",
    ")\n",
    "print(c)\n",
    "print(c.dtype)\n",
    "print(c.shape)"
   ]
  },
  {
   "cell_type": "markdown",
   "id": "9e8b30dd",
   "metadata": {},
   "source": [
    "# Create a 3-D array using arange()"
   ]
  },
  {
   "cell_type": "code",
   "execution_count": 12,
   "id": "0026c3b8",
   "metadata": {},
   "outputs": [
    {
     "name": "stdout",
     "output_type": "stream",
     "text": [
      "[[[ 1  2]\n",
      "  [ 3  4]\n",
      "  [ 5  6]]\n",
      "\n",
      " [[ 7  8]\n",
      "  [ 9 10]\n",
      "  [11 12]]\n",
      "\n",
      " [[13 14]\n",
      "  [15 16]\n",
      "  [17 18]]]\n",
      "int32\n",
      "(3, 3, 2)\n"
     ]
    }
   ],
   "source": [
    "import numpy as np\n",
    "c=np.arange(1,19).reshape(3,3,2)\n",
    "print(c)\n",
    "print(c.dtype)\n",
    "print(c.shape)"
   ]
  },
  {
   "cell_type": "markdown",
   "id": "e7b32b9e",
   "metadata": {},
   "source": [
    "# Create array of ones(1-D)"
   ]
  },
  {
   "cell_type": "code",
   "execution_count": 13,
   "id": "6ec17b8d",
   "metadata": {},
   "outputs": [
    {
     "name": "stdout",
     "output_type": "stream",
     "text": [
      "[1 1]\n",
      "int32\n",
      "(2,)\n"
     ]
    }
   ],
   "source": [
    "import numpy as np\n",
    "d=np.ones(2,dtype=np.int32)\n",
    "print(d)\n",
    "print(d.dtype)\n",
    "print(d.shape)"
   ]
  },
  {
   "cell_type": "markdown",
   "id": "a3bc89ec",
   "metadata": {},
   "source": [
    "# Create array of ones(1-D)"
   ]
  },
  {
   "cell_type": "code",
   "execution_count": 14,
   "id": "7116286d",
   "metadata": {},
   "outputs": [
    {
     "name": "stdout",
     "output_type": "stream",
     "text": [
      "[1 1]\n",
      "int32\n",
      "(2,)\n"
     ]
    }
   ],
   "source": [
    "import numpy as np\n",
    "d=np.ones(2,dtype=np.int32)\n",
    "print(d)\n",
    "print(d.dtype)\n",
    "print(d.shape)"
   ]
  },
  {
   "cell_type": "markdown",
   "id": "4750bc8f",
   "metadata": {},
   "source": [
    "# Create array of ones(2-D)"
   ]
  },
  {
   "cell_type": "code",
   "execution_count": 15,
   "id": "4c59bbbd",
   "metadata": {},
   "outputs": [
    {
     "name": "stdout",
     "output_type": "stream",
     "text": [
      "[[1 1 1]\n",
      " [1 1 1]]\n",
      "int32\n",
      "(2, 3)\n"
     ]
    }
   ],
   "source": [
    "import numpy as np\n",
    "d=np.ones((2,3),dtype=np.int32)\n",
    "print(d)\n",
    "print(d.dtype)\n",
    "print(d.shape)"
   ]
  },
  {
   "cell_type": "markdown",
   "id": "40751225",
   "metadata": {},
   "source": [
    "# Create array of ones(3-D)"
   ]
  },
  {
   "cell_type": "code",
   "execution_count": 16,
   "id": "b0515c25",
   "metadata": {},
   "outputs": [
    {
     "name": "stdout",
     "output_type": "stream",
     "text": [
      "[[[1 1 1]\n",
      "  [1 1 1]]\n",
      "\n",
      " [[1 1 1]\n",
      "  [1 1 1]]\n",
      "\n",
      " [[1 1 1]\n",
      "  [1 1 1]]]\n",
      "int32\n",
      "(3, 2, 3)\n"
     ]
    }
   ],
   "source": [
    "import numpy as np\n",
    "d=np.ones((3,2,3),dtype=\"int32\")\n",
    "print(d)\n",
    "print(d.dtype)\n",
    "print(d.shape)"
   ]
  },
  {
   "cell_type": "markdown",
   "id": "f687e04d",
   "metadata": {},
   "source": [
    "# Create array of zeros(1-D)"
   ]
  },
  {
   "cell_type": "code",
   "execution_count": 17,
   "id": "3e7c3d30",
   "metadata": {},
   "outputs": [
    {
     "name": "stdout",
     "output_type": "stream",
     "text": [
      "[0 0 0]\n",
      "int32\n",
      "(3,)\n"
     ]
    }
   ],
   "source": [
    "import numpy as np\n",
    "f=np.zeros((3),dtype=np.int32)\n",
    "print(f)\n",
    "print(f.dtype)\n",
    "print(f.shape)"
   ]
  },
  {
   "cell_type": "markdown",
   "id": "dfea2dc7",
   "metadata": {},
   "source": [
    "# Create array of Zeros(2-D)"
   ]
  },
  {
   "cell_type": "code",
   "execution_count": 18,
   "id": "d8e9cc06",
   "metadata": {},
   "outputs": [
    {
     "name": "stdout",
     "output_type": "stream",
     "text": [
      "[[0 0 0]\n",
      " [0 0 0]]\n",
      "int32\n",
      "(2, 3)\n"
     ]
    }
   ],
   "source": [
    "import numpy as np\n",
    "f=np.zeros((2,3),dtype=np.int32)\n",
    "print(f)\n",
    "print(f.dtype)\n",
    "print(f.shape)"
   ]
  },
  {
   "cell_type": "markdown",
   "id": "2ce2cedc",
   "metadata": {},
   "source": [
    "# Create array of Zeros(3-D)"
   ]
  },
  {
   "cell_type": "code",
   "execution_count": 19,
   "id": "3570639c",
   "metadata": {},
   "outputs": [
    {
     "name": "stdout",
     "output_type": "stream",
     "text": [
      "[[[0 0 0]\n",
      "  [0 0 0]]\n",
      "\n",
      " [[0 0 0]\n",
      "  [0 0 0]]\n",
      "\n",
      " [[0 0 0]\n",
      "  [0 0 0]]]\n",
      "int32\n",
      "(3, 2, 3)\n"
     ]
    }
   ],
   "source": [
    "import numpy as np\n",
    "f=np.zeros((3,2,3),dtype=np.int32)\n",
    "print(f)\n",
    "print(f.dtype)\n",
    "print(f.shape)"
   ]
  },
  {
   "cell_type": "markdown",
   "id": "1717dc2c",
   "metadata": {},
   "source": [
    "# Create an array with random numbers(1-D)"
   ]
  },
  {
   "cell_type": "code",
   "execution_count": 20,
   "id": "d48c2ee9",
   "metadata": {},
   "outputs": [
    {
     "name": "stdout",
     "output_type": "stream",
     "text": [
      "[5 5 1 5 5 3]\n",
      "int32\n",
      "(6,)\n"
     ]
    }
   ],
   "source": [
    "import numpy as np\n",
    "a=np.random.randint(1,6,size=(6))\n",
    "print(a)\n",
    "print(a.dtype)\n",
    "print(a.shape)"
   ]
  },
  {
   "cell_type": "markdown",
   "id": "1ac7bc22",
   "metadata": {},
   "source": [
    "# Create a array with random numbers (2-D)"
   ]
  },
  {
   "cell_type": "code",
   "execution_count": 21,
   "id": "b7fc0fca",
   "metadata": {},
   "outputs": [
    {
     "name": "stdout",
     "output_type": "stream",
     "text": [
      "[[1 5 1]\n",
      " [8 2 5]]\n",
      "int32\n",
      "(2, 3)\n"
     ]
    }
   ],
   "source": [
    "import numpy as np\n",
    "b=np.random.randint(1,11,size=(2,3))\n",
    "print(b)\n",
    "print(b.dtype)\n",
    "print(b.shape)"
   ]
  },
  {
   "cell_type": "markdown",
   "id": "e6da5884",
   "metadata": {},
   "source": [
    "# CREATE AN ARRAY WITH RANDOM NUMBERS(3-D)"
   ]
  },
  {
   "cell_type": "code",
   "execution_count": 2,
   "id": "7084eb86",
   "metadata": {},
   "outputs": [
    {
     "name": "stdout",
     "output_type": "stream",
     "text": [
      "[[[18 19 17]\n",
      "  [17 11 11]]\n",
      "\n",
      " [[17 12 12]\n",
      "  [11 15 13]]\n",
      "\n",
      " [[10 12 18]\n",
      "  [16 15 14]]]\n",
      "int32\n",
      "(3, 2, 3)\n"
     ]
    }
   ],
   "source": [
    "import numpy as np\n",
    "c=np.random.randint(10,21,size=(3,2,3))\n",
    "print(c)\n",
    "print(c.dtype)\n",
    "print(c.shape)"
   ]
  },
  {
   "cell_type": "markdown",
   "id": "4848fbdb",
   "metadata": {},
   "source": [
    "# CREATE ARRAY WITH SINGLE LOW MULTIPLE HIGH"
   ]
  },
  {
   "cell_type": "code",
   "execution_count": 3,
   "id": "eec863da",
   "metadata": {},
   "outputs": [
    {
     "name": "stdout",
     "output_type": "stream",
     "text": [
      "[ 7 14  7]\n",
      "int32\n",
      "(3,)\n"
     ]
    }
   ],
   "source": [
    "import numpy as np\n",
    "a=np.random.randint(5,[10,20,30])\n",
    "print(a)\n",
    "print(a.dtype)\n",
    "print(a.shape)"
   ]
  },
  {
   "cell_type": "markdown",
   "id": "a4d79866",
   "metadata": {},
   "source": [
    "# CREATE ARRAY WITH MULTIPLE LOW SINGLE HIGH"
   ]
  },
  {
   "cell_type": "code",
   "execution_count": 7,
   "id": "1376fd02",
   "metadata": {},
   "outputs": [
    {
     "name": "stdout",
     "output_type": "stream",
     "text": [
      "[8 7 5]\n",
      "int32\n",
      "(3,)\n"
     ]
    }
   ],
   "source": [
    "import numpy as np\n",
    "b=np.random.randint([1,2,3],10)\n",
    "print(b)\n",
    "print(b.dtype)\n",
    "print(b.shape)"
   ]
  },
  {
   "cell_type": "markdown",
   "id": "35418bb8",
   "metadata": {},
   "source": [
    "# CREATE ARRAY WITH MULTIPLE LOW MULTIPLE HIGH"
   ]
  },
  {
   "cell_type": "code",
   "execution_count": 9,
   "id": "954cff72",
   "metadata": {},
   "outputs": [
    {
     "name": "stdout",
     "output_type": "stream",
     "text": [
      "[ 5  6  5 16]\n",
      "int32\n",
      "(4,)\n"
     ]
    }
   ],
   "source": [
    "import numpy as np\n",
    "a=np.random.randint([1,2,3,5],[10,20,30,40])\n",
    "print(a)\n",
    "print(a.dtype)\n",
    "print(a.shape)"
   ]
  },
  {
   "cell_type": "markdown",
   "id": "45c50e14",
   "metadata": {},
   "source": [
    "# CREATE ARRAY WITH RANDOM NUMBERS USING randn() (1-D)"
   ]
  },
  {
   "cell_type": "code",
   "execution_count": 10,
   "id": "70eb04aa",
   "metadata": {},
   "outputs": [
    {
     "name": "stdout",
     "output_type": "stream",
     "text": [
      "[ 0.44591783 -0.77650648 -0.20552055 -1.06753294  0.48826949]\n",
      "float64\n",
      "(5,)\n"
     ]
    }
   ],
   "source": [
    "import numpy as np\n",
    "a=np.random.randn(5)\n",
    "print(a)\n",
    "print(a.dtype)\n",
    "print(a.shape)"
   ]
  },
  {
   "cell_type": "markdown",
   "id": "48d66007",
   "metadata": {},
   "source": [
    "# CREATE NUMPY WITH RANDOM NUMBERS USING randn() (2-D)"
   ]
  },
  {
   "cell_type": "code",
   "execution_count": 13,
   "id": "eae3ebdc",
   "metadata": {},
   "outputs": [
    {
     "name": "stdout",
     "output_type": "stream",
     "text": [
      "[[ 0.76701371  0.10001411]\n",
      " [-0.70048219  2.76082006]\n",
      " [ 0.86130867  0.11109589]]\n",
      "float64\n",
      "(3, 2)\n"
     ]
    }
   ],
   "source": [
    "import numpy as np\n",
    "b=np.random.randn(3,2 )\n",
    "print(b)\n",
    "print(b.dtype)\n",
    "print(b.shape)"
   ]
  },
  {
   "cell_type": "markdown",
   "id": "80c5b9d6",
   "metadata": {},
   "source": [
    "# CREATE NUMPY WITH RANDOM NUMBERS USING randn() (3-D)"
   ]
  },
  {
   "cell_type": "code",
   "execution_count": 15,
   "id": "a227023a",
   "metadata": {},
   "outputs": [
    {
     "name": "stdout",
     "output_type": "stream",
     "text": [
      "[[[-1.54924077  0.70815969]\n",
      "  [ 0.51063348 -0.0108078 ]\n",
      "  [ 0.25467343  0.00875369]]\n",
      "\n",
      " [[ 0.74016038  0.04215466]\n",
      "  [ 0.63023595 -0.9986948 ]\n",
      "  [-0.15025588 -0.60560691]]\n",
      "\n",
      " [[ 0.31457866  1.02417994]\n",
      "  [ 0.63811037  1.18897236]\n",
      "  [-0.65915678 -0.97153811]]]\n",
      "float64\n",
      "(3, 3, 2)\n"
     ]
    }
   ],
   "source": [
    "import numpy as np\n",
    "c=np.random.randn(3,3,2)\n",
    "print(c)\n",
    "print(c.dtype)\n",
    "print(c.shape)"
   ]
  },
  {
   "cell_type": "markdown",
   "id": "5b86e325",
   "metadata": {},
   "source": [
    "# CREATE ARRAY OF RANDOM NUMBERS USING rand()"
   ]
  },
  {
   "cell_type": "code",
   "execution_count": 16,
   "id": "89b2922f",
   "metadata": {},
   "outputs": [
    {
     "name": "stdout",
     "output_type": "stream",
     "text": [
      "[0.81067646 0.46064345 0.27373711 0.34486574 0.81338228]\n",
      "float64\n",
      "(5,)\n"
     ]
    }
   ],
   "source": [
    "import numpy as np\n",
    "a=np.random.rand(5)\n",
    "print(a)\n",
    "print(a.dtype)\n",
    "print(a.shape)"
   ]
  },
  {
   "cell_type": "markdown",
   "id": "84636aa9",
   "metadata": {},
   "source": [
    "# POSITIVE INDEXING IN ARRAY(left - right)"
   ]
  },
  {
   "cell_type": "code",
   "execution_count": 22,
   "id": "3208bb67",
   "metadata": {},
   "outputs": [
    {
     "name": "stdout",
     "output_type": "stream",
     "text": [
      "3\n",
      "8\n",
      "4\n"
     ]
    }
   ],
   "source": [
    "import numpy as np\n",
    "arr=np.array([1,2,3,4,5,6,7,8])\n",
    "print(arr[2])\n",
    "print(arr[7])\n",
    "arr[3]"
   ]
  },
  {
   "cell_type": "code",
   "execution_count": 23,
   "id": "41b88013",
   "metadata": {},
   "outputs": [
    {
     "name": "stdout",
     "output_type": "stream",
     "text": [
      "3\n",
      "6\n",
      "5\n",
      "9\n"
     ]
    }
   ],
   "source": [
    "import numpy as np\n",
    "arr=np.array([[1,2,3],[5,6,7],[8,9,10]])\n",
    "print(arr[0,2])\n",
    "print(arr[1,1])\n",
    "print(arr[1,0])\n",
    "print(arr[2,1])"
   ]
  },
  {
   "cell_type": "code",
   "execution_count": 24,
   "id": "e059e280",
   "metadata": {},
   "outputs": [
    {
     "name": "stdout",
     "output_type": "stream",
     "text": [
      "5\n",
      "400\n",
      "13\n"
     ]
    }
   ],
   "source": [
    "import numpy as np\n",
    "arr=np.array(\n",
    "    [\n",
    "        [[1,2,3],[4,5,6]],\n",
    "        [[10,20,30],[12,13,14]],\n",
    "        [[100,200,300],[400,500,600]]\n",
    "    ])\n",
    "print(arr[0,1,1])\n",
    "print(arr[2,1,0])\n",
    "print(arr[1,1,1])"
   ]
  },
  {
   "cell_type": "markdown",
   "id": "69f1a372",
   "metadata": {},
   "source": [
    "# NEGETIVE INDEXING IN ARRAY(right - left)"
   ]
  },
  {
   "cell_type": "code",
   "execution_count": 25,
   "id": "405fe65b",
   "metadata": {},
   "outputs": [
    {
     "name": "stdout",
     "output_type": "stream",
     "text": [
      "6\n",
      "7\n",
      "1\n"
     ]
    }
   ],
   "source": [
    "import numpy as np\n",
    "arr=np.array([1,2,3,4,5,6,7])\n",
    "print(arr[-2])\n",
    "print(arr[-1])\n",
    "print(arr[-7])"
   ]
  },
  {
   "cell_type": "code",
   "execution_count": 26,
   "id": "902997a6",
   "metadata": {},
   "outputs": [
    {
     "name": "stdout",
     "output_type": "stream",
     "text": [
      "5\n",
      "3\n"
     ]
    }
   ],
   "source": [
    "import numpy as np\n",
    "arr=np.array([[1,2,3],[4,5,6]])\n",
    "print(arr[-1,-2])\n",
    "print(arr[-2,-1])"
   ]
  },
  {
   "cell_type": "code",
   "execution_count": 28,
   "id": "d89acffe",
   "metadata": {},
   "outputs": [
    {
     "name": "stdout",
     "output_type": "stream",
     "text": [
      "11\n",
      "5\n"
     ]
    }
   ],
   "source": [
    "import numpy as np\n",
    "arr=np.array(\n",
    "    [\n",
    "        [[1,2,3],[5,6,7]],\n",
    "        [[12,13,14],[11,10,49]]])\n",
    "print(arr[-1,-1,-3])\n",
    "print(arr[-2,-1,-3])"
   ]
  },
  {
   "cell_type": "markdown",
   "id": "b61d5f6e",
   "metadata": {},
   "source": [
    "# MIXING OF (+ AND -)"
   ]
  },
  {
   "cell_type": "code",
   "execution_count": 31,
   "id": "db4a15f6",
   "metadata": {},
   "outputs": [
    {
     "name": "stdout",
     "output_type": "stream",
     "text": [
      "7\n",
      "7\n",
      "45\n",
      "45\n"
     ]
    }
   ],
   "source": [
    "import numpy as np\n",
    "arr=np.array(\n",
    "    [\n",
    "        [[2,3,4],[5,6,7]],\n",
    "        [[10,2,4],[6,7,29]],\n",
    "        [[22,11,14],[23,45,44]]\n",
    "    ]\n",
    ")\n",
    "print(arr[1,1,1])\n",
    "print(arr[-2,-1,-2])\n",
    "print(arr[2,-1,-2])\n",
    "print(arr[-1,1,-2])"
   ]
  },
  {
   "cell_type": "markdown",
   "id": "79ed7ee0",
   "metadata": {},
   "source": [
    "# NUMPY ARRAY SLICING"
   ]
  },
  {
   "cell_type": "code",
   "execution_count": 32,
   "id": "9a12918b",
   "metadata": {},
   "outputs": [
    {
     "name": "stdout",
     "output_type": "stream",
     "text": [
      "[2 3 4 5]\n"
     ]
    }
   ],
   "source": [
    "import numpy as np\n",
    "arr=np.array([1,2,3,4,5,6,7])\n",
    "print(arr[1:5])"
   ]
  },
  {
   "cell_type": "code",
   "execution_count": 33,
   "id": "e271a33c",
   "metadata": {},
   "outputs": [
    {
     "name": "stdout",
     "output_type": "stream",
     "text": [
      "[5 6 7 8 9]\n"
     ]
    }
   ],
   "source": [
    "import numpy as np\n",
    "arr=np.array([1,2,3,4,5,6,7,8,9])\n",
    "print(arr[4:])"
   ]
  },
  {
   "cell_type": "code",
   "execution_count": 34,
   "id": "cac38ebd",
   "metadata": {},
   "outputs": [
    {
     "name": "stdout",
     "output_type": "stream",
     "text": [
      "[1 2 3 4]\n"
     ]
    }
   ],
   "source": [
    "import numpy as np\n",
    "arr=np.array([1,2,3,4,5,6,7])\n",
    "print(arr[:4])"
   ]
  },
  {
   "cell_type": "markdown",
   "id": "70dc3c79",
   "metadata": {},
   "source": [
    "# NEGETIVE SLICING"
   ]
  },
  {
   "cell_type": "code",
   "execution_count": 35,
   "id": "aab1d911",
   "metadata": {},
   "outputs": [
    {
     "name": "stdout",
     "output_type": "stream",
     "text": [
      "[5 6]\n",
      "[2 3 4 5]\n"
     ]
    }
   ],
   "source": [
    "import numpy as np\n",
    "arr=np.array([1,2,3,4,5,6,7])\n",
    "print(arr[-3:-1])\n",
    "print(arr[-6:-2])"
   ]
  },
  {
   "cell_type": "code",
   "execution_count": 36,
   "id": "f52de237",
   "metadata": {},
   "outputs": [
    {
     "name": "stdout",
     "output_type": "stream",
     "text": [
      "[2 4]\n"
     ]
    }
   ],
   "source": [
    "import numpy as np\n",
    "arr=np.array([1,2,3,4,5,6,7])\n",
    "print(arr[1:5:2])"
   ]
  },
  {
   "cell_type": "code",
   "execution_count": 37,
   "id": "9ac74ba5",
   "metadata": {},
   "outputs": [
    {
     "name": "stdout",
     "output_type": "stream",
     "text": [
      "[1 3 5 7]\n"
     ]
    }
   ],
   "source": [
    "import numpy as np\n",
    "arr=np.array([1,2,3,4,5,6,7])\n",
    "print(arr[::2])"
   ]
  },
  {
   "cell_type": "markdown",
   "id": "a76120ac",
   "metadata": {},
   "source": [
    "# SLICING 2-D ARRAYS"
   ]
  },
  {
   "cell_type": "code",
   "execution_count": 42,
   "id": "72c2926e",
   "metadata": {},
   "outputs": [
    {
     "name": "stdout",
     "output_type": "stream",
     "text": [
      "[7 8 9]\n"
     ]
    }
   ],
   "source": [
    "import numpy as np\n",
    "arr=np.array([[1,2,3,4,5],[6,7,8,9,10]])\n",
    "print(arr[1,1:4])"
   ]
  },
  {
   "cell_type": "code",
   "execution_count": 43,
   "id": "bcc8a879",
   "metadata": {},
   "outputs": [
    {
     "name": "stdout",
     "output_type": "stream",
     "text": [
      "[[2 3 4]\n",
      " [7 8 9]]\n"
     ]
    }
   ],
   "source": [
    "import numpy as np\n",
    "arr=np.array([[1,2,3,4,5],[6,7,8,9,10]])\n",
    "print(arr[0:2,1:4])"
   ]
  },
  {
   "cell_type": "markdown",
   "id": "948cda98",
   "metadata": {},
   "source": [
    "# NUMPY ARRAY COPY VS VIEW"
   ]
  },
  {
   "cell_type": "code",
   "execution_count": 45,
   "id": "e923518b",
   "metadata": {},
   "outputs": [
    {
     "name": "stdout",
     "output_type": "stream",
     "text": [
      "original array\n",
      "[1 2 3 4 5]\n",
      "affected array\n",
      "[ 1  2 10  4  5]\n",
      "[1 2 3 4 5]\n",
      "affected array\n",
      "[20  2  3  4  5]\n"
     ]
    }
   ],
   "source": [
    "import numpy as np\n",
    "arr = np.array([1,2,3,4,5])\n",
    "a = arr.copy()\n",
    "print(\"original array\")\n",
    "print(arr)\n",
    "print(\"affected array\")\n",
    "arr[2] = 10\n",
    "print(arr)\n",
    "print(a)\n",
    "a[0] = 20\n",
    "print(\"affected array\")\n",
    "print(a)"
   ]
  },
  {
   "cell_type": "code",
   "execution_count": 48,
   "id": "7bc75ec4",
   "metadata": {},
   "outputs": [
    {
     "name": "stdout",
     "output_type": "stream",
     "text": [
      "original array\n",
      "[1 2 3 4 5]\n",
      "viewed array\n",
      "[1 2 3 4 5]\n",
      "affected array\n",
      "arr :  [30  2  3  4  5]\n",
      " x : [30  2  3  4  5]\n"
     ]
    }
   ],
   "source": [
    "import numpy as np\n",
    "arr = np.array([1,2,3,4,5])\n",
    "x = arr.view()\n",
    "print(\"original array\")\n",
    "print(arr)\n",
    "print(\"viewed array\")\n",
    "print(x)\n",
    "print(\"affected array\")\n",
    "arr[0] = 30\n",
    "print(\"arr : \",arr)\n",
    "print(\" x :\",x)"
   ]
  },
  {
   "cell_type": "code",
   "execution_count": 49,
   "id": "c3b1e0d8",
   "metadata": {},
   "outputs": [
    {
     "name": "stdout",
     "output_type": "stream",
     "text": [
      "original array : [ 1  2  3  4  5  6  7  8  9 10]\n"
     ]
    }
   ],
   "source": [
    "import numpy as np\n",
    "arr=np.array([1,2,3,4,5,6,7,8,9,10])\n",
    "print(\"original array :\",arr) "
   ]
  },
  {
   "cell_type": "code",
   "execution_count": 50,
   "id": "f641ceaa",
   "metadata": {},
   "outputs": [
    {
     "name": "stdout",
     "output_type": "stream",
     "text": [
      "2D array with shape 5x2\n",
      "[[ 1  2]\n",
      " [ 3  4]\n",
      " [ 5  6]\n",
      " [ 7  8]\n",
      " [ 9 10]]\n"
     ]
    }
   ],
   "source": [
    "b = arr.reshape(5,2) \n",
    "print(\"2D array with shape 5x2\")\n",
    "print(b)"
   ]
  },
  {
   "cell_type": "code",
   "execution_count": 51,
   "id": "4765f925",
   "metadata": {},
   "outputs": [
    {
     "name": "stdout",
     "output_type": "stream",
     "text": [
      "2D array with shape 2x5\n",
      "[[ 1  2  3  4  5]\n",
      " [ 6  7  8  9 10]]\n"
     ]
    }
   ],
   "source": [
    "c = arr.reshape(2,5) \n",
    "print(\"2D array with shape 2x5\")\n",
    "print(c)"
   ]
  },
  {
   "cell_type": "code",
   "execution_count": 55,
   "id": "d110e4fa",
   "metadata": {},
   "outputs": [
    {
     "name": "stdout",
     "output_type": "stream",
     "text": [
      "3D array with shape 2,1,5\n",
      "[[[ 1  2  3  4  5]]\n",
      "\n",
      " [[ 6  7  8  9 10]]]\n"
     ]
    }
   ],
   "source": [
    "d = arr.reshape(2,1,5)\n",
    "print(\"3D array with shape 2,1,5\")\n",
    "print(d)"
   ]
  },
  {
   "cell_type": "markdown",
   "id": "fd978b71",
   "metadata": {},
   "source": [
    "# AGREEGATION FUNCTIONS"
   ]
  },
  {
   "cell_type": "code",
   "execution_count": 57,
   "id": "5013b8e5",
   "metadata": {},
   "outputs": [
    {
     "name": "stdout",
     "output_type": "stream",
     "text": [
      "original 1D array :  [1 2 3 4 5]\n",
      "sum=15\n",
      "\n"
     ]
    }
   ],
   "source": [
    "import numpy as np\n",
    "arr=np.array([1,2,3,4,5]) #1D\n",
    "print(\"original 1D array : \",arr)\n",
    "print(f\"sum={np.sum(arr)}\")\n",
    "print()"
   ]
  },
  {
   "cell_type": "code",
   "execution_count": 58,
   "id": "a6b8d0d8",
   "metadata": {},
   "outputs": [
    {
     "name": "stdout",
     "output_type": "stream",
     "text": [
      "original 2D array :  [[ 1  2  3  4  5]\n",
      " [ 6  7  8  9 10]]\n",
      "sum=55\n",
      "\n",
      "original 3D array :  [[[ 1  2  3]\n",
      "  [ 4  5  6]]\n",
      "\n",
      " [[10 20 30]\n",
      "  [40 50 60]]]\n",
      "sum=231\n"
     ]
    }
   ],
   "source": [
    "arr1=np.array([[1,2,3,4,5],[6,7,8,9,10]])\n",
    "print(\"original 2D array : \",arr1)\n",
    "print(f\"sum={np.sum(arr1)}\")\n",
    "print()\n",
    "arr2=np.array(\n",
    "              [\n",
    "               [[1,2,3],[4,5,6]],\n",
    "               [[10,20,30],[40,50,60]]    \n",
    "              ]\n",
    "             )\n",
    "print(\"original 3D array : \",arr2)\n",
    "print(f\"sum={np.sum(arr2)}\")"
   ]
  },
  {
   "cell_type": "code",
   "execution_count": 59,
   "id": "dcf8a09c",
   "metadata": {},
   "outputs": [
    {
     "name": "stdout",
     "output_type": "stream",
     "text": [
      "original array \n",
      ": [[1 2 3 4]\n",
      " [5 6 7 8]]\n",
      "Across Colswise\n",
      "sum = [ 6  8 10 12]\n",
      "Across Rowswise\n",
      "sum = [10 26]\n"
     ]
    }
   ],
   "source": [
    "import numpy as np\n",
    "arr = np.array([[1,2,3,4],[5,6,7,8]])\n",
    "print(\"original array \\n:\",arr)\n",
    "\n",
    "print(\"Across Colswise\") #column wise\n",
    "print(\"sum =\",np.sum(arr , axis=0))\n",
    "\n",
    "print(\"Across Rowswise\") #Row wise\n",
    "print(\"sum =\",np.sum(arr , axis=1))"
   ]
  },
  {
   "cell_type": "markdown",
   "id": "0a4ebc8e",
   "metadata": {},
   "source": [
    "# mean() FUNCTION"
   ]
  },
  {
   "cell_type": "code",
   "execution_count": 1,
   "id": "7d777066",
   "metadata": {},
   "outputs": [
    {
     "name": "stdout",
     "output_type": "stream",
     "text": [
      "original array :  [1 2 3 4 5 6 7 8]\n",
      "mean :  4.5\n"
     ]
    }
   ],
   "source": [
    "import numpy as np\n",
    "arr = np.array([1,2,3,4,5,6,7,8])\n",
    "print(\"original array : \",arr)\n",
    "print(\"mean : \",np.mean(arr))"
   ]
  },
  {
   "cell_type": "code",
   "execution_count": 61,
   "id": "c6c75c07",
   "metadata": {},
   "outputs": [
    {
     "name": "stdout",
     "output_type": "stream",
     "text": [
      "original array \n",
      ":  [[1 2 3 4]\n",
      " [5 6 7 8]]\n",
      "Across Rows\n",
      "Mean = [3. 4. 5. 6.]\n",
      "Across Columns\n",
      "Mean = [2.5 6.5]\n"
     ]
    }
   ],
   "source": [
    "import numpy as np\n",
    "arr = np.array([[1,2,3,4],[5,6,7,8]])\n",
    "print(\"original array \\n: \",arr)\n",
    "\n",
    "print(\"Across Rows\") #column wise\n",
    "print(\"Mean =\",np.mean(arr , axis=0))\n",
    "\n",
    "print(\"Across Columns\") #Row wise\n",
    "print(\"Mean =\",np.mean(arr , axis=1))"
   ]
  },
  {
   "cell_type": "code",
   "execution_count": 63,
   "id": "c4f8faea",
   "metadata": {},
   "outputs": [
    {
     "name": "stdout",
     "output_type": "stream",
     "text": [
      "original array :  [[1 2 3 4]\n",
      " [5 6 7 8]]\n",
      "\n",
      "standard div :  2.29128784747792\n"
     ]
    }
   ],
   "source": [
    "import numpy as np\n",
    "arr = np.array([[1,2,3,4],[5,6,7,8]])\n",
    "print(\"original array : \",arr)\n",
    "print()\n",
    "print(\"standard div : \",np.std(arr)) "
   ]
  },
  {
   "cell_type": "code",
   "execution_count": 2,
   "id": "66af3675",
   "metadata": {},
   "outputs": [
    {
     "name": "stdout",
     "output_type": "stream",
     "text": [
      "original array: [[1 2 3 4]\n",
      " [5 6 7 8]]\n",
      "Across Rows\n",
      "std div= [2. 2. 2. 2.]\n",
      "\n",
      "Across columns\n",
      "std div= [1.11803399 1.11803399]\n"
     ]
    }
   ],
   "source": [
    "import numpy as np\n",
    "arr=np.array([[1,2,3,4],[5,6,7,8]])\n",
    "print(\"original array:\",arr)\n",
    "print(\"Across Rows\")\n",
    "print(\"std div=\",np.std(arr,axis=0))\n",
    "print()\n",
    "print(\"Across columns\")\n",
    "print(\"std div=\",np.std(arr,axis=1))"
   ]
  },
  {
   "cell_type": "markdown",
   "id": "16e1e93c",
   "metadata": {},
   "source": [
    "# var() FUNCTION"
   ]
  },
  {
   "cell_type": "code",
   "execution_count": 3,
   "id": "4288302d",
   "metadata": {},
   "outputs": [
    {
     "name": "stdout",
     "output_type": "stream",
     "text": [
      "original array :  [[1 2 3 4]\n",
      " [5 6 7 8]]\n",
      "\n",
      "varients :  5.25\n"
     ]
    }
   ],
   "source": [
    "import numpy as np\n",
    "arr=np.array([[1,2,3,4],[5,6,7,8]])\n",
    "print(\"original array : \",arr)\n",
    "print()\n",
    "print(\"varients : \",np.var(arr))"
   ]
  },
  {
   "cell_type": "code",
   "execution_count": 4,
   "id": "bc8a29aa",
   "metadata": {},
   "outputs": [
    {
     "name": "stdout",
     "output_type": "stream",
     "text": [
      "original array: [[1 2 3 4]\n",
      " [5 6 7 8]]\n",
      "across rows\n",
      "var= [4. 4. 4. 4.]\n",
      "\n",
      "across column\n",
      "var= [1.25 1.25]\n"
     ]
    }
   ],
   "source": [
    "import numpy as np\n",
    "arr=np.array([[1,2,3,4],[5,6,7,8]])\n",
    "print(\"original array:\",arr)\n",
    "print(\"across rows\")\n",
    "print(\"var=\",np.var(arr,axis=0))\n",
    "print()\n",
    "print(\"across column\")\n",
    "print(\"var=\",np.var(arr,axis=1))"
   ]
  },
  {
   "cell_type": "markdown",
   "id": "4e1ec82e",
   "metadata": {},
   "source": [
    "# min(FUNCTION)"
   ]
  },
  {
   "cell_type": "code",
   "execution_count": 5,
   "id": "d72ed192",
   "metadata": {},
   "outputs": [
    {
     "name": "stdout",
     "output_type": "stream",
     "text": [
      "original array :  [[1 2 3 4]\n",
      " [5 6 7 8]]\n",
      "\n",
      "minimum :  1\n"
     ]
    }
   ],
   "source": [
    "import numpy as np\n",
    "arr = np.array([[1,2,3,4],[5,6,7,8]])\n",
    "print(\"original array : \",arr)\n",
    "print()\n",
    "print(\"minimum : \",np.min(arr))"
   ]
  },
  {
   "cell_type": "code",
   "execution_count": 6,
   "id": "fa7344d2",
   "metadata": {},
   "outputs": [
    {
     "name": "stdout",
     "output_type": "stream",
     "text": [
      "original array: [[1 2 3 4]\n",
      " [5 6 7 8]]\n",
      "across rows\n",
      "min= [1 2 3 4]\n",
      "\n",
      "across columns\n",
      "min= [1 5]\n"
     ]
    }
   ],
   "source": [
    "import numpy as np\n",
    "arr=np.array([[1,2,3,4],[5,6,7,8]])\n",
    "print(\"original array:\",arr)\n",
    "print(\"across rows\")\n",
    "print(\"min=\",np.min(arr,axis=0))\n",
    "print()\n",
    "print(\"across columns\")\n",
    "print(\"min=\",np.min(arr,axis=1))"
   ]
  },
  {
   "cell_type": "markdown",
   "id": "5ddccc17",
   "metadata": {},
   "source": [
    "# max() FUNCTION"
   ]
  },
  {
   "cell_type": "code",
   "execution_count": 7,
   "id": "82b7e1e5",
   "metadata": {},
   "outputs": [
    {
     "name": "stdout",
     "output_type": "stream",
     "text": [
      "original array :  [[1 2 3 4]\n",
      " [5 6 7 8]]\n",
      "\n",
      "maximum :  8\n"
     ]
    }
   ],
   "source": [
    "import numpy as np\n",
    "arr = np.array([[1,2,3,4],[5,6,7,8]])\n",
    "print(\"original array : \",arr)\n",
    "print()\n",
    "print(\"maximum : \",np.max(arr))"
   ]
  },
  {
   "cell_type": "code",
   "execution_count": 9,
   "id": "75d7d1ec",
   "metadata": {},
   "outputs": [
    {
     "name": "stdout",
     "output_type": "stream",
     "text": [
      "original array :  [[1 2 3 4]\n",
      " [5 6 7 8]]\n",
      "Across Rows\n",
      "max = [5 6 7 8]\n",
      "\n",
      "Across Columns\n",
      "max = [4 8]\n"
     ]
    }
   ],
   "source": [
    "import numpy as np\n",
    "arr = np.array([[1,2,3,4],[5,6,7,8]])\n",
    "print(\"original array : \",arr)\n",
    "print(\"Across Rows\") #column wise\n",
    "print(\"max =\",np.max(arr , axis=0))\n",
    "print()\n",
    "print(\"Across Columns\") #Row wise\n",
    "print(\"max =\",np.max(arr , axis=1))"
   ]
  }
 ],
 "metadata": {
  "kernelspec": {
   "display_name": "Python 3 (ipykernel)",
   "language": "python",
   "name": "python3"
  },
  "language_info": {
   "codemirror_mode": {
    "name": "ipython",
    "version": 3
   },
   "file_extension": ".py",
   "mimetype": "text/x-python",
   "name": "python",
   "nbconvert_exporter": "python",
   "pygments_lexer": "ipython3",
   "version": "3.9.12"
  }
 },
 "nbformat": 4,
 "nbformat_minor": 5
}
